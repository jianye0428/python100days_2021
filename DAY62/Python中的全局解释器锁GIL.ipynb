{
 "metadata": {
  "language_info": {
   "codemirror_mode": {
    "name": "ipython",
    "version": 3
   },
   "file_extension": ".py",
   "mimetype": "text/x-python",
   "name": "python",
   "nbconvert_exporter": "python",
   "pygments_lexer": "ipython3",
   "version": "3.6.9"
  },
  "orig_nbformat": 2,
  "kernelspec": {
   "name": "python369jvsc74a57bd031f2aee4e71d21fbe5cf8b01ff0e069b9275f58929596ceb00d14d90e3e16cd6",
   "display_name": "Python 3.6.9 64-bit"
  },
  "metadata": {
   "interpreter": {
    "hash": "31f2aee4e71d21fbe5cf8b01ff0e069b9275f58929596ceb00d14d90e3e16cd6"
   }
  }
 },
 "nbformat": 4,
 "nbformat_minor": 2,
 "cells": [
  {
   "cell_type": "code",
   "execution_count": 4,
   "metadata": {},
   "outputs": [
    {
     "output_type": "stream",
     "name": "stdout",
     "text": [
      "单线程顺序执行total_time: 8.300863027572632\n",
      "多线程执行total_time: 8.437078714370728\n"
     ]
    }
   ],
   "source": [
    "import threading, time\n",
    "def my_counter():\n",
    "    i = 0\n",
    "    for _ in range(100000000):\n",
    "        i = i+1\n",
    "    return True\n",
    "\n",
    "def main1():\n",
    "    thread_ary = {}\n",
    "    start_time = time.time()\n",
    "    for tid in range(2):\n",
    "        t = threading.Thread(target=my_counter)\n",
    "        t.start()\n",
    "        t.join()  # 第一次循环的时候join方法引起主线程阻塞，但第二个线程并没有启动，所以两个线程是顺序执行的\n",
    "\n",
    "    print(\"单线程顺序执行total_time: {}\".format(time.time() - start_time))\n",
    "\n",
    "def main2():\n",
    "    thread_ary = {}\n",
    "    start_time = time.time()\n",
    "    for tid in range(2):\n",
    "        t = threading.Thread(target=my_counter)\n",
    "        t.start()\n",
    "        thread_ary[tid] = t\n",
    "\n",
    "    for i in range(2):\n",
    "        thread_ary[i].join()  # 两个线程均已启动，所以两个线程是并发的\n",
    "\n",
    "    print(\"多线程执行total_time: {}\".format(time.time() - start_time))\n",
    "\n",
    "if __name__ == \"__main__\":\n",
    "    main1()\n",
    "    main2()"
   ]
  },
  {
   "cell_type": "code",
   "execution_count": 5,
   "metadata": {},
   "outputs": [
    {
     "output_type": "stream",
     "name": "stdout",
     "text": [
      "time taken in seconds - >: 3.1089738449991273\n"
     ]
    }
   ],
   "source": [
    "import time\n",
    "COUNT = 50_000_000\n",
    "\n",
    "def count_down():\n",
    "   global COUNT\n",
    "   while COUNT > 0:\n",
    "       COUNT -= 1\n",
    "\n",
    "s = time.perf_counter()\n",
    "count_down()\n",
    "c = time.perf_counter() - s\n",
    "print('time taken in seconds - >:', c)\n",
    "\n",
    "\n"
   ]
  },
  {
   "cell_type": "code",
   "execution_count": 6,
   "metadata": {},
   "outputs": [
    {
     "output_type": "stream",
     "name": "stdout",
     "text": [
      "time taken in seconds - >: 4.607705032000013\n"
     ]
    }
   ],
   "source": [
    "import time\n",
    "from threading import Thread\n",
    "\n",
    "COUNT = 50_000_000\n",
    "\n",
    "def count_down():\n",
    "   global COUNT\n",
    "   while COUNT > 0:\n",
    "       COUNT -= 1\n",
    "\n",
    "s = time.perf_counter()\n",
    "t1 = Thread(target=count_down)\n",
    "t2 = Thread(target=count_down)\n",
    "t1.start()\n",
    "t2.start()\n",
    "t1.join()\n",
    "t2.join()\n",
    "c = time.perf_counter() - s\n",
    "print('time taken in seconds - >:', c)"
   ]
  },
  {
   "cell_type": "code",
   "execution_count": null,
   "metadata": {},
   "outputs": [],
   "source": []
  }
 ]
}