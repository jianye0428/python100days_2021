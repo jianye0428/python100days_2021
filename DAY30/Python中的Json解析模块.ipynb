{
 "metadata": {
  "language_info": {
   "codemirror_mode": {
    "name": "ipython",
    "version": 3
   },
   "file_extension": ".py",
   "mimetype": "text/x-python",
   "name": "python",
   "nbconvert_exporter": "python",
   "pygments_lexer": "ipython3",
   "version": "3.6.9"
  },
  "orig_nbformat": 2,
  "kernelspec": {
   "name": "python369jvsc74a57bd031f2aee4e71d21fbe5cf8b01ff0e069b9275f58929596ceb00d14d90e3e16cd6",
   "display_name": "Python 3.6.9 64-bit"
  },
  "metadata": {
   "interpreter": {
    "hash": "31f2aee4e71d21fbe5cf8b01ff0e069b9275f58929596ceb00d14d90e3e16cd6"
   }
  }
 },
 "nbformat": 4,
 "nbformat_minor": 2,
 "cells": [
  {
   "cell_type": "code",
   "execution_count": 2,
   "metadata": {},
   "outputs": [
    {
     "output_type": "stream",
     "name": "stdout",
     "text": [
      "<class 'dict'>\n"
     ]
    }
   ],
   "source": [
    "import json\n",
    "my_dict = {'a':'1','b':'2','c':'3','d':'4'}\n",
    "print(type(my_dict))"
   ]
  },
  {
   "cell_type": "code",
   "execution_count": 5,
   "metadata": {},
   "outputs": [
    {
     "output_type": "stream",
     "name": "stdout",
     "text": [
      "{\"a\": \"1\", \"b\": \"2\", \"c\": \"3\", \"d\": \"4\"}\n<class 'str'>\n"
     ]
    }
   ],
   "source": [
    "a = json.dumps(my_dict)\n",
    "print(a)\n",
    "print(type(a))"
   ]
  },
  {
   "cell_type": "code",
   "execution_count": 6,
   "metadata": {},
   "outputs": [
    {
     "output_type": "stream",
     "name": "stdout",
     "text": [
      "{'a': '1', 'b': '2', 'c': '3', 'd': '4'}\n<class 'dict'>\n"
     ]
    }
   ],
   "source": [
    "b = json.loads(a)\n",
    "print(b)\n",
    "print(type(b))"
   ]
  },
  {
   "cell_type": "code",
   "execution_count": 8,
   "metadata": {},
   "outputs": [
    {
     "output_type": "stream",
     "name": "stdout",
     "text": [
      "\"\\u4e2d\\u56fd\"\n"
     ]
    }
   ],
   "source": [
    "import json\n",
    "print(json.dumps(\"中国\"))"
   ]
  },
  {
   "cell_type": "code",
   "execution_count": 10,
   "metadata": {},
   "outputs": [
    {
     "output_type": "stream",
     "name": "stdout",
     "text": [
      "\"中国\"\n"
     ]
    }
   ],
   "source": [
    "print(json.dumps('中国', ensure_ascii=False))"
   ]
  },
  {
   "cell_type": "code",
   "execution_count": 12,
   "metadata": {},
   "outputs": [
    {
     "output_type": "stream",
     "name": "stdout",
     "text": [
      "{'a': '1', 'b': '2', 'c': '3', 'd': '4'}\n<class 'dict'>\n"
     ]
    }
   ],
   "source": [
    "import json\n",
    "my_dict = {'a':'1','b':'2','c':'3','d':'4'}\n",
    "json.dump(my_dict,open('a.txt','w'))\n",
    "print(json.load(open('a.txt','r')))\n",
    "print(type(json.load(open('a.txt','r'))))"
   ]
  },
  {
   "cell_type": "code",
   "execution_count": null,
   "metadata": {},
   "outputs": [],
   "source": []
  }
 ]
}