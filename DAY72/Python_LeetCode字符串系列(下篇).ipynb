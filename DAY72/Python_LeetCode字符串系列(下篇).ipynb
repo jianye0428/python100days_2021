{
 "metadata": {
  "language_info": {
   "codemirror_mode": {
    "name": "ipython",
    "version": 3
   },
   "file_extension": ".py",
   "mimetype": "text/x-python",
   "name": "python",
   "nbconvert_exporter": "python",
   "pygments_lexer": "ipython3",
   "version": "3.6.9"
  },
  "orig_nbformat": 2,
  "kernelspec": {
   "name": "python369jvsc74a57bd031f2aee4e71d21fbe5cf8b01ff0e069b9275f58929596ceb00d14d90e3e16cd6",
   "display_name": "Python 3.6.9 64-bit"
  },
  "metadata": {
   "interpreter": {
    "hash": "31f2aee4e71d21fbe5cf8b01ff0e069b9275f58929596ceb00d14d90e3e16cd6"
   }
  }
 },
 "nbformat": 4,
 "nbformat_minor": 2,
 "cells": [
  {
   "cell_type": "code",
   "execution_count": null,
   "metadata": {},
   "outputs": [],
   "source": [
    "#编写一个函数来查找字符串数组中的最长公共前缀。 \n",
    "# 如果不存在公共前缀，返回空字符串 \"\"。 \n",
    "# 示例 1: \n",
    "# 输入: [\"flower\",\"flow\",\"flight\"]\n",
    "#输出: \"fl\"\n",
    "# 示例 2: \n",
    "# 输入: [\"dog\",\"racecar\",\"car\"]\n",
    "#输出: \"\"\n",
    "#解释: 输入不存在公共前缀。\n",
    "# 说明: \n",
    "# 所有输入只包含小写字母 a-z 。 \n",
    "# Related Topics 字符串"
   ]
  },
  {
   "cell_type": "code",
   "execution_count": null,
   "metadata": {},
   "outputs": [],
   "source": [
    "class Solution:\n",
    "    def longestCommonPrefix(self, strs):\n",
    "        ans = ''\n",
    "        for i in zip(*strs):\n",
    "            if len(set(i)) == 1:\n",
    "                ans += i[0]\n",
    "            else:\n",
    "                break\n",
    "        return ans"
   ]
  },
  {
   "cell_type": "code",
   "execution_count": 3,
   "metadata": {},
   "outputs": [
    {
     "output_type": "stream",
     "name": "stdout",
     "text": [
      "('d', 'r', 'c')\n{'c', 'r', 'd'}\n('o', 'a', 'a')\n{'o', 'a'}\n('g', 'c', 'r')\n{'c', 'r', 'g'}\n"
     ]
    }
   ],
   "source": [
    "strs = [\"dog\",\"racecar\",\"car\"]\n",
    "for i in zip(*strs):\n",
    "    print(i)\n",
    "    print(set(i))"
   ]
  },
  {
   "cell_type": "code",
   "execution_count": 4,
   "metadata": {},
   "outputs": [
    {
     "output_type": "stream",
     "name": "stdout",
     "text": [
      "('f', 'f', 'f')\n{'f'}\n('l', 'l', 'l')\n{'l'}\n('o', 'o', 'i')\n{'o', 'i'}\n('w', 'w', 'g')\n{'w', 'g'}\n"
     ]
    }
   ],
   "source": [
    "strs = [\"flower\",\"flow\",\"flight\"]\n",
    "for i in zip(*strs):\n",
    "    print(i)\n",
    "    print(set(i))"
   ]
  },
  {
   "cell_type": "code",
   "execution_count": null,
   "metadata": {},
   "outputs": [],
   "source": []
  },
  {
   "cell_type": "code",
   "execution_count": null,
   "metadata": {},
   "outputs": [],
   "source": [
    "# LeetCode 第28题：实现 strStr()\n",
    "# 实现 strStr() 函数。\n",
    "# 给定一个 haystack 字符串和一个 needle 字符串，在 haystack 字符串中找出 needle 字符串出现的第一个位置 (从0开始)。如果不存在，则返回 -1。\n",
    "# 示例 1:\n",
    "# 输入: haystack = \"hello\", needle = \"ll\"\n",
    "#输出: 2\n",
    "# 示例 2:\n",
    "# 输入: haystack = \"aaaaa\", needle = \"bba\"\n",
    "#输出: -1\n",
    "# 说明:\n",
    "# 当 needle 是空字符串时，我们应当返回什么值呢？这是一个在面试中很好的问题。\n",
    "# 对于本题而言，当 needle 是空字符串时我们应当返回 0 。这与C语言的 strstr() 以及 Java的 indexOf() 定义相符。\n",
    "# Related Topics 双指针 字符串"
   ]
  },
  {
   "cell_type": "code",
   "execution_count": null,
   "metadata": {},
   "outputs": [],
   "source": [
    "class Solution:\n",
    "    def strStr(self,haystack,needle):\n",
    "        if needle in haystack:\n",
    "            num = haystack.index(needle)\n",
    "        else:\n",
    "            return -1\n",
    "        return num"
   ]
  },
  {
   "cell_type": "code",
   "execution_count": null,
   "metadata": {},
   "outputs": [],
   "source": [
    "# LeetCode 第67题： 二进制求和\n",
    "# 给你两个二进制字符串，返回它们的和（用二进制表示）。\n",
    "# 输入为 非空 字符串且只包含数字 1 和 0。\n",
    "# 示例 1:\n",
    "# 输入: a = \"11\", b = \"1\"\n",
    "# 输出: \"100\"\n",
    "# 示例 2:\n",
    "# 输入: a = \"1010\", b = \"1011\"\n",
    "# 输出: \"10101\"\n",
    "# 提示：\n",
    "# 每个字符串仅由字符 '0' 或 '1' 组成。\n",
    "# 1 <= a.length, b.length <= 10^4\n",
    "# 字符串如果不是 \"0\" ，就都不含前导零。\n",
    "# Related Topics 数学 字符串"
   ]
  },
  {
   "cell_type": "code",
   "execution_count": null,
   "metadata": {},
   "outputs": [],
   "source": [
    "class Solution:\n",
    "    def addBinary(self, a, b):\n",
    "        atmp = eval('0b' + a)\n",
    "        btmp = eval('0b' + b)\n",
    "        sumtmp = atmp + btmp\n",
    "        res = bin(sumtmp)\n",
    "        return res[2:]\n"
   ]
  },
  {
   "cell_type": "code",
   "execution_count": 5,
   "metadata": {},
   "outputs": [
    {
     "output_type": "stream",
     "name": "stdout",
     "text": [
      "0b101\n"
     ]
    }
   ],
   "source": [
    "a = 5\n",
    "print(bin(a))"
   ]
  },
  {
   "cell_type": "code",
   "execution_count": 6,
   "metadata": {},
   "outputs": [],
   "source": [
    "class Solution:\n",
    "    def addBinary(self,a,b):\n",
    "        atmp = eval('0b' + a)\n",
    "        btmp = eval('0b' + b)\n",
    "        while btmp:\n",
    "            ans = (atmp ^ btmp)\n",
    "\n",
    "            btmp = (atmp & btmp) << 1\n",
    "            atmp = ans\n",
    "        return bin(atmp[2:])"
   ]
  },
  {
   "cell_type": "code",
   "execution_count": null,
   "metadata": {},
   "outputs": [],
   "source": [
    "# LeetCode 第344题： 反转字符串\n",
    "# 编写一个函数，其作用是将输入的字符串反转过来。输入字符串以字符数组 char[] 的形式给出。\n",
    "# 不要给另外的数组分配额外的空间，你必须原地修改输入数组、使用 O(1) 的额外空间解决这一问题。\n",
    "# 你可以假设数组中的所有字符都是 ASCII 码表中的可打印字符。\n",
    "# 示例 1：\n",
    "# 输入：[\"h\",\"e\",\"l\",\"l\",\"o\"]\n",
    "#输出：[\"o\",\"l\",\"l\",\"e\",\"h\"]\n",
    "# 示例 2：\n",
    "# 输入：[\"H\",\"a\",\"n\",\"n\",\"a\",\"h\"]\n",
    "#输出：[\"h\",\"a\",\"n\",\"n\",\"a\",\"H\"]\n",
    "# Related Topics 双指针 字符串"
   ]
  },
  {
   "cell_type": "code",
   "execution_count": null,
   "metadata": {},
   "outputs": [],
   "source": [
    "class Solution:\n",
    "    def reverseString(self,s):\n",
    "        i,j = 0, len(s)-1\n",
    "        while i <= j:\n",
    "            s[i], s[j] = s[j], s[i]\n",
    "            i += 1\n",
    "            j -= 1\n",
    "\n",
    "\n",
    "class Solution:\n",
    "    def reverseString(self, s):\n",
    "        s.reverse()"
   ]
  },
  {
   "cell_type": "code",
   "execution_count": null,
   "metadata": {},
   "outputs": [],
   "source": [
    "# LeetCode 第557题： 反转字符串中的单词 III\n",
    "# 给定一个字符串，你需要反转字符串中每个单词的字符顺序，同时仍保留空格和单词的初始顺序。\n",
    "# 示例 1:\n",
    "#输入: \"Let's take LeetCode contest\"\n",
    "#输出: \"s'teL ekat edoCteeL tsetnoc\"\n",
    "# 注意：在字符串中，每个单词由单个空格分隔，并且字符串中不会有任何额外的空格。\n",
    "# Related Topics 字符串"
   ]
  },
  {
   "cell_type": "code",
   "execution_count": 9,
   "metadata": {},
   "outputs": [
    {
     "output_type": "stream",
     "name": "stdout",
     "text": [
      "s'teL ekat edoCteeL tsetnoc\n"
     ]
    }
   ],
   "source": [
    "class Solution(object):\n",
    "    def reverseWords(self, s):\n",
    "        return \" \".join(word[::-1] for word in s.split(\" \"))\n",
    "s = \"Let's take LeetCode contest\"\n",
    "solver = Solution()\n",
    "print(solver.reverseWords(s))"
   ]
  },
  {
   "cell_type": "code",
   "execution_count": 8,
   "metadata": {},
   "outputs": [
    {
     "output_type": "stream",
     "name": "stdout",
     "text": [
      "[\"Let's\", 'take', 'LeetCode', 'contest']\ns'teL\n"
     ]
    }
   ],
   "source": [
    "s = \"Let's take LeetCode contest\"\n",
    "print(s.split(\" \"))\n",
    "print(s.split(\" \")[0][::-1])"
   ]
  },
  {
   "cell_type": "code",
   "execution_count": 10,
   "metadata": {},
   "outputs": [],
   "source": [
    "class Solution:\n",
    "    def reverseWords(self, s):\n",
    "        return \" \".join(s.split(\" \")[::-1])[::-1]"
   ]
  },
  {
   "cell_type": "code",
   "execution_count": null,
   "metadata": {},
   "outputs": [],
   "source": []
  }
 ]
}