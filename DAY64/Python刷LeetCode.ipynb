{
 "metadata": {
  "language_info": {
   "codemirror_mode": {
    "name": "ipython",
    "version": 3
   },
   "file_extension": ".py",
   "mimetype": "text/x-python",
   "name": "python",
   "nbconvert_exporter": "python",
   "pygments_lexer": "ipython3",
   "version": "3.6.9"
  },
  "orig_nbformat": 2,
  "kernelspec": {
   "name": "python369jvsc74a57bd031f2aee4e71d21fbe5cf8b01ff0e069b9275f58929596ceb00d14d90e3e16cd6",
   "display_name": "Python 3.6.9 64-bit"
  },
  "metadata": {
   "interpreter": {
    "hash": "31f2aee4e71d21fbe5cf8b01ff0e069b9275f58929596ceb00d14d90e3e16cd6"
   }
  }
 },
 "nbformat": 4,
 "nbformat_minor": 2,
 "cells": [
  {
   "cell_type": "code",
   "execution_count": null,
   "metadata": {},
   "outputs": [],
   "source": [
    "#给定一个整数数组 nums 和一个目标值 target，请你在该数组中找出和为目标值的那 两个 整数，并返回他们的数组下标。\n",
    "#\n",
    "# 你可以假设每种输入只会对应一个答案。但是，数组中同一个元素不能使用两遍。\n",
    "#\n",
    "# 示例:\n",
    "#\n",
    "# 给定 nums = [2, 7, 11, 15], target = 9\n",
    "#\n",
    "#因为 nums[0] + nums[1] = 2 + 7 = 9\n",
    "#所以返回 [0, 1]\n",
    "#\n",
    "# Related Topics 数组 哈希表"
   ]
  },
  {
   "cell_type": "code",
   "execution_count": 2,
   "metadata": {},
   "outputs": [
    {
     "output_type": "stream",
     "name": "stdout",
     "text": [
      "[0, 1]\n"
     ]
    }
   ],
   "source": [
    "#列表解法\n",
    "def two_sum1(nums, target):\n",
    "    result = []\n",
    "    for i in range(len(nums)):\n",
    "        onenum = nums[i]\n",
    "        twonum = target - onenum\n",
    "        if twonum in nums:\n",
    "            j = nums.index(twonum)\n",
    "            if i != j:\n",
    "                result.append(i)\n",
    "                result.append(j)\n",
    "                return result\n",
    "nums = [2,7,11,15]\n",
    "target = 9\n",
    "print(two_sum1(nums,target))"
   ]
  },
  {
   "cell_type": "code",
   "execution_count": 4,
   "metadata": {},
   "outputs": [
    {
     "output_type": "stream",
     "name": "stdout",
     "text": [
      "[0, 1]\n"
     ]
    }
   ],
   "source": [
    "#列表解法\n",
    "def two_sum2(nums, target):\n",
    "    dict = {}\n",
    "    for i in range(len(nums)):\n",
    "        m = nums[i]\n",
    "        if target - m in dict:\n",
    "            return [dict[target-m],i]\n",
    "        dict[m]=i\n",
    "nums = [2,7,11,15]\n",
    "target = 9\n",
    "print(two_sum2(nums,target))"
   ]
  },
  {
   "cell_type": "code",
   "execution_count": 5,
   "metadata": {},
   "outputs": [
    {
     "output_type": "stream",
     "name": "stdout",
     "text": [
      "{2: 0, 7: 1, 11: 2, 15: 3}\n[0, 1]\n"
     ]
    }
   ],
   "source": [
    "#字典推导式\n",
    "def two_sum3(nums, target):\n",
    "    l = len(nums)\n",
    "    dict = {nums[i]:i for i in range(l)}\n",
    "    print(dict)\n",
    "    for j in range(l):\n",
    "        a = nums[j]\n",
    "        b = target - a\n",
    "        if b in dict and j!=dict[b]:\n",
    "            return[j, dict[b]]\n",
    "nums = [2,7,11,15]\n",
    "target = 9\n",
    "print(two_sum3(nums,target))"
   ]
  },
  {
   "cell_type": "code",
   "execution_count": null,
   "metadata": {},
   "outputs": [],
   "source": []
  }
 ]
}