{
 "metadata": {
  "language_info": {
   "codemirror_mode": {
    "name": "ipython",
    "version": 3
   },
   "file_extension": ".py",
   "mimetype": "text/x-python",
   "name": "python",
   "nbconvert_exporter": "python",
   "pygments_lexer": "ipython3",
   "version": "3.6.9"
  },
  "orig_nbformat": 2,
  "kernelspec": {
   "name": "python369jvsc74a57bd031f2aee4e71d21fbe5cf8b01ff0e069b9275f58929596ceb00d14d90e3e16cd6",
   "display_name": "Python 3.6.9 64-bit"
  },
  "metadata": {
   "interpreter": {
    "hash": "31f2aee4e71d21fbe5cf8b01ff0e069b9275f58929596ceb00d14d90e3e16cd6"
   }
  }
 },
 "nbformat": 4,
 "nbformat_minor": 2,
 "cells": [
  {
   "cell_type": "code",
   "execution_count": null,
   "metadata": {},
   "outputs": [],
   "source": [
    "#给定一个链表，两两交换其中相邻的节点，并返回交换后的链表。\n",
    "#\n",
    "# 你不能只是单纯的改变节点内部的值，而是需要实际的进行节点交换。\n",
    "# 示例:\n",
    "#\n",
    "# 给定 1->2->3->4, 你应该返回 2->1->4->3.\n",
    "#\n",
    "# Related Topics 链表"
   ]
  },
  {
   "cell_type": "code",
   "execution_count": null,
   "metadata": {},
   "outputs": [],
   "source": [
    "class ListNode:\n",
    "    def __init__(self, x):\n",
    "        self.val = x\n",
    "        self.next = None\n",
    "class Solution:\n",
    "    def swapPairs(self, head):\n",
    "        if head == None or head.next == None:\n",
    "            return head\n",
    "        prev, prev.next = self, head\n",
    "        while prev and prev.next and prev.next.next:\n",
    "            cur = prev.next\n",
    "            nnode = cur.next\n",
    "            prev.next = nnode\n",
    "            cur.next = nnode.next\n",
    "            nnode.next = cur\n",
    "            prev = cur\n",
    "            cur = cur.next\n",
    "            if cur == None:\n",
    "                nnode = None\n",
    "            else:\n",
    "                nnode = cur.next\n",
    "        return self.next"
   ]
  },
  {
   "cell_type": "code",
   "execution_count": null,
   "metadata": {},
   "outputs": [],
   "source": [
    "# LeetCode 第83题：删除排序链表中的重复元素\n",
    "#给定一个排序链表，删除所有重复的元素，使得每个元素只出现一次。\n",
    "# 示例 1:\n",
    "# 输入: 1->1->2\n",
    "#输出: 1->2\n",
    "# 示例 2:\n",
    "# 输入: 1->1->2->3->3\n",
    "#输出: 1->2->3\n",
    "# Related Topics 链表"
   ]
  },
  {
   "cell_type": "code",
   "execution_count": null,
   "metadata": {},
   "outputs": [],
   "source": []
  },
  {
   "cell_type": "code",
   "execution_count": null,
   "metadata": {},
   "outputs": [],
   "source": [
    "# Definition for singly-linked list.\n",
    "# class ListNode:\n",
    "#     def __init__(self, x):\n",
    "#         self.val = x\n",
    "#         self.next = None\n",
    "\n",
    "class Solution:\n",
    "    def deleteDuplicates(self, head):\n",
    "        h = head\n",
    "        while head and head.next:\n",
    "            if head.val == head.next.val:\n",
    "                head.next = head.next.next\n",
    "            else:\n",
    "                head=head.next\n",
    "        return h\n",
    "\n",
    "\n",
    "class Solution:\n",
    "    def deleteDuplicates(self, head):\n",
    "        cur = root = head\n",
    "        while head:\n",
    "            if head.val != cur.val:\n",
    "                cur.next = cur = head\n",
    "            head = cur.next = head.next\n",
    "        return root"
   ]
  },
  {
   "cell_type": "code",
   "execution_count": null,
   "metadata": {},
   "outputs": [],
   "source": [
    "# LeetCode 第148题： 排序链表（重要）\n",
    "#在 O(n log n) 时间复杂度和常数级空间复杂度下，对链表进行排序。\n",
    "# 示例 1:\n",
    "# 输入: 4->2->1->3\n",
    "#输出: 1->2->3->4\n",
    "# 示例 2: \n",
    "#\n",
    "# 输入: -1->5->3->4->0\n",
    "#输出: -1->0->3->4->5 \n",
    "# Related Topics 排序 链表\n"
   ]
  },
  {
   "cell_type": "code",
   "execution_count": 2,
   "metadata": {},
   "outputs": [
    {
     "output_type": "stream",
     "name": "stdout",
     "text": [
      "原链表的节点：\n节点4的值: 4\n节点7的值: 7\n节点6的值: 6\n节点9的值: 9\n节点12的值: 12\n\n排序之后的节点：\n节点4的值: 4\n节点6的值: 6\n节点7的值: 7\n节点9的值: 9\n节点12的值: 12\n"
     ]
    }
   ],
   "source": [
    "class ListNode:\n",
    "    def __init__(self, x):\n",
    "        self.val = x\n",
    "        self.next = None\n",
    "class Solution:\n",
    "    def sortList(self,head):\n",
    "        # if not head or not head.next:\n",
    "        if head == None or head.next == None:\n",
    "            return head\n",
    "        slow = head\n",
    "        fast = head\n",
    "\n",
    "        while fast.next and fast.next.next:\n",
    "            slow = slow.next\n",
    "            fast = fast.next.next\n",
    "        right = slow.next\n",
    "        slow.next = None # 需要对中点的链表进行隔断处理\n",
    "\n",
    "        l1 = self.sortList(head)\n",
    "        l2 = self.sortList(right)\n",
    "        return self.mergeTwoList(l1, l2)\n",
    "\n",
    "    def mergeTwoList(self, l1, l2):\n",
    "        if not l1 and not l2:\n",
    "            return None\n",
    "        if not l1:\n",
    "            return l2\n",
    "        if not l2:\n",
    "            return l1\n",
    "\n",
    "        head = head1 = ListNode(0)\n",
    "        while l1 and l2:\n",
    "            if l1.val <= l2.val:\n",
    "                head.next = l1\n",
    "                l1 = l1.next\n",
    "            else:\n",
    "                head.next = l2\n",
    "                l2 = l2.next\n",
    "            head = head.next\n",
    "        if not l1:\n",
    "            head.next = l2\n",
    "        if not l2:\n",
    "            head.next = l1\n",
    "        return head1.next\n",
    "\n",
    "if __name__ == \"__main__\":\n",
    "    n1 = ListNode(4)\n",
    "    n2 = ListNode(7)\n",
    "    n3 = ListNode(6)\n",
    "    n4 = ListNode(9)\n",
    "    n5 = ListNode(12)\n",
    "    m=n1\n",
    "    n1.next=n2\n",
    "    n2.next=n3\n",
    "    n3.next=n4\n",
    "    n4.next=n5\n",
    "    print('原链表的节点：')    \n",
    "    while m:\n",
    "        print('节点%d的值:'%(m.val),m.val)\n",
    "        m=m.next\n",
    "    print('\\n排序之后的节点：')\n",
    "\n",
    "    s=Solution()\n",
    "    s.sortList(n1)\n",
    "    while n1:\n",
    "        print('节点%d的值:'%(n1.val),n1.val)\n",
    "        n1=n1.next"
   ]
  },
  {
   "cell_type": "code",
   "execution_count": null,
   "metadata": {},
   "outputs": [],
   "source": [
    "# LeetCode 第 876题： 链表的中间结点（重要）\n",
    "# 输入：[1,2,3,4,5]\n",
    "#输出：此列表中的结点 3 (序列化形式：[3,4,5])\n",
    "#返回的结点值为 3 。 (测评系统对该结点序列化表述是 [3,4,5])。\n",
    "#注意，我们返回了一个 ListNode 类型的对象 ans，这样：\n",
    "#ans.val = 3, ans.next.val = 4, ans.next.next.val = 5, 以及 ans.next.next.next = NULL.\n",
    "# 示例 2： \n",
    "# 输入：[1,2,3,4,5,6]\n",
    "#输出：此列表中的结点 4 (序列化形式：[4,5,6])\n",
    "#由于该列表有两个中间结点，值分别为 3 和 4，我们返回第二个结点。\n",
    "# 提示： \n",
    "# 给定链表的结点数介于 1 和 100 之间。 \n",
    "# Related Topics 链表"
   ]
  },
  {
   "cell_type": "code",
   "execution_count": null,
   "metadata": {},
   "outputs": [],
   "source": [
    "# Definition for singly-linked list.\n",
    "class ListNode:\n",
    "    def __init__(self, x):\n",
    "        self.val = x\n",
    "        self.next = None\n",
    "class Solution:\n",
    "    def middleNode(self, head):\n",
    "        slow = head\n",
    "        fast = head\n",
    "        while fast and fast.next:\n",
    "            slow = slow.next\n",
    "            fast = fast.next.next\n",
    "        return slow"
   ]
  }
 ]
}