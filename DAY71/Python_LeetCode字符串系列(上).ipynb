{
 "metadata": {
  "language_info": {
   "codemirror_mode": {
    "name": "ipython",
    "version": 3
   },
   "file_extension": ".py",
   "mimetype": "text/x-python",
   "name": "python",
   "nbconvert_exporter": "python",
   "pygments_lexer": "ipython3",
   "version": "3.6.9"
  },
  "orig_nbformat": 2,
  "kernelspec": {
   "name": "python369jvsc74a57bd031f2aee4e71d21fbe5cf8b01ff0e069b9275f58929596ceb00d14d90e3e16cd6",
   "display_name": "Python 3.6.9 64-bit"
  },
  "metadata": {
   "interpreter": {
    "hash": "31f2aee4e71d21fbe5cf8b01ff0e069b9275f58929596ceb00d14d90e3e16cd6"
   }
  }
 },
 "nbformat": 4,
 "nbformat_minor": 2,
 "cells": [
  {
   "cell_type": "code",
   "execution_count": null,
   "metadata": {},
   "outputs": [],
   "source": [
    "# LeetCode 第3题：无重复字符的最长子串\n",
    "# 示例 1:\n",
    "# 输入: \"abcabcbb\"\n",
    "# 输出: 3\n",
    "#解释: 因为无重复字符的最长子串是 \"abc\"，所以其长度为 3。\n",
    "# 示例 2:\n",
    "# 输入: \"bbbbb\"\n",
    "#输出: 1\n",
    "#解释: 因为无重复字符的最长子串是 \"b\"，所以其长度为 1。\n",
    "# 示例 3\n",
    "# 输入: \"pwwkew\"\n",
    "#输出: 3\n",
    "#解释: 因为无重复字符的最长子串是 \"wke\"，所以其长度为 3。\n",
    "# 请注意，你的答案必须是 子串 的长度，\"pwke\" 是一个子序列，不是子串。\n",
    "# Related Topics 哈希表 双指针 字符串 Sliding Window"
   ]
  },
  {
   "cell_type": "code",
   "execution_count": null,
   "metadata": {},
   "outputs": [],
   "source": [
    "# sliding window\n",
    "class Solution:\n",
    "    def lengthofLongestSubstring(self,s):\n",
    "        d, res, start = {}, 0, 0\n",
    "        for i, ch in enumerate(s):\n",
    "            if ch in d:\n",
    "                start = max(start, d[ch]+1)\n",
    "            res = max(res, i - start + 1)\n",
    "            d[ch] = i\n",
    "        print(res)\n",
    "        return res\n",
    "    "
   ]
  },
  {
   "cell_type": "code",
   "execution_count": 1,
   "metadata": {},
   "outputs": [
    {
     "output_type": "stream",
     "name": "stdout",
     "text": [
      "0\nj\n1\ni\n2\na\n3\nn\n"
     ]
    }
   ],
   "source": [
    "#\n",
    "class Solution:\n",
    "    def lengthofLongestSubstring(self,s):\n",
    "        if s == \"\":\n",
    "            return 0 \n",
    "        res = 1\n",
    "        i = 0\n",
    "        for j in range(1, len(s)):\n",
    "            if s[j] not in s[i:j]:\n",
    "                res = max(res, j+1-i)\n",
    "            else:\n",
    "                i += s[i:j].index(s[j]) + 1"
   ]
  },
  {
   "cell_type": "code",
   "execution_count": 9,
   "metadata": {},
   "outputs": [
    {
     "output_type": "stream",
     "name": "stdout",
     "text": [
      "3\n"
     ]
    }
   ],
   "source": [
    "s = 'jiasddfsfkd'\n",
    "print(s[1:7].index(s[4]))"
   ]
  },
  {
   "cell_type": "code",
   "execution_count": null,
   "metadata": {},
   "outputs": [],
   "source": [
    "#请你来实现一个 \n",
    "# 函数，使其能将字符串转换成整数。\n",
    "# 首先，该函数会根据需要丢弃无用的开头空格字符，直到寻找到第一个非空格的字符为止。接下来的转化规则如下：\n",
    "# 如果第一个非空字符为正或者负号时，则将该符号与之后面尽可能多的连续数字字符组合起来，形成一个有符号整数。\n",
    "# 假如第一个非空字符是数字，则直接将其与之后连续的数字字符组合起来，形成一个整数。\n",
    "# 该字符串在有效的整数部分之后也可能会存在多余的字符，那么这些字符可以被忽略，它们对函数不应该造成影响。\n",
    "# 注意：假如该字符串中的第一个非空格字符不是一个有效整数字符、字符串为空或字符串仅包含空白字符时，则你的函数不需要进行转换，即无法进行有效转换。\n",
    "# 在任何情况下，若函数不能进行有效的转换时，请返回 0 。\n",
    "# 提示：\n",
    "# 本题中的空白字符只包括空格字符 ' ' 。\n",
    "# 假设我们的环境只能存储 32 位大小的有符号整数，那么其数值范围为 [−231, 231 − 1]。如果数值超过这个范围，请返回 INT_MAX (231 − 1) 或 INT_MIN (−231) 。\n",
    "# 示例 1:\n",
    "# 输入: \"42\"\n",
    "#输出: 42\n",
    "# 示例 2:\n",
    "#\n",
    "# 输入: \" -42\"\n",
    "#输出: -42\n",
    "#解释: 第一个非空白字符为 '-', 它是一个负号。\n",
    "# 我们尽可能将负号与后面所有连续出现的数字组合起来，最后得到 -42 。\n",
    "# 示例 3:\n",
    "# 输入: \"4193 with words\"\n",
    "#输出: 4193\n",
    "#解释: 转换截止于数字 '3' ，因为它的下一个字符不为数字。\n",
    "# 示例 4:\n",
    "# 输入: \"words and 987\"\n",
    "#输出: 0\n",
    "#解释: 第一个非空字符是 'w', 但它不是数字或正、负号。\n",
    "# 因此无法执行有效的转换。\n",
    "#\n",
    "# 示例 5:\n",
    "# 输入: \"-91283472332\"\n",
    "#输出: -2147483648\n",
    "#解释: 数字 \"-91283472332\" 超过 32 位有符号整数范围。\n",
    "# 因此返回 INT_MIN (−231) 。\n",
    "# Related Topics 数学 字符串"
   ]
  },
  {
   "cell_type": "code",
   "execution_count": 10,
   "metadata": {},
   "outputs": [],
   "source": [
    "class Solution:\n",
    "    def myAtoi(self, s):\n",
    "        return max(min(int(*re.findall('^[\\+\\-]?\\d+', s.lstrip())), 2**31 - 1), -2**31)"
   ]
  },
  {
   "cell_type": "code",
   "execution_count": 21,
   "metadata": {},
   "outputs": [
    {
     "output_type": "stream",
     "name": "stdout",
     "text": [
      "231231234\n"
     ]
    }
   ],
   "source": [
    "class Solution:\n",
    "    def myAtoi(self, str):\n",
    "        str = str.strip()\n",
    "        if len(str) == 0: return 0\n",
    "        strlist = list(str.split(' ')[0])\n",
    "        for i in range(1, len(strlist)):\n",
    "            if strlist[i] < '0' or strlist[i] > '9':\n",
    "                strlist[i] = ' '\n",
    "                break\n",
    "            str = ''.join(strlist).split(' ')[0]\n",
    "            try:\n",
    "                ret = int(str)\n",
    "            except:\n",
    "                return 0\n",
    "            if ret > 2147483647: \n",
    "                return 2147483647\n",
    "            elif ret < -2147483648: \n",
    "                return -2147483648\n",
    "            else: \n",
    "                return ret\n",
    "s = \"231231234\"\n",
    "solver = Solution()\n",
    "print(solver.myAtoi(s))"
   ]
  },
  {
   "cell_type": "code",
   "execution_count": 53,
   "metadata": {},
   "outputs": [
    {
     "output_type": "stream",
     "name": "stdout",
     "text": [
      "['j', 'a', 'i', 'n']\n['jain']\n"
     ]
    }
   ],
   "source": []
  },
  {
   "cell_type": "code",
   "execution_count": null,
   "metadata": {},
   "outputs": [],
   "source": [
    "'''\n",
    "给定一个仅包含数字 2-9 的字符串，返回所有它能表示的字母组合。\n",
    "给出数字到字母的映射如下（与电话按键相同）。注意 1 不对应任何字母。\n",
    "示例:\n",
    "输入：\"23\"\n",
    "输出：[\"ad\", \"ae\", \"af\", \"bd\", \"be\", \"bf\", \"cd\", \"ce\", \"cf\"].\n",
    "tb = ['abc', 'def', 'ghi', 'jkl', 'mno', 'pqrs', 'tuv', 'wxyz']\n",
    "'''\n",
    "\n",
    "class Solution(object):\n",
    "    def letterCombination(self, digits):\n",
    "        \"\"\"\n",
    "        : type digits: str\n",
    "        : rtype: list[str]\n",
    "        \"\"\"\n",
    "        phone = {\n",
    "            '2':['a','b','c'],\n",
    "            '3':['d','e','f'],\n",
    "            '4':['g','h','l'],\n",
    "            '5':['j','k','l'],\n",
    "            '6':['m','n','o'],\n",
    "            '7':['p','q','r','s'],\n",
    "            '8':['t','u','v'],\n",
    "            '9':['w','x','y','z']\n",
    "        }\n",
    "\n",
    "    def backtrack(conbination, next_digits):\n",
    "        if len(next_digits) == 0:\n",
    "            return output.append(combination)\n",
    "        else:\n",
    "            for letter in phone[next_digits[0]]:\n",
    "                backtrack(combination+letter, next_digits[1:])\n",
    "    output = []\n",
    "    if digits:\n",
    "        backtrack('',digits)\n",
    "    return output"
   ]
  },
  {
   "cell_type": "code",
   "execution_count": null,
   "metadata": {},
   "outputs": [],
   "source": [
    "class Solution:\n",
    "    def letterCombination(self, digits):\n",
    "        conversion={'2':'abc','3':'def','4':'ghi','5':'jkl','6':'mno','7':'pqrs','8':'tuv','9':'wxyz'}\n",
    "        if len(digits)==0:\n",
    "            return []\n",
    "        product = ['']\n",
    "        for k in digits:\n",
    "            product = [i+j for i in product for j in conversion[k]]\n",
    "        return product"
   ]
  },
  {
   "cell_type": "code",
   "execution_count": 6,
   "metadata": {},
   "outputs": [
    {
     "output_type": "stream",
     "name": "stdout",
     "text": [
      "False\n"
     ]
    }
   ],
   "source": [
    "'''\n",
    "给定一个只包括 '('，')'，'{'，'}'，'['，']' 的字符串，判断字符串是否有效。\n",
    "有效字符串需满足：\n",
    "    左括号必须用相同类型的右括号闭合。\n",
    "    左括号必须以正确的顺序闭合。\n",
    "    注意空字符串可被认为是有效字符串。\n",
    "输入: \"{[]}\"\n",
    "输出: true\n",
    "'''\n",
    "def isValid(s):\n",
    "    \"\"\"\n",
    "    :type s:str\n",
    "    :rtype: bool\n",
    "    \"\"\"\n",
    "    stack = []\n",
    "    paren_map = {')':'(',']':'[','}':'{'}\n",
    "    for c in s:\n",
    "        if c not in paren_map:\n",
    "            stack.append(c)\n",
    "        elif not stack or paren_map[c] != stack.pop():\n",
    "            return False\n",
    "    return not stack\n",
    "s = \"({[}])\"\n",
    "print(isValid(s))\n",
    "\n"
   ]
  },
  {
   "cell_type": "code",
   "execution_count": 4,
   "metadata": {},
   "outputs": [
    {
     "output_type": "stream",
     "name": "stdout",
     "text": [
      "False\n"
     ]
    }
   ],
   "source": [
    "class Solution:\n",
    "    def isValid(self, s):\n",
    "        \"\"\"\n",
    "        :type s:str\n",
    "        :rtype: bool\n",
    "        \"\"\"\n",
    "        n = len(s)\n",
    "        if n == 0:\n",
    "            return True\n",
    "        if n % 2 != 0:\n",
    "            return False\n",
    "        while '()' in s or '{}' in s or '[]' in s:\n",
    "            s = s.replace('{}','').replace('()','').replace('[]','')\n",
    "        return s == ''\n",
    "s = \"({[}])\"\n",
    "solver = Solution()\n",
    "print(solver.isValid(s))"
   ]
  },
  {
   "cell_type": "code",
   "execution_count": 2,
   "metadata": {},
   "outputs": [
    {
     "output_type": "stream",
     "name": "stdout",
     "text": [
      "False\n"
     ]
    }
   ],
   "source": [
    "s = '({})'\n",
    "print('()' in s)"
   ]
  },
  {
   "cell_type": "code",
   "execution_count": null,
   "metadata": {},
   "outputs": [],
   "source": [
    "# LeetCode 第125题：验证回文串\n",
    "# #给定一个字符串，验证它是否是回文串，只考虑字母和数字字符，可以忽略字母的大小写。\n",
    "# 说明：本题中，我们将空字符串定义为有效的回文串。\n",
    "# 示例 1:\n",
    "# 输入: \"A man, a plan, a canal: Panama\"\n",
    "#输出: true\n",
    "# 示例 2:\n",
    "# 输入: \"race a car\"\n",
    "#输出: false\n",
    "# Related Topics 双指针 字符串"
   ]
  },
  {
   "cell_type": "code",
   "execution_count": null,
   "metadata": {},
   "outputs": [],
   "source": [
    "import re\n",
    "class Solution:\n",
    "    def isPalindrome(self, s):\n",
    "        s = re.sub(r'[^a-z0-9]','',s.strip().lower())\n",
    "        return s == s[::-1]\n"
   ]
  },
  {
   "cell_type": "code",
   "execution_count": null,
   "metadata": {},
   "outputs": [],
   "source": [
    "class Solution:\n",
    "    def isPalindrome(self, s):\n",
    "        s = ''.join(filter(str.isalnum, s.lower()))\n",
    "        return s == s[::-1]"
   ]
  },
  {
   "cell_type": "code",
   "execution_count": 12,
   "metadata": {},
   "outputs": [
    {
     "output_type": "stream",
     "name": "stdout",
     "text": [
      "acab\nacab\nbaca\n"
     ]
    }
   ],
   "source": [
    "import re\n",
    "s = \"aca，b\"\n",
    "print(re.sub(r'[^a-z0-9]','',s.strip().lower()))\n",
    "s = ''.join(filter(str.isalnum, s.lower()))\n",
    "print(s)\n",
    "print(s[::-1])"
   ]
  },
  {
   "cell_type": "code",
   "execution_count": null,
   "metadata": {},
   "outputs": [],
   "source": []
  }
 ]
}