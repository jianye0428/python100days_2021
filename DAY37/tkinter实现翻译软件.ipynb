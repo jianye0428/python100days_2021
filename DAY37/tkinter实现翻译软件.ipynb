{
 "metadata": {
  "language_info": {
   "codemirror_mode": {
    "name": "ipython",
    "version": 3
   },
   "file_extension": ".py",
   "mimetype": "text/x-python",
   "name": "python",
   "nbconvert_exporter": "python",
   "pygments_lexer": "ipython3",
   "version": "3.6.9"
  },
  "orig_nbformat": 2,
  "kernelspec": {
   "name": "python369jvsc74a57bd031f2aee4e71d21fbe5cf8b01ff0e069b9275f58929596ceb00d14d90e3e16cd6",
   "display_name": "Python 3.6.9 64-bit"
  },
  "metadata": {
   "interpreter": {
    "hash": "31f2aee4e71d21fbe5cf8b01ff0e069b9275f58929596ceb00d14d90e3e16cd6"
   }
  }
 },
 "nbformat": 4,
 "nbformat_minor": 2,
 "cells": [
  {
   "cell_type": "code",
   "execution_count": 4,
   "metadata": {},
   "outputs": [
    {
     "output_type": "stream",
     "name": "stdout",
     "text": [
      "silly\n",
      "love\n",
      "shit\n"
     ]
    }
   ],
   "source": [
    "import requests\n",
    "from tkinter import *\n",
    "from tkinter import messagebox\n",
    "import time\n",
    "\n",
    "def translation():\n",
    "    #接受用户信息\n",
    "    content = entry.get()\n",
    "    if content == \" \":\n",
    "        messagebox.showinfo('提示','请输入要翻译的内容')\n",
    "    else:\n",
    "        url = 'http://fanyi.youdao.com/translate?smartresult=dict&smartresult=rule'\n",
    "        data  ={\n",
    "            'i':content,\n",
    "            'from': 'AUTO',\n",
    "            'to': 'AUTO',\n",
    "            'smartresult': 'dict',\n",
    "            'client': 'fanyideskweb',\n",
    "            # 时间戳  14位\n",
    "            # 'salt': '15568459610827',\n",
    "            # 'sign': '9494fda01d62399b1a3476280a82c990',\n",
    "            # 时间戳13位\n",
    "            # 'ts': '1556845961082',\n",
    "            # 'bv': 'd6c3cd962e29b66abe48fcb8f4dd7f7d',\n",
    "            'doctype': 'json',\n",
    "            'version': '2.1',\n",
    "            'keyfrom': 'fanyi.web',\n",
    "            'action': 'FY_BY_REALTlME',\n",
    "        }\n",
    "        result = requests.post(url,data)\n",
    "        tarn = result.json()['translateResult'][0][0]['tgt']\n",
    "        res.set(tarn)\n",
    "        print(tarn)\n",
    "# 创建窗口\n",
    "root = Tk()\n",
    "# 窗口标题\n",
    "root.title('翻译软件')\n",
    "\n",
    "# 窗口大小 小写的x 不是370*100\n",
    "root.geometry('370x100')\n",
    "# 窗口位置\n",
    "root.geometry('+500+300')\n",
    "# root.geometry('300x100+500+300')\n",
    "\n",
    "# 标签控件 font = ('微软雅黑',12)\n",
    "label = Label(root, text = '输入要翻译的文字')\n",
    "\n",
    "# 定位  pack 包  place 位置\n",
    "label.grid(row=0,column =0)\n",
    "# fg = 'red' 字体颜色\n",
    "label1 = Label(root,text ='翻译之后的结果:')\n",
    "label1.grid(row =1,column= 0)\n",
    "# 输入控件\n",
    "entry = Entry(root,font =('微软雅黑',15))\n",
    "entry.grid(row=0,column = 1)\n",
    "# 翻译之后的结果\n",
    "\n",
    "\n",
    "res = StringVar()\n",
    "\n",
    "entry1 = Entry(root,font=('微软雅黑',15),textvariable=res)\n",
    "entry1.grid(row=1,column = 1)\n",
    "# 点击按钮\n",
    "\n",
    "button = Button(root,text=\"翻译\",width=10,command = translation)\n",
    "# sticky 对齐方式 N S E W\n",
    "button.grid(row=2,column=0,sticky=W)\n",
    "\n",
    "button1 = Button(root,text  ='退出',width=10,command = root.quit)\n",
    "button1.grid(row=2,column = 1,sticky=E)\n",
    "\n",
    "# 消息循环\n",
    "root.mainloop()"
   ]
  },
  {
   "cell_type": "code",
   "execution_count": null,
   "metadata": {},
   "outputs": [],
   "source": []
  }
 ]
}