{
 "cells": [
  {
   "cell_type": "code",
   "execution_count": null,
   "metadata": {},
   "outputs": [],
   "source": [
    "# 一、数字"
   ]
  },
  {
   "cell_type": "code",
   "execution_count": 3,
   "metadata": {},
   "outputs": [
    {
     "name": "stdout",
     "output_type": "stream",
     "text": [
      "8\n"
     ]
    }
   ],
   "source": [
    "# 1. 求绝对值\n",
    "print(abs(-8))"
   ]
  },
  {
   "cell_type": "code",
   "execution_count": 4,
   "metadata": {},
   "outputs": [
    {
     "name": "stdout",
     "output_type": "stream",
     "text": [
      "0b1010\n",
      "0o11\n",
      "0xf\n"
     ]
    }
   ],
   "source": [
    "# 2. 进制转化\n",
    "# 十进制转二进制\n",
    "print(bin(10))\n",
    "# 十进制转八进制\n",
    "print(oct(9))\n",
    "# 十进制转十六进制\n",
    "print(hex(15))"
   ]
  },
  {
   "cell_type": "code",
   "execution_count": 8,
   "metadata": {},
   "outputs": [
    {
     "name": "stdout",
     "output_type": "stream",
     "text": [
      "A\n",
      "65\n"
     ]
    }
   ],
   "source": [
    "# 3. 整数和ASCII互转\n",
    "print(chr(65))\n",
    "\n",
    "print(ord('A'))"
   ]
  },
  {
   "cell_type": "code",
   "execution_count": 11,
   "metadata": {},
   "outputs": [
    {
     "name": "stdout",
     "output_type": "stream",
     "text": [
      "False\n",
      "True\n"
     ]
    }
   ],
   "source": [
    "# 4. 元素都为真检查\n",
    "# 所有元素都为真，返回True， 否则返回 False\n",
    "print(all([1,3,6,0]))\n",
    "print(all([1,2,4,5]))"
   ]
  },
  {
   "cell_type": "code",
   "execution_count": 13,
   "metadata": {},
   "outputs": [
    {
     "name": "stdout",
     "output_type": "stream",
     "text": [
      "True\n",
      "False\n"
     ]
    }
   ],
   "source": [
    "# 5. 元素至少有一个为真检查\n",
    "print(any([1,0,0,0,0]))\n",
    "print(any([0,0,0,0,0]))"
   ]
  },
  {
   "cell_type": "code",
   "execution_count": 14,
   "metadata": {},
   "outputs": [
    {
     "name": "stdout",
     "output_type": "stream",
     "text": [
      "True\n",
      "False\n",
      "True\n"
     ]
    }
   ],
   "source": [
    "# 6. 判断是真是假\n",
    "print(bool([0,0,0]))\n",
    "print(bool([]))\n",
    "print(bool([1,0,1]))"
   ]
  },
  {
   "cell_type": "code",
   "execution_count": 15,
   "metadata": {},
   "outputs": [
    {
     "name": "stdout",
     "output_type": "stream",
     "text": [
      "(1+2j)\n"
     ]
    }
   ],
   "source": [
    "# 7. 创建复数\n",
    "print(complex(1,2))"
   ]
  },
  {
   "cell_type": "code",
   "execution_count": 16,
   "metadata": {},
   "outputs": [
    {
     "name": "stdout",
     "output_type": "stream",
     "text": [
      "(3, 1)\n"
     ]
    }
   ],
   "source": [
    "# 8. 取商和取余\n",
    "print(divmod(10,3))"
   ]
  },
  {
   "cell_type": "code",
   "execution_count": 17,
   "metadata": {},
   "outputs": [
    {
     "name": "stdout",
     "output_type": "stream",
     "text": [
      "3.0\n"
     ]
    }
   ],
   "source": [
    "# 9. 转为浮点型\n",
    "print(float(3))"
   ]
  },
  {
   "cell_type": "code",
   "execution_count": 22,
   "metadata": {},
   "outputs": [
    {
     "name": "stdout",
     "output_type": "stream",
     "text": [
      "12\n",
      "15\n"
     ]
    }
   ],
   "source": [
    "# 10. 转为整形\n",
    "# int(x, base =10) , x可能为字符串或数值，将x 转换为一个普通整数。如果参数是字符串，那么它可能包含符号和小数点。如果超出了普通整数的表示范围，一个长整数被返回。\n",
    "print(int('12',10))\n",
    "print(int('0xf',16))\n",
    "#base代表字符进制"
   ]
  },
  {
   "cell_type": "code",
   "execution_count": 23,
   "metadata": {},
   "outputs": [
    {
     "name": "stdout",
     "output_type": "stream",
     "text": [
      "0\n"
     ]
    }
   ],
   "source": [
    "# 11. 次幂\n",
    "# base为底的exp次幂，如果mod给出，取余\n",
    "print(pow(3,2,3))\n"
   ]
  },
  {
   "cell_type": "code",
   "execution_count": 26,
   "metadata": {},
   "outputs": [
    {
     "name": "stdout",
     "output_type": "stream",
     "text": [
      "10.022\n",
      "10.1\n"
     ]
    }
   ],
   "source": [
    "# 12. 四舍五入\n",
    "# 四舍五入，ndigits代表小数点后保留几位：\n",
    "print(round(10.022222,3))\n",
    "print(round(10.05,1))"
   ]
  },
  {
   "cell_type": "code",
   "execution_count": 28,
   "metadata": {},
   "outputs": [
    {
     "name": "stdout",
     "output_type": "stream",
     "text": [
      "False\n",
      "True\n"
     ]
    }
   ],
   "source": [
    "# 13. 链式比较\n",
    "i = 3\n",
    "print(1<i<3)\n",
    "print(1<i<=3)"
   ]
  },
  {
   "cell_type": "code",
   "execution_count": null,
   "metadata": {},
   "outputs": [],
   "source": [
    "# 二、字符串"
   ]
  },
  {
   "cell_type": "code",
   "execution_count": 29,
   "metadata": {},
   "outputs": [
    {
     "name": "stdout",
     "output_type": "stream",
     "text": [
      "b'apple'\n"
     ]
    }
   ],
   "source": [
    "# 14. 字符串转字节\n",
    "s = \"apple\"\n",
    "print(bytes(s,encoding='utf-8'))"
   ]
  },
  {
   "cell_type": "code",
   "execution_count": 30,
   "metadata": {},
   "outputs": [
    {
     "name": "stdout",
     "output_type": "stream",
     "text": [
      "100\n",
      "[]\n",
      "()\n"
     ]
    }
   ],
   "source": [
    "# 15. 任意对象转为字符串\n",
    "i = 100\n",
    "print(str(i))\n",
    "\n",
    "print(str([]))\n",
    "\n",
    "print(str(tuple()))"
   ]
  },
  {
   "cell_type": "code",
   "execution_count": 34,
   "metadata": {},
   "outputs": [
    {
     "name": "stdout",
     "output_type": "stream",
     "text": [
      "<code object <module> at 0x7fa6101f3660, file \"<string>\", line 1>\n",
      "helloworld\n",
      "None\n"
     ]
    }
   ],
   "source": [
    "# 16. 执行字符串表示的代码\n",
    "# 将字符串编译成python能识别或可执行的代码，也可以将文字读成字符串再编译。\n",
    "\n",
    "s = \"print('helloworld')\"\n",
    "r = compile(s, \"<string>\",\"exec\")\n",
    "print(r)\n",
    "print(exec(r))"
   ]
  },
  {
   "cell_type": "code",
   "execution_count": 35,
   "metadata": {},
   "outputs": [
    {
     "name": "stdout",
     "output_type": "stream",
     "text": [
      "9\n"
     ]
    }
   ],
   "source": [
    "# 17. 计算表达式\n",
    "s = \"1 + 3 + 5\"\n",
    "print(eval(s))\n"
   ]
  },
  {
   "cell_type": "code",
   "execution_count": 36,
   "metadata": {},
   "outputs": [
    {
     "name": "stdout",
     "output_type": "stream",
     "text": [
      "i am tom, age19\n"
     ]
    }
   ],
   "source": [
    "# 18. 字符串格式化　\n",
    "# 格式化输出字符串，format(value, format_spec)实质上是调用了value的__format__(format_spec)方法。\n",
    "\n",
    "print(\"i am {0}, age {1}\".format(\"tom\",19))\n",
    "#3.1415926\t{:.2f}\t3.14\t保留小数点后两位\n",
    "#3.1415926\t{:+.2f}\t+3.14\t带符号保留小数点后两位\n",
    "#-1\t{:+.2f}\t-1.00\t带符号保留小数点后两位\n",
    "#2.71828\t{:.0f}\t3\t不带小数\n",
    "#5\t{:0>2d}\t05\t数字补零 (填充左边, 宽度为2)\n",
    "#5\t{:x<4d}\t5xxx\t数字补x (填充右边, 宽度为4)\n",
    "#10\t{:x<4d}\t10xx\t数字补x (填充右边, 宽度为4)\n",
    "#1000000\t{:,}\t1,000,000\t以逗号分隔的数字格式\n",
    "#0.25\t{:.2%}\t25.00%\t百分比格式\n",
    "#1000000000\t{:.2e}\t1.00e+09\t指数记法\n",
    "#18\t{:>10d}\t' 18'\t右对齐 (默认, 宽度为10)\n",
    "#18\t{:<10d}\t'18 '\t左对齐 (宽度为10)\n",
    "#18\t{:^10d}\t' 18 '\t中间对齐 (宽度为10)"
   ]
  },
  {
   "cell_type": "code",
   "execution_count": null,
   "metadata": {},
   "outputs": [],
   "source": [
    "# 三、 函数"
   ]
  },
  {
   "cell_type": "code",
   "execution_count": 40,
   "metadata": {},
   "outputs": [
    {
     "name": "stdout",
     "output_type": "stream",
     "text": [
      "[1, 1, 2, 3, 4]\n",
      "[{'name': 'xiaoming', 'age': 18, 'gender': 'male'}, {'name': 'xiaohong', 'age': 20, 'gender': 'female'}]\n"
     ]
    }
   ],
   "source": [
    "# 19. 拿来就用的排序函数\n",
    "a = [1,4,2,3,1]\n",
    "print(sorted(a))\n",
    "\n",
    "b = [{'name':'xiaoming','age':18,'gender':'male'},{'name':'xiaohong','age':20,'gender':'female'}]\n",
    "\n",
    "print(sorted(b,key=lambda x:x['age'],reverse=False))"
   ]
  },
  {
   "cell_type": "code",
   "execution_count": 1,
   "metadata": {},
   "outputs": [
    {
     "name": "stdout",
     "output_type": "stream",
     "text": [
      "11\n",
      "21\n"
     ]
    }
   ],
   "source": [
    "# 20. 求和函数\n",
    "a = [1,4,2,3,1]\n",
    "print(sum(a))\n",
    "print(sum(a,10))#求和的初始值为10"
   ]
  },
  {
   "cell_type": "code",
   "execution_count": 2,
   "metadata": {},
   "outputs": [],
   "source": [
    "# 21. nonlocal用于内嵌函数中\n",
    "# 关键词nonlocal常用于函数嵌套中，声明变量i为非局部变量；如果不声明，i+=1表明i为函数wrapper内的局部变量，因为在i+=1引用(reference)时,i未被声明，所以会报unreferenced variable的错误。\n",
    "\n",
    "import time\n",
    "def excepter(f):\n",
    "    i = 0 \n",
    "    t1 = time.time()\n",
    "    def wrapper():\n",
    "        try:\n",
    "            f()\n",
    "        except Exception as e:\n",
    "            nonlocal i\n",
    "            i += 1\n",
    "            print(f'{e.args[0]}:{i}')\n",
    "            t2 = time.time()\n",
    "            if i == n:\n",
    "                print(f'spending time:{round(t1-t1,2)}')\n",
    "        return wrapper"
   ]
  },
  {
   "cell_type": "code",
   "execution_count": null,
   "metadata": {},
   "outputs": [],
   "source": [
    "# 22. global 申明全局变量\n",
    "# 先回答为什么要有global，一个变量被多个函数引用，想让全局变量被所有函数共享。有的伙伴可能会想这还不简单，这样写：\n",
    "i = 5\n",
    "def f():\n",
    "    print(i)\n",
    "def g():\n",
    "    print(i)\n",
    "    pass\n",
    "f()\n",
    "g()\n",
    "\n",
    "# f和g两个函数都能共享变量i，程序没有报错，所以他们依然不明白为什么要用global.\n",
    "\n",
    "# 但是，如果我想要有个函数对i递增，这样：\n",
    "\n",
    "def h():\n",
    "    i += 1\n",
    "h()\n",
    "\n",
    "# 此时执行程序，bang, 出错了！抛出异常：UnboundLocalError，原来编译器在解释i+=1时会把i解析为函数h()内的局部变量，很显然在此函数内，编译器找不到对变量i的定义，所以会报错。\n",
    "\n",
    "# global就是为解决此问题而被提出，在函数h内，显式地告诉编译器i为全局变量，然后编译器会在函数外面寻找i的定义，执行完i+=1后，i还为全局变量，值加1：\n",
    "\n",
    "i = 0\n",
    "\n",
    "def h():\n",
    "    global i\n",
    "\n",
    "    i += 1\n",
    "\n",
    "h()\n",
    "print(i)"
   ]
  },
  {
   "cell_type": "code",
   "execution_count": 3,
   "metadata": {},
   "outputs": [
    {
     "name": "stdout",
     "output_type": "stream",
     "text": [
      "(0, 1)\n"
     ]
    }
   ],
   "source": [
    "# 23. 交换两元素\n",
    "\n",
    "def swap(a,b):\n",
    "    return b, a\n",
    "\n",
    "print(swap(1,0))\n"
   ]
  },
  {
   "cell_type": "code",
   "execution_count": 5,
   "metadata": {},
   "outputs": [
    {
     "name": "stdout",
     "output_type": "stream",
     "text": [
      "i'm g\n"
     ]
    }
   ],
   "source": [
    "# 24. 操作函数对象\n",
    "# 创建函数对象的list，根据想要调用的index，方便统一调用。\n",
    "def f():\n",
    "    print('i\\'m f')\n",
    "def g():\n",
    "    print('i\\'m g')\n",
    "\n",
    "[f,g][1]()"
   ]
  },
  {
   "cell_type": "code",
   "execution_count": 6,
   "metadata": {},
   "outputs": [
    {
     "data": {
      "text/plain": "[10, 9, 8, 7, 6, 5, 4, 3, 2, 1, 0]"
     },
     "execution_count": 6,
     "metadata": {},
     "output_type": "execute_result"
    }
   ],
   "source": [
    "# 25. 生成逆序序列\n",
    "list(range(10,-1,-1))\n",
    "# 第三个参数为负时，表示从第一个参数开始递减，终止到第二个参数(不包括此边界)"
   ]
  },
  {
   "cell_type": "code",
   "execution_count": 17,
   "metadata": {},
   "outputs": [
    {
     "name": "stdout",
     "output_type": "stream",
     "text": [
      "a:1, b:(2, 5),c:10,d:{'width': 10, 'height': 20}\n",
      "a:1, b:(),c:12,d:{}\n",
      "a:1, b:(),c:10,d:{}\n",
      "a:1, b:(),c:10,d:{}\n",
      "a:1, b:{}\n",
      "a KEYWORD_ONLY\n",
      "b VAR_KEYWORD\n",
      "a POSITIONAL_OR_KEYWORD\n",
      "b VAR_POSITIONAL\n"
     ]
    }
   ],
   "source": [
    "# 26. 函数的五类参数使用例子\n",
    "# python五类参数：位置参数，关键字参数，默认参数，可变位置或关键字参数的使用。\n",
    "def f(a, *b, c = 10, **d):\n",
    "    print(f'a:{a}, b:{b},c:{c},d:{d}')\n",
    "\n",
    "# 默认参数c不能位于可变关键字参数d后.\n",
    "\n",
    "# 调用f:\n",
    "f(1,2,5,width=10,height=20)\n",
    "\n",
    "#可变位置参数b实参后被解析为元组(2,5);而c取得默认值10; d被解析为字典.\n",
    "\n",
    "# 再次调用f:\n",
    "f(a=1,c=12)\n",
    "\n",
    "# a=1传入时a就是关键字参数，b,d都未传值，c被传入12，而非默认值。\n",
    "\n",
    "# 注意观察参数a, 既可以f(1),也可以f(a=1) 其可读性比第一种更好，建议使用f(a=1)。如果要强制使用f(a=1)，需要在前面添加一个星号:\n",
    "f(1)\n",
    "\n",
    "f(a=1)\n",
    "def f(*, a, **b):\n",
    "    print(f'a:{a}, b:{b}')\n",
    "f(a=1)\n",
    "# 此时f(1)调用，将会报错：TypeError: f() takes 0 positional arguments but 1 was given\n",
    "\n",
    "# 只能f(a=1)才能OK.\n",
    "\n",
    "# 说明前面的*发挥作用，它变为只能传入关键字参数，那么如何查看这个参数的类型呢？借助python的inspect模块：\n",
    "import inspect\n",
    "for name, val in inspect.signature(f).parameters.items():\n",
    "    print(name, val.kind)\n",
    "\n",
    "# 可看到参数a的类型为KEYWORD_ONLY，也就是仅仅为关键字参数。\n",
    "\n",
    "# 但是，如果f定义为：\n",
    "\n",
    "def f(a,*b):\n",
    "  print(f'a:{a},b:{b}')\n",
    "\n",
    "# 查看参数类型\n",
    "\n",
    "for name, val in inspect.signature(f).parameters.items():\n",
    "    print(name, val.kind)\n",
    "# 可以看到参数a既可以是位置参数也可是关键字参数。"
   ]
  },
  {
   "cell_type": "code",
   "execution_count": 29,
   "metadata": {},
   "outputs": [
    {
     "name": "stdout",
     "output_type": "stream",
     "text": [
      "[5, 4, 3, 2, 1]\n",
      "[4, 2]\n",
      "[55, 43, 49, 2, 59, 35, 34, 15, 51, 39, 92, 19, 47, 76, 12, 41, 36, 47, 53, 15, 38, 48, 71, 3, 24, 94, 9, 42, 99, 96, 72, 65, 52, 71, 78, 62, 54, 12, 16, 17, 23, 97, 82, 44, 55, 75, 74, 96, 13, 28, 83, 30, 74, 24, 71, 33, 4, 85, 17, 61, 86, 81, 45, 36, 98, 73, 70, 39, 96, 52, 53, 85, 59, 59, 91, 35, 15, 89, 48, 97, 28, 71, 84, 89, 56, 64, 82, 69, 16, 25, 81, 1, 32, 94, 50, 69, 79, 63, 41, 99]\n",
      "[43, 2, 35, 15, 39]\n",
      "[4, 2]\n",
      "[43, 2, 35, 15, 39]\n",
      "[0, 9, 7, 5]\n",
      "[0, 9, 7, 5]\n"
     ]
    }
   ],
   "source": [
    "# 27. 使用slice对象\n",
    "# 生成关于蛋糕的序列cake1：\n",
    "cake1 = list(range(5, 0, -1))\n",
    "print(cake1)\n",
    "\n",
    "b = cake1[1:10:2]\n",
    "print(b)\n",
    "\n",
    "\n",
    "\n",
    "from random import randint\n",
    "cake2 = [randint(1,100) for _ in range(100)]\n",
    "print(cake2)\n",
    "d = cake2[1:10:2]\n",
    "print(d)\n",
    "\n",
    "# 你看，我们使用同一种切法，分别切开两个蛋糕cake1,cake2. 后来发现这种切法极为经典，又拿它去切更多的容器对象。\n",
    "\n",
    "# 那么，为什么不把这种切法封装为一个对象呢？于是就有了slice对象。\n",
    "\n",
    "# 定义slice对象极为简单，如把上面的切法定义成slice对象：\n",
    "\n",
    "perfect_cake_slice_way = slice(1,10,2)\n",
    "\n",
    "# 去切cake1\n",
    "cake1_slice = cake1[perfect_cake_slice_way]\n",
    "cake2_slice = cake2[perfect_cake_slice_way]\n",
    "print(cake1_slice)\n",
    "print(cake2_slice)\n",
    "\n",
    "\n",
    "# 与上面的结果一致。\n",
    "\n",
    "# 对于逆向序列切片，slice对象一样可行：\n",
    "\n",
    "a = [1,3,5,7,9,0,3,5,7]\n",
    "a_ = a[5:1:-1]\n",
    "print(a_)\n",
    "\n",
    "name_slice = slice(5,1,-1)\n",
    "print(a[name_slice])\n",
    "\n",
    "# 频繁使用同一切片的操作可使用slice对象抽出来，复用的同时还能提高代码可读性。"
   ]
  },
  {
   "cell_type": "code",
   "execution_count": 30,
   "metadata": {},
   "outputs": [
    {
     "name": "stdout",
     "output_type": "stream",
     "text": [
      "更长的列表是[4, 5, 6, 7]\n"
     ]
    }
   ],
   "source": [
    "# 28. lambda 函数的动画演示\n",
    "# 有些读者反映，lambda函数不太会用，问我能不能解释一下。\n",
    "\n",
    "# 比如，下面求这个 lambda函数：\n",
    "def max_len(*lists):\n",
    "    return max(*lists, key = lambda v:len(v))\n",
    "\n",
    "# 有两点疑惑：\n",
    "\n",
    "# 参数v的取值？\n",
    "\n",
    "# lambda函数有返回值吗？如果有，返回值是多少？\n",
    "\n",
    "# 调用上面函数，求出以下三个最长的列表：\n",
    "\n",
    "r = max_len([1, 2, 3], [4, 5, 6, 7], [8])\n",
    "print(f'更长的列表是{r}')\n",
    "\n",
    "# 结论：\n",
    "\n",
    "# 参数v的可能取值为*lists，也就是 tuple 的一个元素。\n",
    "\n",
    "# lambda函数返回值，等于lambda v冒号后表达式的返回值。"
   ]
  },
  {
   "cell_type": "code",
   "execution_count": null,
   "metadata": {},
   "outputs": [],
   "source": [
    "# 四. 数据结构"
   ]
  },
  {
   "cell_type": "code",
   "execution_count": 35,
   "metadata": {},
   "outputs": [
    {
     "name": "stdout",
     "output_type": "stream",
     "text": [
      "{}\n",
      "{'a': 'a', 'b': 'b'}\n",
      "{'a': 1, 'b': 2}\n",
      "{'a': 1, 'b': 2}\n"
     ]
    }
   ],
   "source": [
    "#29. 转为字典\n",
    "\n",
    "print(dict())\n",
    "print(dict(a='a',b='b'))\n",
    "\n",
    "print(dict(zip(['a','b'],[1,2])))\n",
    "\n",
    "print(dict([('a',1),('b',2)]))"
   ]
  },
  {
   "cell_type": "code",
   "execution_count": 36,
   "metadata": {},
   "outputs": [
    {
     "name": "stdout",
     "output_type": "stream",
     "text": [
      "frozenset({1, 2, 3, 4})\n"
     ]
    }
   ],
   "source": [
    "# 30. 冻结集合\n",
    "\n",
    "print(frozenset([1,1,2,3,3,4]))\n",
    "\n",
    "# 因为不可修改，所以没有像set那样的add和pop方法"
   ]
  },
  {
   "cell_type": "code",
   "execution_count": 37,
   "metadata": {},
   "outputs": [
    {
     "name": "stdout",
     "output_type": "stream",
     "text": [
      "{1, 2, 3, 4}\n"
     ]
    }
   ],
   "source": [
    "# 31. 转为集合类型\n",
    "# 返回一个set对象，集合内不允许有重复元素：\n",
    "\n",
    "a = [1,4,2,3,1]\n",
    "\n",
    "print(set(a))\n"
   ]
  },
  {
   "cell_type": "code",
   "execution_count": 38,
   "metadata": {},
   "outputs": [
    {
     "name": "stdout",
     "output_type": "stream",
     "text": [
      "[1, 2, 1]\n"
     ]
    }
   ],
   "source": [
    "#32. 转为切片对象\n",
    "\n",
    "# class slice(start, stop, step)\n",
    "\n",
    "# 返回一个表示由 range(start, stop, step) 所指定索引集的 slice对象，它让代码可读性、可维护性变好。\n",
    "\n",
    "a = [1,4,2,3,1]\n",
    "my_slice_meaning = slice(0,5,2)\n",
    "print(a[my_slice_meaning])"
   ]
  },
  {
   "cell_type": "code",
   "execution_count": 39,
   "metadata": {},
   "outputs": [
    {
     "name": "stdout",
     "output_type": "stream",
     "text": [
      "(1, 3, 5)\n"
     ]
    }
   ],
   "source": [
    "#33. 转元祖\n",
    "# tuple() 将对象转为一个不可变的序列类型\n",
    "i_am_list = [1,3,5]\n",
    "i_am_tuple = tuple(i_am_list)\n",
    "print(i_am_tuple)"
   ]
  },
  {
   "cell_type": "code",
   "execution_count": null,
   "metadata": {},
   "outputs": [],
   "source": [
    "# 五. 类和对象"
   ]
  },
  {
   "cell_type": "code",
   "execution_count": 46,
   "metadata": {},
   "outputs": [
    {
     "name": "stdout",
     "output_type": "stream",
     "text": [
      "True\n",
      "True\n",
      "False\n",
      "True\n",
      "I can be called\n",
      "my name is xiaoming\n",
      "None\n"
     ]
    }
   ],
   "source": [
    "# 34. 是否可调用\n",
    "\n",
    "print(callable(str))\n",
    "\n",
    "print(callable(int))\n",
    "\n",
    "class Student():\n",
    "    def __init__(self, id, name):\n",
    "        self.id = id\n",
    "        self.name = name\n",
    "    def __repr__(self):\n",
    "        return 'id = ' + self.id + ', name = ' + self.name\n",
    "xiaoming = Student('001','xiaoming')\n",
    "print(callable(xiaoming))\n",
    "\n",
    "# 如果能调用xiaoming(), 需要重写Student类的__call__方法：\n",
    "\n",
    "class Student():\n",
    "    def __init__(self, id, name):\n",
    "        self.id = id\n",
    "        self.name = name\n",
    "    def __repr__(self):\n",
    "        return 'id = ' + self.id + ', name = ' + self.name\n",
    "    def __call__(self):\n",
    "        print('I can be called')\n",
    "        print(f'my name is {self.name}')\n",
    "t = Student('001','xiaoming')\n",
    "print(callable(t))\n",
    "print(t())"
   ]
  },
  {
   "cell_type": "code",
   "execution_count": 50,
   "metadata": {},
   "outputs": [
    {
     "name": "stdout",
     "output_type": "stream",
     "text": [
      "id = 001, name = xiaoming\n",
      "id = 001, name = xiaoming\n",
      "hello\n"
     ]
    }
   ],
   "source": [
    "#35. ascii 展示对象\n",
    "# 调用对象的 __repr__ 方法，获得该方法的返回值，如下例子返回值为字符串\n",
    "\n",
    "class Student():\n",
    "    def __init__(self, id, name):\n",
    "        self.id = id\n",
    "        self.name = name\n",
    "    def __repr__(self):\n",
    "        return 'id = ' + self.id + ', name = ' + self.name# # \n",
    "\n",
    "#调用\n",
    "\n",
    "xiaoming = Student(id = '001',name = 'xiaoming')\n",
    "\n",
    "print(xiaoming)\n",
    "\n",
    "print(ascii(xiaoming))# 此处输出的应该是字符串"
   ]
  },
  {
   "cell_type": "code",
   "execution_count": 51,
   "metadata": {},
   "outputs": [
    {
     "name": "stdout",
     "output_type": "stream",
     "text": [
      "<class '__main__.Student'>\n",
      "None\n"
     ]
    }
   ],
   "source": [
    "#36. 类方法\n",
    "#classmethod 装饰器对应的函数不需要实例化，不需要 self 参数，但第一个参数需要是表示自身类的 cls 参数，可以来调用类的属性，类的方法，实例化对象等(\n",
    "# 。\n",
    "\n",
    "class Student():\n",
    "    def __init__(self, id, name):\n",
    "        self.id = id\n",
    "        self.name = name\n",
    "\n",
    "    def __repr__(self):\n",
    "        return 'id = ' + self.id + ', name = ' + self.name\n",
    "    @classmethod\n",
    "    def f(cls):\n",
    "        print(cls)\n",
    "\n",
    "xiaoming = Student('001','xiaoming')\n",
    "print(xiaoming.f())"
   ]
  },
  {
   "cell_type": "code",
   "execution_count": 54,
   "metadata": {},
   "outputs": [
    {
     "name": "stdout",
     "output_type": "stream",
     "text": [
      "True\n",
      "False\n"
     ]
    }
   ],
   "source": [
    "#37. 动态删除性\n",
    "# 删除对象的属性\n",
    "\n",
    "xiaoming = Student('001','xiaoming')\n",
    "\n",
    "print(hasattr(xiaoming,'id'))\n",
    "\n",
    "delattr(xiaoming,'id')\n",
    "\n",
    "print(hasattr(xiaoming,'id'))"
   ]
  },
  {
   "cell_type": "code",
   "execution_count": 55,
   "metadata": {},
   "outputs": [
    {
     "name": "stdout",
     "output_type": "stream",
     "text": [
      "['__class__', '__delattr__', '__dict__', '__dir__', '__doc__', '__eq__', '__format__', '__ge__', '__getattribute__', '__gt__', '__hash__', '__init__', '__init_subclass__', '__le__', '__lt__', '__module__', '__ne__', '__new__', '__reduce__', '__reduce_ex__', '__repr__', '__setattr__', '__sizeof__', '__str__', '__subclasshook__', '__weakref__', 'f', 'name']\n"
     ]
    }
   ],
   "source": [
    "# 38 一键查看对象所有方法\n",
    "# 不带参数时返回当前范围内的变量、方法和定义的类型列表；带参数时返回参数的属性，方法列表。\n",
    "\n",
    "print(dir(xiaoming))"
   ]
  },
  {
   "cell_type": "code",
   "execution_count": 56,
   "metadata": {},
   "outputs": [
    {
     "data": {
      "text/plain": "'xiaoming'"
     },
     "execution_count": 56,
     "metadata": {},
     "output_type": "execute_result"
    }
   ],
   "source": [
    "# 39 动态获取对象属性　\n",
    "# 获取对象属性\n",
    "class Student():\n",
    "    def __init__(self, id, name):\n",
    "        self.id = id\n",
    "        self.name = name\n",
    "\n",
    "    def __repr__(self):\n",
    "        return 'id = ' + self.id + ', name = ' + self.name\n",
    "\n",
    "xiaoming = Student('001','xiaoming')\n",
    "\n",
    "getattr(xiaoming, 'name')"
   ]
  },
  {
   "cell_type": "code",
   "execution_count": 58,
   "metadata": {},
   "outputs": [
    {
     "name": "stdout",
     "output_type": "stream",
     "text": [
      "True\n",
      "False\n"
     ]
    }
   ],
   "source": [
    "#40 对象是否有这个属性\n",
    "class Student():\n",
    "    def __init__(self, id, name):\n",
    "        self.id = id\n",
    "        self.name = name\n",
    "\n",
    "    def __repr__(self):\n",
    "        return 'id = ' + self.id + ', name = ' + self.name\n",
    "\n",
    "xiaoming = Student(id='001',name='xiaoming')\n",
    "\n",
    "print(hasattr(xiaoming, 'name'))\n",
    "\n",
    "print(hasattr(xiaoming, 'address'))"
   ]
  },
  {
   "cell_type": "code",
   "execution_count": 59,
   "metadata": {},
   "outputs": [
    {
     "name": "stdout",
     "output_type": "stream",
     "text": [
      "140003147436944\n"
     ]
    }
   ],
   "source": [
    "# 41. 随想门牌号\n",
    "print(id(xiaoming))\n",
    "# 返回对象的内存地址"
   ]
  },
  {
   "cell_type": "code",
   "execution_count": 61,
   "metadata": {},
   "outputs": [
    {
     "data": {
      "text/plain": "True"
     },
     "execution_count": 61,
     "metadata": {},
     "output_type": "execute_result"
    }
   ],
   "source": [
    "# 42. isinstance\n",
    "class Student():\n",
    "    def __init__(self, id, name):\n",
    "        self.id = id\n",
    "        self.name = name\n",
    "\n",
    "    def __repr__(self):\n",
    "        return 'id = ' + self.id + ', name = ' + self.name\n",
    "\n",
    "xiaoming = Student(id='001',name='xiaoming')\n",
    "isinstance(xiaoming, Student)"
   ]
  },
  {
   "cell_type": "code",
   "execution_count": 65,
   "metadata": {},
   "outputs": [
    {
     "name": "stdout",
     "output_type": "stream",
     "text": [
      "True\n",
      "False\n",
      "True\n",
      "True\n"
     ]
    }
   ],
   "source": [
    "# 43 父子关系鉴定\n",
    "class undergraduate(Student):\n",
    "    def studyClass(self):\n",
    "        pass\n",
    "    def attendActivity(self):\n",
    "        pass\n",
    "\n",
    "print(issubclass(undergraduate,Student))\n",
    "\n",
    "print(issubclass(object, Student))\n",
    "\n",
    "print(issubclass(Student,object))# \n",
    "\n",
    "\n",
    "#如果class是classinfo元组中某个元素的子类，也会返回True\n",
    "print(issubclass(int,(int,float)))"
   ]
  },
  {
   "cell_type": "code",
   "execution_count": 66,
   "metadata": {},
   "outputs": [
    {
     "name": "stdout",
     "output_type": "stream",
     "text": [
      "<class 'object'>\n"
     ]
    }
   ],
   "source": [
    "# 44 所有对象之根\n",
    "o = object()\n",
    "\n",
    "print(type(o))"
   ]
  },
  {
   "cell_type": "code",
   "execution_count": 68,
   "metadata": {},
   "outputs": [],
   "source": [
    "# 45 创建属性的两种方式\n",
    "\n",
    "# 返回 property 属性，典型的用法：\n",
    "class C:\n",
    "    def __init__(self):\n",
    "        self._x = None\n",
    "    def getx(self):\n",
    "        return self._x\n",
    "    def setx(self,value):\n",
    "        self._x = value\n",
    "    def delx(self):\n",
    "        del self._x\n",
    "    # 使用property类创建property属性\n",
    "    x = property(getx, setx, delx, \"I'm the 'x' property.\")\n",
    "\n",
    "# 返回 property 属性，典型的用法：\n",
    "class C:\n",
    "    def __init__(self):\n",
    "        self._x = None\n",
    "    @property\n",
    "    def x(self):\n",
    "        return self._x\n",
    "    @x.setter\n",
    "    def x(self, value):\n",
    "        self._x = value\n",
    "    @x.deleter\n",
    "    def x(self):\n",
    "        del self._x"
   ]
  },
  {
   "cell_type": "code",
   "execution_count": 72,
   "metadata": {},
   "outputs": [
    {
     "name": "stdout",
     "output_type": "stream",
     "text": [
      "<class '__main__.Student'>\n"
     ]
    }
   ],
   "source": [
    "# 46 查看对象类型\n",
    "# class type(name, bases, dict)\n",
    "# 穿入一个参数时， 返回object类型\n",
    "\n",
    "class Student():\n",
    "    def __init__(self, id, name):\n",
    "        self.id = id\n",
    "        self.name = name\n",
    "    def __repr__(self):\n",
    "        return 'id = ' + self.id + ',name = ' + self.name\n",
    "\n",
    "xiaoming = Student(id='001',name='xiaoming')\n",
    "        \n",
    "\n",
    "print(type(xiaoming))"
   ]
  },
  {
   "cell_type": "code",
   "execution_count": 77,
   "metadata": {},
   "outputs": [
    {
     "name": "stdout",
     "output_type": "stream",
     "text": [
      "<class '__main__.Student'>\n",
      "<class 'type'>\n",
      "<class '__main__.Student'>\n",
      "True\n"
     ]
    }
   ],
   "source": [
    "# 47 元类\n",
    "#xiaoming, xiaohong, xiaozhang 都是学生，这类群体叫做 Student.\n",
    "\n",
    "# Python 定义类的常见方法，使用关键字 class\n",
    "\n",
    "class Student(object):\n",
    "    pass\n",
    "\n",
    "# xiaoming, xiaohong, xiaozhang 是类的实例，则：\n",
    "\n",
    "xiaoming = Student()\n",
    "xiaohong = Student()\n",
    "xiaozhang = Student()\n",
    "\n",
    "# 创建后，xiaoming 的 __class__ 属性，返回的便是 Student类\n",
    "print(xiaoming.__class__)\n",
    "\n",
    "# 问题在于，Student 类有 __class__属性，如果有，返回的又是什么？\n",
    "\n",
    "print(xiaoming.__class__.__class__)\n",
    "\n",
    "# 哇，程序没报错，返回 type\n",
    "\n",
    "# 那么，我们不妨猜测：Student 类，类型就是 type\n",
    "\n",
    "# 换句话说，Student类就是一个对象，它的类型就是 type\n",
    "\n",
    "# 所以，Python 中一切皆对象，类也是对象\n",
    "\n",
    "# Python 中，将描述 Student 类的类被称为：元类。\n",
    "\n",
    "# 按照此逻辑延伸，描述元类的类被称为：元元类，开玩笑了~ 描述元类的类也被称为元类。\n",
    "\n",
    "# 聪明的朋友会问了，既然 Student 类可创建实例，那么 type 类可创建实例吗？如果能，它创建的实例就叫：类 了。你们真聪明！\n",
    "\n",
    "# 说对了，type 类一定能创建实例，比如 Student 类了。\n",
    "\n",
    "Student = type('Student',(),{})\n",
    "\n",
    "print(Student)\n",
    "\n",
    "# 它与使用 class 关键字创建的 Student 类一模一样。\n",
    "# Python 的类，因为又是对象，所以和 xiaoming，xiaohong 对象操作相似。支持：\n",
    "#     -赋值\n",
    "#     -拷贝\n",
    "#     -添加属性\n",
    "#     -作为函数参数\n",
    "\n",
    "StudentMirror = Student\n",
    "Student.class_property = 'class_property'\n",
    "\n",
    "print(hasattr(Student,'class_property'))\n",
    "\n",
    "#\n",
    "# 元类，确实使用不是那么多，也许先了解这些，就能应付一些场合。就连 Python 界的领袖 Tim Peters 都说：\n",
    "\n",
    "# “元类就是深度的魔法，99%的用户应该根本不必为此操心。"
   ]
  },
  {
   "cell_type": "code",
   "execution_count": null,
   "metadata": {},
   "outputs": [],
   "source": [
    "# 六. 工具"
   ]
  },
  {
   "cell_type": "code",
   "execution_count": 78,
   "metadata": {},
   "outputs": [
    {
     "name": "stdout",
     "output_type": "stream",
     "text": [
      "1 a\n",
      "2 b\n",
      "3 c\n"
     ]
    }
   ],
   "source": [
    "# 48 枚举工具\n",
    "\n",
    "s = [\"a\",\"b\",\"c\"]\n",
    "\n",
    "for i, v in enumerate(s,1):\n",
    "    print(i,v)"
   ]
  },
  {
   "cell_type": "code",
   "execution_count": 79,
   "metadata": {},
   "outputs": [
    {
     "name": "stdout",
     "output_type": "stream",
     "text": [
      "240\n"
     ]
    }
   ],
   "source": [
    "# 49 查看变量所占字节\n",
    "import sys\n",
    "\n",
    "a = {'a':1,'b':2.0}\n",
    "print(sys.getsizeof(a))"
   ]
  },
  {
   "cell_type": "code",
   "execution_count": 82,
   "metadata": {},
   "outputs": [
    {
     "name": "stdout",
     "output_type": "stream",
     "text": [
      "[121, 12, 23]\n"
     ]
    }
   ],
   "source": [
    "# 50 过滤器\n",
    "\n",
    "# 在函数中设定过滤条件，迭代元素，保留返回值为True的元素：\n",
    "\n",
    "fil = filter(lambda x:x>10, [1,121,12,2,4,23])\n",
    "print(list(fil))"
   ]
  },
  {
   "cell_type": "code",
   "execution_count": 83,
   "metadata": {},
   "outputs": [
    {
     "name": "stdout",
     "output_type": "stream",
     "text": [
      "-9223363286640465306\n"
     ]
    }
   ],
   "source": [
    "# 51 返回对象的哈希值\n",
    "# 返回对象的哈希值，值得注意的是自定义的实例都是可哈希的，list, dict, set等可变对象都是不可哈希的(unhashable)\n",
    "print(hash(xiaoming))"
   ]
  },
  {
   "cell_type": "code",
   "execution_count": 84,
   "metadata": {},
   "outputs": [
    {
     "name": "stdout",
     "output_type": "stream",
     "text": [
      "Help on Student in module __main__ object:\n",
      "\n",
      "class Student(builtins.object)\n",
      " |  Data descriptors defined here:\n",
      " |  \n",
      " |  __dict__\n",
      " |      dictionary for instance variables (if defined)\n",
      " |  \n",
      " |  __weakref__\n",
      " |      list of weak references to the object (if defined)\n",
      "\n",
      "None\n"
     ]
    }
   ],
   "source": [
    "# 52 一键帮助\n",
    "\n",
    "# 返回对象的帮助文档\n",
    "print(help(xiaoming))"
   ]
  },
  {
   "cell_type": "code",
   "execution_count": 85,
   "metadata": {},
   "outputs": [
    {
     "data": {
      "text/plain": "\"'aa'\""
     },
     "execution_count": 85,
     "metadata": {},
     "output_type": "execute_result"
    }
   ],
   "source": [
    "# 53 获取用户输入\n",
    "input()"
   ]
  },
  {
   "cell_type": "code",
   "execution_count": 88,
   "metadata": {},
   "outputs": [
    {
     "name": "stdout",
     "output_type": "stream",
     "text": [
      "1\n",
      "3\n",
      "5\n",
      "__call__ is called, for which would return 1\n",
      "__iter__ is called\n",
      "1\n",
      "3\n",
      "2\n",
      "3\n",
      "4\n",
      "5\n"
     ]
    }
   ],
   "source": [
    "# 54 创建迭代器类型\n",
    "\n",
    "#使用 iter(obj, sentinel), 返回一个可迭代对象， sentinel可省略(一旦迭代到此元素，即终止)\n",
    "\n",
    "list = [1,3,5]\n",
    "\n",
    "for i in iter(list):\n",
    "    print(i)\n",
    "\n",
    "class TestIter(object):\n",
    "    def __init__(self):\n",
    "        self.l = [1,3,2,3,4,5]\n",
    "        self.i = iter(self.l)\n",
    "    def __call__(self):\n",
    "        item = next(self.i)\n",
    "        print(\"__call__ is called, for which would return\", item)\n",
    "        return item\n",
    "    def __iter__(self):\n",
    "        print(\"__iter__ is called\")\n",
    "        return iter(self.i)\n",
    "\n",
    "t = TestIter()\n",
    "\n",
    "t()\n",
    "\n",
    "for e in TestIter():\n",
    "    print(e)\n"
   ]
  },
  {
   "cell_type": "code",
   "execution_count": 89,
   "metadata": {},
   "outputs": [
    {
     "ename": "FileNotFoundError",
     "evalue": "[Errno 2] No such file or directory: 'D:/a.txt'",
     "output_type": "error",
     "traceback": [
      "\u001b[0;31m---------------------------------------------------------------------------\u001b[0m",
      "\u001b[0;31mFileNotFoundError\u001b[0m                         Traceback (most recent call last)",
      "\u001b[0;32m<ipython-input-89-b3ea91283c4a>\u001b[0m in \u001b[0;36m<module>\u001b[0;34m\u001b[0m\n\u001b[1;32m      1\u001b[0m \u001b[0;31m# 55 打开文件\u001b[0m\u001b[0;34m\u001b[0m\u001b[0;34m\u001b[0m\u001b[0;34m\u001b[0m\u001b[0m\n\u001b[0;32m----> 2\u001b[0;31m \u001b[0mfo\u001b[0m \u001b[0;34m=\u001b[0m \u001b[0mopen\u001b[0m\u001b[0;34m(\u001b[0m\u001b[0;34m'D:/a.txt'\u001b[0m\u001b[0;34m,\u001b[0m \u001b[0mmode\u001b[0m \u001b[0;34m=\u001b[0m \u001b[0;34m'r'\u001b[0m\u001b[0;34m,\u001b[0m \u001b[0mencoding\u001b[0m \u001b[0;34m=\u001b[0m \u001b[0;34m'utf-8'\u001b[0m\u001b[0;34m)\u001b[0m\u001b[0;34m\u001b[0m\u001b[0;34m\u001b[0m\u001b[0m\n\u001b[0m\u001b[1;32m      3\u001b[0m \u001b[0mfo\u001b[0m\u001b[0;34m.\u001b[0m\u001b[0mread\u001b[0m\u001b[0;34m(\u001b[0m\u001b[0;34m)\u001b[0m\u001b[0;34m\u001b[0m\u001b[0;34m\u001b[0m\u001b[0m\n",
      "\u001b[0;31mFileNotFoundError\u001b[0m: [Errno 2] No such file or directory: 'D:/a.txt'"
     ]
    }
   ],
   "source": [
    "# 55 打开文件\n",
    "fo = open('D:/a.txt', mode = 'r', encoding = 'utf-8')\n",
    "fo.read()\n",
    "\n",
    "# mode取值表：\n",
    "\n",
    "# 字符\t意义\n",
    "# 'r'\t读取（默认）\n",
    "# 'w'\t写入，并先截断文件\n",
    "# 'x'\t排它性创建，如果文件已存在则失败\n",
    "# 'a'\t写入，如果文件存在则在末尾追加\n",
    "# 'b'\t二进制模式\n",
    "# 't'\t文本模式（默认）\n",
    "# '+'\t打开用于更新（读取与写入）"
   ]
  },
  {
   "cell_type": "code",
   "execution_count": 91,
   "metadata": {},
   "outputs": [
    {
     "name": "stdout",
     "output_type": "stream",
     "text": [
      "range(0, 11)\n",
      "range(0, 11)\n"
     ]
    }
   ],
   "source": [
    "# 56 创建range序列\n",
    "# range(stop)\n",
    "# range(start, stop, step)\n",
    "\n",
    "print(range(11))\n",
    "\n",
    "print(range(0,11,1))"
   ]
  },
  {
   "cell_type": "code",
   "execution_count": 92,
   "metadata": {},
   "outputs": [
    {
     "name": "stdout",
     "output_type": "stream",
     "text": [
      "1\n",
      "3\n",
      "2\n",
      "4\n",
      "1\n"
     ]
    }
   ],
   "source": [
    "#57 反向迭代器\n",
    "rev  = reversed([1,4,2,3,1])\n",
    "for i in rev:\n",
    "    print(i)\n"
   ]
  },
  {
   "cell_type": "code",
   "execution_count": 1,
   "metadata": {},
   "outputs": [
    {
     "name": "stdout",
     "output_type": "stream",
     "text": [
      "['a0', 'b1', 'c2', 'd3', 'e4']\n"
     ]
    }
   ],
   "source": [
    "# 58 聚合迭代器\n",
    "# 创建一个来自每个可迭代对象中的元素的迭代器\n",
    "x = [3,2,1]\n",
    "y = [4,5,6]\n",
    "list(zip(y,x))\n",
    "\n",
    "a = range(5)\n",
    "b = list('abcde')\n",
    "print([str(y) + str(x) for x,y in zip(a,b)])"
   ]
  },
  {
   "cell_type": "code",
   "execution_count": 2,
   "metadata": {},
   "outputs": [
    {
     "data": {
      "text/plain": "-1"
     },
     "execution_count": 2,
     "metadata": {},
     "output_type": "execute_result"
    }
   ],
   "source": [
    "# 59 链式操作\n",
    "\n",
    "from operator import (add, sub)\n",
    "\n",
    "def add_or_sub(a,b,oper):\n",
    "    return (add if oper == '+' else sub)(a,b)\n",
    "\n",
    "add_or_sub(1,2,'-')"
   ]
  },
  {
   "cell_type": "code",
   "execution_count": 6,
   "metadata": {},
   "outputs": [],
   "source": [
    "#60 对象序列化\n",
    "# 对象序列化，是指将内存中的对象转化为可存储或传输的过程。很多场景，直接一个类对象，传输不方便。\n",
    "\n",
    "# 但是，当对象序列化后，就会更加方便，因为约定俗成的，接口间的调用或者发起的 web 请求，一般使用 json 串传输。\n",
    "\n",
    "# 实际使用中，一般对类对象序列化。先创建一个 Student 类型，并创建两个实例。\n",
    "\n",
    "\n",
    "class Student():\n",
    "    def __init__(self, **args):\n",
    "        self.ids = args['ids']\n",
    "        self.name = args['name']\n",
    "        self.address = args['address']\n",
    "\n",
    "\n",
    "xiaoming = Student(ids =1, name='xiaoming',address=\"beijing\")\n",
    "xiaohong = Student(ids =2, name='xiaohong', address=\"nanjing\")\n",
    "\n",
    "# 导入 json 模块，调用 dump 方法，就会将列表对象 [xiaoming,xiaohong]，序列化到文件 json.txt 中。\n",
    "import json\n",
    "with open('json.txt','w') as f:\n",
    "    json.dump([xiaoming,xiaohong],f,default=lambda obj:obj.__dict__, ensure_ascii = False, indent=2, sort_keys = True)"
   ]
  },
  {
   "cell_type": "code",
   "execution_count": null,
   "metadata": {},
   "outputs": [],
   "source": []
  },
  {
   "cell_type": "code",
   "execution_count": null,
   "metadata": {},
   "outputs": [],
   "source": []
  },
  {
   "cell_type": "code",
   "execution_count": null,
   "metadata": {},
   "outputs": [],
   "source": []
  }
 ],
 "metadata": {
  "kernelspec": {
   "display_name": "Python 3.6.9 64-bit",
   "name": "python369jvsc74a57bd031f2aee4e71d21fbe5cf8b01ff0e069b9275f58929596ceb00d14d90e3e16cd6"
  },
  "language_info": {
   "codemirror_mode": {
    "name": "ipython",
    "version": 3
   },
   "file_extension": ".py",
   "mimetype": "text/x-python",
   "name": "python",
   "nbconvert_exporter": "python",
   "pygments_lexer": "ipython3",
   "version": "3.6.9"
  },
  "metadata": {
   "interpreter": {
    "hash": "31f2aee4e71d21fbe5cf8b01ff0e069b9275f58929596ceb00d14d90e3e16cd6"
   }
  },
  "orig_nbformat": 2
 },
 "nbformat": 4,
 "nbformat_minor": 2
}