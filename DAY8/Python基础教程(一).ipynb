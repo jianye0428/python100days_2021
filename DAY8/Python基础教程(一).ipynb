{
 "metadata": {
  "language_info": {
   "codemirror_mode": {
    "name": "ipython",
    "version": 3
   },
   "file_extension": ".py",
   "mimetype": "text/x-python",
   "name": "python",
   "nbconvert_exporter": "python",
   "pygments_lexer": "ipython3",
   "version": "3.6.9"
  },
  "orig_nbformat": 2,
  "kernelspec": {
   "name": "python3",
   "display_name": "Python 3.6.9 64-bit",
   "metadata": {
    "interpreter": {
     "hash": "30295c5bec572e859485b1ffa5e89b8b3e2022ef6e3e739c1ac40f143a557caf"
    }
   }
  }
 },
 "nbformat": 4,
 "nbformat_minor": 2,
 "cells": [
  {
   "cell_type": "code",
   "execution_count": 1,
   "metadata": {},
   "outputs": [
    {
     "output_type": "stream",
     "name": "stdout",
     "text": [
      "count\n"
     ]
    }
   ],
   "source": [
    "count = 5\n",
    "print(\"count\")"
   ]
  },
  {
   "cell_type": "code",
   "execution_count": 2,
   "metadata": {},
   "outputs": [
    {
     "output_type": "stream",
     "name": "stdout",
     "text": [
      "count\n"
     ]
    }
   ],
   "source": [
    "count = 5; print(\"count\");"
   ]
  },
  {
   "cell_type": "code",
   "execution_count": 3,
   "metadata": {},
   "outputs": [
    {
     "output_type": "stream",
     "name": "stdout",
     "text": [
      "count\n"
     ]
    }
   ],
   "source": [
    "count = 5; print(\"count\")"
   ]
  },
  {
   "cell_type": "code",
   "execution_count": 4,
   "metadata": {},
   "outputs": [
    {
     "output_type": "stream",
     "name": "stdout",
     "text": [
      "count\n"
     ]
    }
   ],
   "source": [
    "print\\\n",
    "    (\"count\")"
   ]
  },
  {
   "cell_type": "code",
   "execution_count": 5,
   "metadata": {},
   "outputs": [
    {
     "output_type": "execute_result",
     "data": {
      "text/plain": [
       "8"
      ]
     },
     "metadata": {},
     "execution_count": 5
    }
   ],
   "source": [
    "3 +5"
   ]
  },
  {
   "cell_type": "code",
   "execution_count": 6,
   "metadata": {},
   "outputs": [
    {
     "output_type": "execute_result",
     "data": {
      "text/plain": [
       "1"
      ]
     },
     "metadata": {},
     "execution_count": 6
    }
   ],
   "source": [
    "4//3"
   ]
  },
  {
   "cell_type": "code",
   "execution_count": 7,
   "metadata": {},
   "outputs": [
    {
     "output_type": "execute_result",
     "data": {
      "text/plain": [
       "1.3333333333333333"
      ]
     },
     "metadata": {},
     "execution_count": 7
    }
   ],
   "source": [
    "4/3"
   ]
  },
  {
   "cell_type": "code",
   "execution_count": 8,
   "metadata": {},
   "outputs": [
    {
     "output_type": "execute_result",
     "data": {
      "text/plain": [
       "1"
      ]
     },
     "metadata": {},
     "execution_count": 8
    }
   ],
   "source": [
    "4%3"
   ]
  },
  {
   "source": [
    "2<<2"
   ],
   "cell_type": "code",
   "metadata": {},
   "execution_count": 9,
   "outputs": [
    {
     "output_type": "execute_result",
     "data": {
      "text/plain": [
       "8"
      ]
     },
     "metadata": {},
     "execution_count": 9
    }
   ]
  },
  {
   "cell_type": "code",
   "execution_count": 10,
   "metadata": {},
   "outputs": [
    {
     "output_type": "execute_result",
     "data": {
      "text/plain": [
       "2"
      ]
     },
     "metadata": {},
     "execution_count": 10
    }
   ],
   "source": [
    "10>>2"
   ]
  },
  {
   "cell_type": "code",
   "execution_count": 11,
   "metadata": {},
   "outputs": [
    {
     "output_type": "execute_result",
     "data": {
      "text/plain": [
       "6"
      ]
     },
     "metadata": {},
     "execution_count": 11
    }
   ],
   "source": [
    "5^3 #按位异或\n",
    "#数的按位异或 5 ^ 3得到6，二进制101&11，变成110，两个值相应的位置相同,那么该结果就是0，也就是如果都是0或者都是1，该结果就是0，101和11，第一个都是1，所以110"
   ]
  },
  {
   "cell_type": "code",
   "execution_count": 13,
   "metadata": {},
   "outputs": [
    {
     "output_type": "stream",
     "name": "stdout",
     "text": [
      "abc\nabcd\nabcdefg\n"
     ]
    }
   ],
   "source": [
    "print(\"abc\")\n",
    "print(\"abc%s\" % \"d\")\n",
    "print(\"abc%sef%s\"%(\"d\",\"g\"))"
   ]
  },
  {
   "cell_type": "code",
   "execution_count": 15,
   "metadata": {},
   "outputs": [
    {
     "output_type": "stream",
     "name": "stdout",
     "text": [
      "equal\n"
     ]
    }
   ],
   "source": [
    "# if语句\n",
    "i = 10\n",
    "n = int(input(\"enter a number: \"))\n",
    "\n",
    "if n == i:\n",
    "    print(\"equal\")\n",
    "elif n<i:\n",
    "    print(\"lower\")\n",
    "else:\n",
    "    print(\"higher\")"
   ]
  },
  {
   "cell_type": "code",
   "execution_count": 16,
   "metadata": {},
   "outputs": [
    {
     "output_type": "stream",
     "name": "stdout",
     "text": [
      "0\n1\n2\n3\n4\n"
     ]
    }
   ],
   "source": [
    "#for 循环 for...in\n",
    "for i in range(0,5):\n",
    "    print(i)\n",
    "else:\n",
    "    pass"
   ]
  },
  {
   "cell_type": "code",
   "execution_count": 17,
   "metadata": {},
   "outputs": [
    {
     "output_type": "stream",
     "name": "stdout",
     "text": [
      "4\n"
     ]
    }
   ],
   "source": [
    "#函数 def\n",
    "def sum(a,b):\n",
    "    return a+b\n",
    "print(sum(1,3))"
   ]
  },
  {
   "cell_type": "code",
   "execution_count": 19,
   "metadata": {},
   "outputs": [
    {
     "output_type": "stream",
     "name": "stdout",
     "text": [
      "x is 3\n1\n"
     ]
    }
   ],
   "source": [
    "def func():\n",
    "    global x\n",
    "    print(\"x is\", x)\n",
    "    x = 1\n",
    "\n",
    "x = 3\n",
    "func()\n",
    "print(x)"
   ]
  },
  {
   "cell_type": "code",
   "execution_count": 20,
   "metadata": {},
   "outputs": [
    {
     "output_type": "stream",
     "name": "stdout",
     "text": [
      "jianye\nyejianyejianyejian\n"
     ]
    }
   ],
   "source": [
    "#默认参数\n",
    "def say(msg, times = 1):\n",
    "    print(msg*times)\n",
    "say(\"jianye\")\n",
    "say(\"yejian\",3)"
   ]
  },
  {
   "cell_type": "code",
   "execution_count": 33,
   "metadata": {},
   "outputs": [
    {
     "output_type": "stream",
     "name": "stdout",
     "text": [
      "a is 1, b is 2, c is 3\na is 1, b is 5, c is 3\na is 30, b is 2, c is 20\n"
     ]
    }
   ],
   "source": [
    "#关键参数\n",
    "def func(a, b=2, c=3):\n",
    "    print((\"a is %s, b is %s, c is %s\") % (a, b, c))\n",
    "func(1)\n",
    "func(1,5)\n",
    "func(c=20,a=30)\n"
   ]
  },
  {
   "cell_type": "code",
   "execution_count": 35,
   "metadata": {},
   "outputs": [
    {
     "output_type": "stream",
     "name": "stdout",
     "text": [
      "This is self-defined function\n    \n    Do nothing\n    \n"
     ]
    }
   ],
   "source": [
    "#__doc__文档字符串\n",
    "def func():\n",
    "    '''This is self-defined function\n",
    "    \n",
    "    Do nothing\n",
    "    '''\n",
    "    pass\n",
    "print(func.__doc__)"
   ]
  },
  {
   "cell_type": "code",
   "execution_count": 36,
   "metadata": {},
   "outputs": [
    {
     "output_type": "stream",
     "name": "stdout",
     "text": [
      "Too many arguments!\n"
     ]
    }
   ],
   "source": [
    "# -*- coding: utf-8 -*-\n",
    "\n",
    "\n",
    "' a test module ' #文档注释 可通过 __doc__ 访问\n",
    " \n",
    "__author__ = 'frala' #作者注释\n",
    " \n",
    "import sys\n",
    " \n",
    "def test():\n",
    "      args = sys.argv\n",
    "      if len(args)==1:\n",
    "            print ('Hello world!')\n",
    "      elif len(args)==2:\n",
    "            print ('Hello,%s' % args[1])\n",
    "      else:\n",
    "            print ('Too many arguments!')\n",
    "            \n",
    "if __name__ == '__main__':\n",
    "      test()"
   ]
  },
  {
   "cell_type": "code",
   "execution_count": null,
   "metadata": {},
   "outputs": [],
   "source": []
  }
 ]
}