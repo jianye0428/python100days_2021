{
 "metadata": {
  "language_info": {
   "codemirror_mode": {
    "name": "ipython",
    "version": 3
   },
   "file_extension": ".py",
   "mimetype": "text/x-python",
   "name": "python",
   "nbconvert_exporter": "python",
   "pygments_lexer": "ipython3",
   "version": "3.6.9"
  },
  "orig_nbformat": 2,
  "kernelspec": {
   "name": "python369jvsc74a57bd031f2aee4e71d21fbe5cf8b01ff0e069b9275f58929596ceb00d14d90e3e16cd6",
   "display_name": "Python 3.6.9 64-bit"
  },
  "metadata": {
   "interpreter": {
    "hash": "31f2aee4e71d21fbe5cf8b01ff0e069b9275f58929596ceb00d14d90e3e16cd6"
   }
  }
 },
 "nbformat": 4,
 "nbformat_minor": 2,
 "cells": [
  {
   "cell_type": "code",
   "execution_count": 1,
   "metadata": {},
   "outputs": [],
   "source": [
    "import turtle\n",
    "t = turtle.Pen()\n",
    "t.forward(100)"
   ]
  },
  {
   "cell_type": "code",
   "execution_count": 5,
   "metadata": {},
   "outputs": [],
   "source": [
    "import turtle\n",
    "t = turtle.Pen()\n",
    "t.forward(100)\n",
    "t.right(90)\n",
    "t.forward(100)\n",
    "t.right(90)\n",
    "t.forward(100)\n",
    "t.right(90)\n",
    "t.forward(100)\n",
    "t.right(90)\n"
   ]
  },
  {
   "cell_type": "code",
   "execution_count": 6,
   "metadata": {},
   "outputs": [],
   "source": [
    "import turtle\n",
    "turtle.setup(400, 400)\n",
    "t = turtle.Pen()\n",
    "t.forward(100)\n",
    "t.left(120)\n",
    "t.forward(100)\n",
    "t.left(120)\n",
    "t.forward(100)\n",
    "t.left(120)\n",
    "t.forward(100)"
   ]
  },
  {
   "cell_type": "code",
   "execution_count": 7,
   "metadata": {},
   "outputs": [],
   "source": [
    "import turtle\n",
    "turtle.setup(400, 400)\n",
    "t = turtle.Pen()\n",
    "t.circle(50)\n",
    "turtle.done()"
   ]
  },
  {
   "cell_type": "code",
   "execution_count": 6,
   "metadata": {},
   "outputs": [],
   "source": [
    "import turtle\n",
    "turtle.up()\n",
    "turtle.fillcolor('yellow')\n",
    "turtle.begin_fill()\n",
    "turtle.goto(100,-100)\n",
    "turtle.down()\n",
    "turtle.goto(200, -100)\n",
    "turtle.goto(250, -200)\n",
    "turtle.goto(50, -200)\n",
    "turtle.goto(100,-100)\n",
    "turtle.end_fill()\n",
    "turtle.done()\n"
   ]
  },
  {
   "cell_type": "code",
   "execution_count": 8,
   "metadata": {},
   "outputs": [],
   "source": [
    "import turtle\n",
    "turtle.setup(800,600)\n",
    "for i in range(4):\n",
    "    turtle.circle(90,90)\n",
    "    turtle.right(180)\n",
    "turtle.done()"
   ]
  },
  {
   "cell_type": "code",
   "execution_count": 10,
   "metadata": {},
   "outputs": [],
   "source": [
    "import turtle\n",
    "turtle.color(\"black\",\"red\")\n",
    "turtle.begin_fill()\n",
    "for i in range(5):\n",
    "    turtle.forward(100)\n",
    "    turtle.right(144)\n",
    "turtle.end_fill()\n"
   ]
  },
  {
   "cell_type": "code",
   "execution_count": 11,
   "metadata": {},
   "outputs": [],
   "source": [
    "import turtle\n",
    "t = turtle.Pen()\n",
    "for x in range(100):\n",
    "    t.forward(x)\n",
    "    t.left(90)\n",
    "turtle.done()"
   ]
  },
  {
   "cell_type": "code",
   "execution_count": null,
   "metadata": {},
   "outputs": [],
   "source": [
    "turtle.fd(d)\n",
    "turtle.forward(d)：以当前方向，往前行进d像素。\n",
    "\n",
    "turtle.bk(d)\n",
    "turtle.backword(d)：保持当前方向不变，往后退行d像素。\n",
    "\n",
    "turtle.circle(r,angle,steps=)：从当前位置以r为半径圆的angle角度旋转。\n",
    "\n",
    "turtle.seth(angle)：以x轴方向为起点将方向偏转为angle度，逆时针为正。只改变行进方向但不行进。\n",
    "\n",
    "turtle.left(angle)：在当前行进方向的基础上，向左旋转angle度。\n",
    "\n",
    "turtle.right(angle)：在当前行进方向的基础上，向右旋转angle度。"
   ]
  },
  {
   "cell_type": "code",
   "execution_count": 17,
   "metadata": {},
   "outputs": [],
   "source": [
    "import turtle\n",
    "t = turtle.Pen()\n",
    "t.circle(100,270)\n",
    "turtle.done()"
   ]
  },
  {
   "cell_type": "code",
   "execution_count": null,
   "metadata": {},
   "outputs": [],
   "source": []
  }
 ]
}