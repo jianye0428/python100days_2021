{
 "metadata": {
  "language_info": {
   "codemirror_mode": {
    "name": "ipython",
    "version": 3
   },
   "file_extension": ".py",
   "mimetype": "text/x-python",
   "name": "python",
   "nbconvert_exporter": "python",
   "pygments_lexer": "ipython3",
   "version": "3.6.9"
  },
  "orig_nbformat": 2,
  "kernelspec": {
   "name": "python369jvsc74a57bd031f2aee4e71d21fbe5cf8b01ff0e069b9275f58929596ceb00d14d90e3e16cd6",
   "display_name": "Python 3.6.9 64-bit"
  },
  "metadata": {
   "interpreter": {
    "hash": "31f2aee4e71d21fbe5cf8b01ff0e069b9275f58929596ceb00d14d90e3e16cd6"
   }
  }
 },
 "nbformat": 4,
 "nbformat_minor": 2,
 "cells": [
  {
   "cell_type": "code",
   "execution_count": 2,
   "metadata": {},
   "outputs": [
    {
     "output_type": "stream",
     "name": "stdout",
     "text": [
      "信用卡号不合法\n"
     ]
    }
   ],
   "source": [
    "def isValid(number):\n",
    "    if sumOfOddPlace(number)%10==0:\n",
    "        print('信用卡合法')\n",
    "    else:\n",
    "        print('信用卡号不合法')\n",
    "\n",
    "def sumOfDoubleEvenPlace(number):\n",
    "    sum = 0\n",
    "    for i in str(number)[::2]:\n",
    "        if int(i)*2 < 10:\n",
    "            sum = sum + int(i)*2\n",
    "        else:\n",
    "            for j in str(int(i)*2):\n",
    "                sum = sum + int(j)\n",
    "    return sum\n",
    "\n",
    "def getDigit(number):\n",
    "    return sum([int(i) for i in str(number)[1::2]])\n",
    "\n",
    "def sumOfOddPlace(number):\n",
    "    return sumOfDoubleEvenPlace(number) + getDigit(number)\n",
    "\n",
    "number = input(\"用户输入一个信用卡号码，必须是13到16位的整数\")\n",
    "\n",
    "isValid(number)"
   ]
  },
  {
   "cell_type": "code",
   "execution_count": 12,
   "metadata": {},
   "outputs": [
    {
     "output_type": "stream",
     "name": "stdout",
     "text": [
      "12\n"
     ]
    }
   ],
   "source": [
    "#添加 prefixMatched，判断卡号的前缀是否合法\n",
    "def prefixMatched(number):\n",
    "    if number[0]=='0' or number[0]=='5' or number[0]=='6':\n",
    "        print(\"前缀合法\")\n",
    "    elif number[:2] == '37':\n",
    "        print(\"前缀合法\")\n",
    "    else:\n",
    "        print(\"前缀不合法\")\n"
   ]
  },
  {
   "cell_type": "code",
   "execution_count": 14,
   "metadata": {},
   "outputs": [
    {
     "output_type": "stream",
     "name": "stdout",
     "text": [
      "13172391647568\n"
     ]
    }
   ],
   "source": [
    "number = \"13172391647568\"\n",
    "def getSize(d):\n",
    "    return number[:d]#返回信用卡的前k位\n",
    "\n",
    "print(getSize(5))"
   ]
  },
  {
   "cell_type": "code",
   "execution_count": null,
   "metadata": {},
   "outputs": [],
   "source": [
    "def getPrefix(number,k):\n",
    "    return number[k]"
   ]
  }
 ]
}