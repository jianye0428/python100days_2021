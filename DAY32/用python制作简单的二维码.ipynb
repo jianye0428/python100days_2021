{
 "metadata": {
  "language_info": {
   "codemirror_mode": {
    "name": "ipython",
    "version": 3
   },
   "file_extension": ".py",
   "mimetype": "text/x-python",
   "name": "python",
   "nbconvert_exporter": "python",
   "pygments_lexer": "ipython3",
   "version": "3.6.9"
  },
  "orig_nbformat": 2,
  "kernelspec": {
   "name": "python369jvsc74a57bd031f2aee4e71d21fbe5cf8b01ff0e069b9275f58929596ceb00d14d90e3e16cd6",
   "display_name": "Python 3.6.9 64-bit"
  },
  "metadata": {
   "interpreter": {
    "hash": "31f2aee4e71d21fbe5cf8b01ff0e069b9275f58929596ceb00d14d90e3e16cd6"
   }
  }
 },
 "nbformat": 4,
 "nbformat_minor": 2,
 "cells": [
  {
   "cell_type": "code",
   "execution_count": 2,
   "metadata": {},
   "outputs": [
    {
     "output_type": "stream",
     "name": "stdout",
     "text": [
      "line 16: mode: numeric\n"
     ]
    },
    {
     "output_type": "execute_result",
     "data": {
      "text/plain": [
       "(1, 'H', '/home/jianye/Projects/python100days_2021/DAY32/qrcode.png')"
      ]
     },
     "metadata": {},
     "execution_count": 2
    }
   ],
   "source": [
    "from MyQR import myqr\n",
    "myqr.run('1234567')"
   ]
  },
  {
   "cell_type": "code",
   "execution_count": 7,
   "metadata": {},
   "outputs": [
    {
     "output_type": "stream",
     "name": "stdout",
     "text": [
      "line 16: mode: numeric\n"
     ]
    },
    {
     "output_type": "execute_result",
     "data": {
      "text/plain": [
       "(1, 'H', '/home/jianye/Projects/python100days_2021/DAY32/demo.png')"
      ]
     },
     "metadata": {},
     "execution_count": 7
    }
   ],
   "source": [
    "from MyQR import myqr\n",
    "myqr.run(words='123456',picture='1.png',save_name='demo.png',colorized=True)"
   ]
  },
  {
   "cell_type": "code",
   "execution_count": 2,
   "metadata": {},
   "outputs": [
    {
     "output_type": "stream",
     "name": "stdout",
     "text": [
      "line 16: mode: byte\n"
     ]
    },
    {
     "output_type": "execute_result",
     "data": {
      "text/plain": [
       "(3, 'H', '/home/jianye/Projects/python100days_2021/DAY32/demo1.gif')"
      ]
     },
     "metadata": {},
     "execution_count": 2
    }
   ],
   "source": [
    "from MyQR import myqr\n",
    "myqr.run(words='https://www.baidu.com',picture='1.gif',save_name='demo1.gif',colorized=True)"
   ]
  },
  {
   "cell_type": "code",
   "execution_count": 1,
   "metadata": {},
   "outputs": [
    {
     "output_type": "stream",
     "name": "stdout",
     "text": [
      "line 16: mode: byte\n"
     ]
    },
    {
     "output_type": "execute_result",
     "data": {
      "text/plain": [
       "(19, 'H', '/home/jianye/Projects/python100days_2021/DAY32/demo2.png')"
      ]
     },
     "metadata": {},
     "execution_count": 1
    }
   ],
   "source": [
    "from MyQR import myqr\n",
    "myqr.run(words='https://www.baidu.com/s?wd=%E8%8C%83%E5%86%B0%E5%86%B0&rsv_spt=1&rsv_iqid=0xa48f245a0000d799&issp=1&f=8&rsv_bp=1&rsv_idx=2&ie=utf8&tn=baiduhome_pg&rsv_enter=1&rsv_sug3=12&rsv_sug1=10&rsv_sug7=100&rsv_t=b7a30UsfuYzvKe8JVKCYqvrCF%2FVdbjT%2B0viM0p7fh8j%2BUKcUaEJF%2FTojpsWfmTDc%2FL5s&rsv_sug2=0&inputT=3459&rsv_sug4=3459&rsv_sug=1',picture='1.png',save_name='demo2.png',colorized=True)"
   ]
  },
  {
   "cell_type": "code",
   "execution_count": null,
   "metadata": {},
   "outputs": [],
   "source": []
  }
 ]
}