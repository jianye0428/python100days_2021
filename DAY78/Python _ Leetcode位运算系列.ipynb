{
 "metadata": {
  "language_info": {
   "codemirror_mode": {
    "name": "ipython",
    "version": 3
   },
   "file_extension": ".py",
   "mimetype": "text/x-python",
   "name": "python",
   "nbconvert_exporter": "python",
   "pygments_lexer": "ipython3",
   "version": "3.6.9"
  },
  "orig_nbformat": 2,
  "kernelspec": {
   "name": "python369jvsc74a57bd031f2aee4e71d21fbe5cf8b01ff0e069b9275f58929596ceb00d14d90e3e16cd6",
   "display_name": "Python 3.6.9 64-bit"
  },
  "metadata": {
   "interpreter": {
    "hash": "31f2aee4e71d21fbe5cf8b01ff0e069b9275f58929596ceb00d14d90e3e16cd6"
   }
  }
 },
 "nbformat": 4,
 "nbformat_minor": 2,
 "cells": [
  {
   "cell_type": "code",
   "execution_count": 6,
   "metadata": {},
   "outputs": [
    {
     "output_type": "stream",
     "name": "stdout",
     "text": [
      "0b1011\n0b10\n2\n11\n9\n-12\n44\n2\n"
     ]
    }
   ],
   "source": [
    "i = 11\n",
    "j = 2\n",
    "\n",
    "print(bin(i))\n",
    "print(bin(j))\n",
    "print(i&j)# 与\n",
    "print(i|j)# 或\n",
    "print(i^j)# 异或\n",
    "print(~i)# 按位取反运算\n",
    "print(i << 2) # 左移\n",
    "print(i >> 2)"
   ]
  },
  {
   "cell_type": "code",
   "execution_count": 8,
   "metadata": {},
   "outputs": [],
   "source": [
    "# 判断奇数还是偶数\n",
    "def isodd(x):\n",
    "    return True if (x%2 == 0) else False\n",
    "def isodd(x):\n",
    "    return Ture if (x & 1) else False"
   ]
  },
  {
   "cell_type": "code",
   "execution_count": null,
   "metadata": {},
   "outputs": [],
   "source": [
    "# 二分查找\n",
    "def binary_search(list, item):\n",
    "    low = 0\n",
    "    high = len(list) - 1\n",
    "    while low <= high:\n",
    "        midpoint = (high + low) // 2\n",
    "        if list[midpoint] == item:\n",
    "            return midpoint\n",
    "        elif list[midpoint] > item:\n",
    "            high = midpoint - 1\n",
    "        elif list[midpoint] < item:\n",
    "            low = midpoint + 1\n",
    "    return None "
   ]
  },
  {
   "cell_type": "code",
   "execution_count": null,
   "metadata": {},
   "outputs": [],
   "source": [
    "# 数值交换\n",
    "a,b = b,a\n",
    "#\n",
    "a ^= b\n",
    "b ^= a\n",
    "a ^= b"
   ]
  },
  {
   "cell_type": "code",
   "execution_count": null,
   "metadata": {},
   "outputs": [],
   "source": [
    "# 判断x的奇偶\n",
    "x % 1 == 1# 为真奇数，为假偶数\n",
    "x & 1 == 1"
   ]
  },
  {
   "cell_type": "code",
   "execution_count": null,
   "metadata": {},
   "outputs": [],
   "source": [
    "# 计算中位数\n",
    "mid = (left + right) / 2\n",
    "mid = (left + right) >> 1"
   ]
  },
  {
   "cell_type": "code",
   "execution_count": null,
   "metadata": {},
   "outputs": [],
   "source": [
    "# 交换两个数\n",
    "a ^= b\n",
    "b ^= a\n",
    "a ^= b"
   ]
  },
  {
   "cell_type": "code",
   "execution_count": null,
   "metadata": {},
   "outputs": [],
   "source": [
    "# LeetCode 第 78题：子集\n",
    "#给定一组不含重复元素的整数数组 nums，返回该数组所有可能的子集（幂集）。\n",
    "# 说明：解集不能包含重复的子集。\n",
    "# 示例:\n",
    "# 输入: nums = [1,2,3]\n",
    "#输出:\n",
    "#[\n",
    "# [3],\n",
    "# [1],\n",
    "# [2],\n",
    "# [1,2,3],\n",
    "# [1,3],\n",
    "# [2,3],\n",
    "# [1,2],\n",
    "# []\n",
    "#]\n",
    "# Related Topics 位运算 数组 回溯算法"
   ]
  },
  {
   "cell_type": "code",
   "execution_count": null,
   "metadata": {},
   "outputs": [],
   "source": [
    "class Solution:\n",
    "    def sublets(self, nums):\n",
    "        ret = []\n",
    "        n = len(nums)\n",
    "        for s in range(1<<n):\n",
    "            cur = []\n",
    "            for i in range(n):\n",
    "                if s & (1<<i):\n",
    "                    cur.append(nums[i])\n",
    "            ret.append(cur)\n",
    "        return ret"
   ]
  },
  {
   "cell_type": "code",
   "execution_count": 9,
   "metadata": {},
   "outputs": [
    {
     "output_type": "stream",
     "name": "stdout",
     "text": [
      "1024\n"
     ]
    }
   ],
   "source": [
    "print(1<<10)"
   ]
  },
  {
   "cell_type": "code",
   "execution_count": null,
   "metadata": {},
   "outputs": [],
   "source": []
  }
 ]
}