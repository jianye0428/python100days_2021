{
 "metadata": {
  "language_info": {
   "codemirror_mode": {
    "name": "ipython",
    "version": 3
   },
   "file_extension": ".py",
   "mimetype": "text/x-python",
   "name": "python",
   "nbconvert_exporter": "python",
   "pygments_lexer": "ipython3",
   "version": "3.6.9"
  },
  "orig_nbformat": 2,
  "kernelspec": {
   "name": "python369jvsc74a57bd031f2aee4e71d21fbe5cf8b01ff0e069b9275f58929596ceb00d14d90e3e16cd6",
   "display_name": "Python 3.6.9 64-bit"
  },
  "metadata": {
   "interpreter": {
    "hash": "31f2aee4e71d21fbe5cf8b01ff0e069b9275f58929596ceb00d14d90e3e16cd6"
   }
  }
 },
 "nbformat": 4,
 "nbformat_minor": 2,
 "cells": [
  {
   "cell_type": "code",
   "execution_count": 8,
   "metadata": {},
   "outputs": [
    {
     "output_type": "stream",
     "name": "stdout",
     "text": [
      "RGB (500, 300)\nRGB (500, 300)\n<PIL.Image.Image image mode=RGB size=500x300 at 0x7FA9281A0400>\n"
     ]
    }
   ],
   "source": [
    "#image.blend(img1, img2, alpha)\n",
    "from PIL import Image\n",
    "im1 = Image.open(\"1.jpeg\")\n",
    "im2 = Image.open(\"2.jpeg\")\n",
    "print(im1.mode,im1.size)\n",
    "print(im2.mode,im2.size)\n",
    "im = Image.blend(im1,im2,0.5)\n",
    "im.save('3.jpg')\n",
    "print(im)"
   ]
  },
  {
   "cell_type": "code",
   "execution_count": 9,
   "metadata": {},
   "outputs": [
    {
     "output_type": "stream",
     "name": "stdout",
     "text": [
      "L\nRGB (500, 300)\nRGB (500, 300)\n"
     ]
    }
   ],
   "source": [
    "from PIL import Image\n",
    "im1 = Image.open(\"1.jpeg\")\n",
    "im2 = Image.open(\"2.jpeg\")\n",
    "r,g,b = im1.split()\n",
    "print(b.mode)\n",
    "print(im1.mode,im1.size)\n",
    "print(im2.mode,im2.size)\n",
    "im = Image.composite(im1,im2,mask = b)\n",
    "im.save('4.jpg')"
   ]
  },
  {
   "cell_type": "code",
   "execution_count": 10,
   "metadata": {},
   "outputs": [],
   "source": [
    "from PIL import Image\n",
    "from PIL import ImageFilter\n",
    "img = Image.open('1.jpeg')\n",
    "blu = img.filter(ImageFilter.BLUR)\n",
    "con = img.filter(ImageFilter.CONTOUR)\n",
    "edge = img.filter(ImageFilter.FIND_EDGES)\n",
    "blu.save('均值滤波.jpg')\n",
    "con.save('找轮廓.jpg')\n",
    "edge.save('边缘检测.jpg')"
   ]
  },
  {
   "cell_type": "code",
   "execution_count": 20,
   "metadata": {},
   "outputs": [
    {
     "output_type": "stream",
     "name": "stdout",
     "text": [
      "原本图像大小:500x300\n缩放后的图片大小: 250x150\n"
     ]
    }
   ],
   "source": [
    "from PIL import Image\n",
    "\n",
    "#open the pic\n",
    "image = Image.open('dandelion.jpeg')\n",
    "\n",
    "image.show()# the original pic\n",
    "#create a new pic\n",
    "newImage = Image.new('RGB',(100,100),'red')\n",
    "newImage.save('new.jpg')\n",
    "# get the size of the pic\n",
    "w,h = image.size\n",
    "print('原本图像大小:%sx%s'%(w,h))\n",
    "# zoom to 50% reduction\n",
    "image.thumbnail((w//2, h//2))\n",
    "w1,h1 = image.size\n",
    "print('缩放后的图片大小: %sx%s' % (w1, h1))\n",
    "# save the zoomed pic as jpeg\n",
    "image.save('new2.jpg','jpeg')\n",
    "# duplicate the pic\n",
    "image2 = image.copy()\n",
    "image2.save(\"new3.jpg\")\n",
    "image2.show()"
   ]
  },
  {
   "cell_type": "code",
   "execution_count": 22,
   "metadata": {},
   "outputs": [],
   "source": [
    "#cut paste and composite\n",
    "\n",
    "box = (0, 0, 100, 100)\n",
    "image3 = image.crop(box)\n",
    "image3.save('new4.jpg')\n",
    "#use this region for upcoming processes\n",
    "region = image.crop(box)\n",
    "# process the copied rectangle selection and paste it into the original image\n",
    "region = region.transpose(Image.ROTATE_180)\n",
    "image.paste(region,box)\n",
    "image.save('new5.jpg')\n",
    "image.show()"
   ]
  },
  {
   "cell_type": "code",
   "execution_count": 25,
   "metadata": {},
   "outputs": [],
   "source": [
    "#rotation\n",
    "image.rotate(90).save('new6.jpg')\n",
    "new6 = Image.open('new6.jpg')\n",
    "new6.show()\n",
    "# transpose\n",
    "image.transpose(Image.FLIP_LEFT_RIGHT).save('new7.jpg')\n",
    "new7 = Image.open('new7.jpg')\n",
    "new7.show()\n",
    "image.transpose(Image.FLIP_TOP_BOTTOM).save('new8.jpg')\n",
    "new8 = Image.open('new8.jpg')\n",
    "new8.show()"
   ]
  },
  {
   "cell_type": "code",
   "execution_count": 29,
   "metadata": {},
   "outputs": [],
   "source": [
    "#filer\n",
    "from PIL import Image, ImageFilter\n",
    "im = Image.open('dandelion.jpeg')\n",
    "#gaussian blur\n",
    "im.filter(ImageFilter.GaussianBlur).save(r'高斯模糊.jpg')\n",
    "# normal blur\n",
    "im.filter(ImageFilter.BLUR).save(r'普通模糊.jpg')\n",
    "# edge enhance\n",
    "im.filter(ImageFilter.EDGE_ENHANCE).save(r'边缘增强.jpg')\n",
    "# edge find\n",
    "im.filter(ImageFilter.FIND_EDGES).save(r'找到边缘.jpg')\n",
    "# emboss\n",
    "im.filter(ImageFilter.EMBOSS).save(r'浮雕.jpg')\n",
    "# contur\n",
    "im.filter(ImageFilter.CONTOUR).save(r'轮廓.jpg')\n",
    "# sharpen\n",
    "im.filter(ImageFilter.SHARPEN).save(r'锐化.jpg')\n",
    "# smooth\n",
    "im.filter(ImageFilter.SMOOTH).save(r'平滑.jpg')\n",
    "# detail\n",
    "im.filter(ImageFilter.DETAIL).save(r'细节.jpg')\n",
    "new_pic = Image.open('细节.jpg')\n",
    "new_pic.show()"
   ]
  },
  {
   "cell_type": "code",
   "execution_count": null,
   "metadata": {},
   "outputs": [],
   "source": []
  }
 ]
}