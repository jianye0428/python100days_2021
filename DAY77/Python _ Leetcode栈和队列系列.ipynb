{
 "metadata": {
  "language_info": {
   "codemirror_mode": {
    "name": "ipython",
    "version": 3
   },
   "file_extension": ".py",
   "mimetype": "text/x-python",
   "name": "python",
   "nbconvert_exporter": "python",
   "pygments_lexer": "ipython3",
   "version": "3.6.9"
  },
  "orig_nbformat": 2,
  "kernelspec": {
   "name": "python369jvsc74a57bd031f2aee4e71d21fbe5cf8b01ff0e069b9275f58929596ceb00d14d90e3e16cd6",
   "display_name": "Python 3.6.9 64-bit"
  },
  "metadata": {
   "interpreter": {
    "hash": "31f2aee4e71d21fbe5cf8b01ff0e069b9275f58929596ceb00d14d90e3e16cd6"
   }
  }
 },
 "nbformat": 4,
 "nbformat_minor": 2,
 "cells": [
  {
   "cell_type": "code",
   "execution_count": null,
   "metadata": {},
   "outputs": [],
   "source": [
    "# LeetCode 第 155题：最小栈\n",
    "# 设计一个支持 push ，pop ，top 操作，并能在常数时间内检索到最小元素的栈。\n",
    "# push(x) —— 将元素 x 推入栈中。\n",
    "# pop() —— 删除栈顶的元素。\n",
    "# top() —— 获取栈顶元素。\n",
    "# getMin() —— 检索栈中的最小元素。\n",
    "# 示例:\n",
    "# 输入：\n",
    "# [\"MinStack\",\"push\",\"push\",\"push\",\"getMin\",\"pop\",\"top\",\"getMin\"]\n",
    "# [[],[-2],[0],[-3],[],[],[],[]]\n",
    "# 输出：\n",
    "# [null,null,null,null,-3,null,0,-2]\n",
    "# 解释：\n",
    "#MinStack minStack = new MinStack();\n",
    "#minStack.push(-2);\n",
    "#minStack.push(0);\n",
    "#minStack.push(-3);\n",
    "#minStack.getMin(); --> 返回 -3.\n",
    "#minStack.pop();\n",
    "#minStack.top(); --> 返回 0.\n",
    "#minStack.getMin(); --> 返回 -2.\n",
    "# 提示：\n",
    "# pop、top 和 getMin 操作总是在 非空栈 上调用。\n",
    "# Related Topics 栈 设计"
   ]
  },
  {
   "cell_type": "code",
   "execution_count": 7,
   "metadata": {},
   "outputs": [
    {
     "output_type": "stream",
     "name": "stdout",
     "text": [
      "3\n3\n"
     ]
    }
   ],
   "source": [
    "class MinStack:\n",
    "    def __init__(self):\n",
    "        self.data = []\n",
    "        self.tmp = []\n",
    "    def push(self, x):\n",
    "        self.data.append(x)\n",
    "        if len(self.tmp) == 0 or x <= self.tmp[-1]:\n",
    "            self.tmp.append(x)\n",
    "        else:\n",
    "            self.tmp.append(self.tmp[-1])\n",
    "    def pop(self):\n",
    "        self.data.pop()\n",
    "        self.tmp.pop()\n",
    "\n",
    "    def top(self):\n",
    "        return self.data[-1]\n",
    "    \n",
    "    def getMin(self):\n",
    "        return self.tmp[-1]\n",
    "obj = MinStack()\n",
    "obj.push(3)\n",
    "param_3 = obj.top()\n",
    "print(param_3)\n",
    "param_4 = obj.getMin()\n",
    "print(param_4)"
   ]
  },
  {
   "cell_type": "code",
   "execution_count": null,
   "metadata": {},
   "outputs": [],
   "source": [
    "# LeetCode 第 225题：用队列实现栈\n",
    "# #使用队列实现栈的下列操作：\n",
    "# push(x) -- 元素 x 入栈\n",
    "# pop() -- 移除栈顶元素\n",
    "# top() -- 获取栈顶元素\n",
    "# empty() -- 返回栈是否为空\n",
    "# 注意:\n",
    "# 你只能使用队列的基本操作-- 也就是 push to back, peek/pop from front, size, 和 is empty 这些操作是合法的。\n",
    "# 你所使用的语言也许不支持队列。 你可以使用 list 或者 deque（双端队列）来模拟一个队列 , 只要是标准的队列操作即可。\n",
    "# 你可以假设所有操作都是有效的（例如, 对一个空的栈不会调用 pop 或者 top 操作）。\n",
    "# Related Topics 栈 设计"
   ]
  },
  {
   "cell_type": "code",
   "execution_count": null,
   "metadata": {},
   "outputs": [],
   "source": [
    "from collections import deque\n",
    "class MyStack:\n",
    "    def __init__(self):\n",
    "        self.q1 = deque()\n",
    "        self.q2 = deque()\n",
    "\n",
    "    def push(self, x):\n",
    "        self.q1.append(x)\n",
    "\n",
    "    def pop(self):\n",
    "        while(len(self.q1)) > 1:\n",
    "            self.q2.append(self.q1.popleft())\n",
    "        tmp = self.q1.popleft()\n",
    "        self.q2, self.q1 = self.q1, self.q2\n",
    "        return tmp\n",
    "\n",
    "    def empty(self):\n",
    "        return not bool(self.q1)\n",
    "\n",
    "    def top(self):\n",
    "        ans = self.pop()\n",
    "        self.q1.append(ans)\n",
    "        return ans"
   ]
  },
  {
   "cell_type": "code",
   "execution_count": null,
   "metadata": {},
   "outputs": [],
   "source": [
    "# LeetCode 第232题：用栈实现队列\n",
    "# #使用栈实现队列的下列操作：\n",
    "# push(x) -- 将一个元素放入队列的尾部。\n",
    "# pop() -- 从队列首部移除元素。\n",
    "# peek() -- 返回队列首部的元素。\n",
    "# empty() -- 返回队列是否为空。\n",
    "# 示例:\n",
    "# MyQueue queue = new MyQueue();\n",
    "#queue.push(1);\n",
    "#queue.push(2);\n",
    "#queue.peek(); // 返回 1\n",
    "#queue.pop(); // 返回 1\n",
    "#queue.empty(); // 返回 false\n",
    "# 说明:\n",
    "# 你只能使用标准的栈操作 -- 也就是只有 push to top, peek/pop from top, size, 和 is empty 操作是合法的。\n",
    "# 你所使用的语言也许不支持栈。你可以使用 list 或者 deque（双端队列）来模拟一个栈，只要是标准的栈操作即可。\n",
    "# 假设所有操作都是有效的 （例如，一个空的队列不会调用 pop 或者 peek 操作）。\n",
    "# Related Topics 栈 设计"
   ]
  },
  {
   "cell_type": "code",
   "execution_count": 10,
   "metadata": {},
   "outputs": [],
   "source": [
    "# 使用一个栈表示队列\n",
    "class MyQueue:\n",
    "    def __init__(self):\n",
    "        self.s = []\n",
    "    def push(self, x):\n",
    "        self.s.append(x)\n",
    "    def pop(self):\n",
    "        return self.s.pop(0)\n",
    "    def peek(self):\n",
    "        return self.s[0]\n",
    "    def empty(self):\n",
    "        return not bool(self.s)"
   ]
  },
  {
   "cell_type": "code",
   "execution_count": null,
   "metadata": {},
   "outputs": [],
   "source": [
    "# 使用两个栈表示队列\n",
    "class MyQueue:\n",
    "    def __init__(self):\n",
    "        self.s1 = []\n",
    "        self.s2 = []\n",
    "\n",
    "    def push(self,x):\n",
    "        return self.s1.append(x)\n",
    "    \n",
    "    def pop(self):\n",
    "        if self.s2:\n",
    "            return self.s2.pop()\n",
    "        else:\n",
    "            if self.s1:\n",
    "                while self.s1:\n",
    "                    self.s2.append(self.s1.pop())\n",
    "                return self.s2.pop()\n",
    "    \n",
    "    def peek(self):\n",
    "        if self.s2:\n",
    "            return self.s2[-1]\n",
    "        else:\n",
    "            if self.s1:\n",
    "                while self.s1:\n",
    "                    self.s2.append(self.s1.pop())\n",
    "                return self.s2[-1]\n",
    "    \n",
    "    def empty(self):\n",
    "        if self.s1 or self.s2:\n",
    "            return False\n",
    "        else:\n",
    "            return True\n",
    "    "
   ]
  }
 ]
}