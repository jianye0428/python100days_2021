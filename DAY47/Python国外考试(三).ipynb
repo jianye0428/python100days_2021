{
 "metadata": {
  "language_info": {
   "codemirror_mode": {
    "name": "ipython",
    "version": 3
   },
   "file_extension": ".py",
   "mimetype": "text/x-python",
   "name": "python",
   "nbconvert_exporter": "python",
   "pygments_lexer": "ipython3",
   "version": "3.6.9"
  },
  "orig_nbformat": 2,
  "kernelspec": {
   "name": "python369jvsc74a57bd031f2aee4e71d21fbe5cf8b01ff0e069b9275f58929596ceb00d14d90e3e16cd6",
   "display_name": "Python 3.6.9 64-bit"
  },
  "metadata": {
   "interpreter": {
    "hash": "31f2aee4e71d21fbe5cf8b01ff0e069b9275f58929596ceb00d14d90e3e16cd6"
   }
  }
 },
 "nbformat": 4,
 "nbformat_minor": 2,
 "cells": [
  {
   "cell_type": "code",
   "execution_count": 4,
   "metadata": {},
   "outputs": [
    {
     "output_type": "stream",
     "name": "stdout",
     "text": [
      "['bear', 'big', 'bit', 'black', 'bug']\n"
     ]
    }
   ],
   "source": [
    "def alliterationMaker(alist,char):\n",
    "    for i in alist:\n",
    "        if i[0] != char:\n",
    "            alist.pop(alist.index(i))\n",
    "    alist.sort()\n",
    "    return alist\n",
    "if __name__ == '__main__':\n",
    "    print(alliterationMaker([\"big\",\"cow\",\"bug\",\"bit\",\"table\",\"black\",\"bear\"],\"b\"))\n"
   ]
  },
  {
   "cell_type": "code",
   "execution_count": null,
   "metadata": {},
   "outputs": [],
   "source": []
  }
 ]
}