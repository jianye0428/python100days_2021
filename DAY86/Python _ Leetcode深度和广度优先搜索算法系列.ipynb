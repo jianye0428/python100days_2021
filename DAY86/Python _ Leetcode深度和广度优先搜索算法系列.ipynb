{
 "cells": [
  {
   "cell_type": "code",
   "execution_count": null,
   "metadata": {},
   "outputs": [],
   "source": [
    "# Leetcode第111题： 二叉树的最小深度\n",
    "#给定一个二叉树，找出其最小深度。\n",
    "# 最小深度是从根节点到最近叶子节点的最短路径上的节点数量。\n",
    "# 说明: 叶子节点是指没有子节点的节点。\n",
    "# 示例:\n",
    "# 给定二叉树 [3,9,20,null,null,15,7],\n",
    "#\n",
    "# 3\n",
    "# / \\\n",
    "# 9 20\n",
    "# / \\\n",
    "# 15 7\n",
    "#\n",
    "# 返回它的最小深度 2.\n",
    "# Related Topics 树 深度优先搜索 广度优先搜索"
   ]
  },
  {
   "cell_type": "code",
   "execution_count": null,
   "metadata": {},
   "outputs": [],
   "source": [
    "# recursion\n",
    "class TreeNode(object):\n",
    "    def __init__(self, x):\n",
    "        self.val = x\n",
    "        self.left = None \n",
    "        self.right = None\n",
    "\n",
    "class Solution(object):\n",
    "    def minDepth(self, root):\n",
    "        if not root:\n",
    "            return 0\n",
    "        return self.get_min_depth(root,0)\n",
    "    def get_min_depth(self, node, depth):\n",
    "        if not node.left and not node.right:\n",
    "            return depth+1\n",
    "        if node.left and node.right:\n",
    "            return min(self.get_min_depth(node.left, depth+1), self.get_min_depth(node.right,depth+1))\n",
    "        if node.left:\n",
    "            return self.get_min_depth(node.left, depth+1)\n",
    "        if node.right:\n",
    "            return self.get_min_depth(node.right,depth+1)\n"
   ]
  },
  {
   "cell_type": "code",
   "execution_count": null,
   "metadata": {},
   "outputs": [],
   "source": [
    "# BFS\n",
    "class Solution:\n",
    "    def minDepth(self, root):\n",
    "        if not root: return 0  \n",
    "        queue = [(1, root)]\n",
    "        while queue:\n",
    "            depth, node = queue.pop(0)\n",
    "            if not node.left and not node.right:\n",
    "                return depth\n",
    "            if node.left:\n",
    "                queue.append((depth+1, node.left))\n",
    "            if node.right:\n",
    "                queue.append((depth+1), node.right)\n",
    "\n"
   ]
  },
  {
   "cell_type": "code",
   "execution_count": 5,
   "metadata": {},
   "outputs": [
    {
     "name": "stdout",
     "output_type": "stream",
     "text": [
      "(1, 2)\n"
     ]
    }
   ],
   "source": [
    "# DFS\n",
    "class Solution:\n",
    "    def minDepth(self, root):\n",
    "        if not root: return 0\n",
    "        stack = [(1,root)]\n",
    "        min_depth = float('inf') \n",
    "        while stack:\n",
    "            depth,node = stack.pop()\n",
    "            if not node.left and not node.right:\n",
    "                min_depth = min(min_depth, depth)\n",
    "            if node.right:\n",
    "                stack.append((depth+1, node.right))\n",
    "            if node.left:\n",
    "                stack.append((depth+1, node.left))\n",
    "        return min_depth"
   ]
  },
  {
   "cell_type": "code",
   "execution_count": null,
   "metadata": {},
   "outputs": [],
   "source": [
    "# Leetcode第112题： 路径总和\n",
    "#给定一个二叉树和一个目标和，判断该树中是否存在根节点到叶子节点的路径，这条路径上所有节点值相加等于目标和。\n",
    "# 说明: 叶子节点是指没有子节点的节点。\n",
    "# 示例:\n",
    "#给定如下二叉树，以及目标和 sum = 22，\n",
    "#\n",
    "# 5\n",
    "# / \\\n",
    "# 4 8\n",
    "# / / \\\n",
    "# 11 13 4\n",
    "# / \\ \\\n",
    "# 7 2 1\n",
    "# 返回 true, 因为存在目标和为 22 的根节点到叶子节点的路径 5->4->11->2。\n",
    "# Related Topics 树 深度优先搜索"
   ]
  },
  {
   "cell_type": "code",
   "execution_count": null,
   "metadata": {},
   "outputs": [],
   "source": [
    "#DFS\n",
    "class Solution:\n",
    "    def hasPathSum(self, root, sum):\n",
    "        if not root:\n",
    "            return False\n",
    "        if not root.left and not root.right:\n",
    "            return sum == root.val\n",
    "        return self.hasPathSum(root.left, sum-root.val) or self.hasPathSum(root.right, sum-root.val)"
   ]
  },
  {
   "cell_type": "code",
   "execution_count": null,
   "metadata": {},
   "outputs": [],
   "source": [
    "#BFS\n",
    "import collections\n",
    "class Solution:\n",
    "    import collections\n",
    "    def hasPathSum(self, root):\n",
    "        if not root:\n",
    "            return False\n",
    "        que_node = collections.deque([root])\n",
    "        que_val = collections.deque([root.val])\n",
    "        while que_node:\n",
    "            now = que_node.popleft()\n",
    "            temp = que_val.popleft()\n",
    "            if not now.left and not now.right:\n",
    "                if temp == sum:\n",
    "                    return True\n",
    "                continue\n",
    "            if now.left:\n",
    "                que_node.append(now.left)\n",
    "                que_val.append(now.left.val + temp)\n",
    "            if now.right:\n",
    "                que_node.append(now.right)\n",
    "                que_val.append(now.right.val + temp)\n",
    "        return False            "
   ]
  },
  {
   "cell_type": "code",
   "execution_count": 7,
   "metadata": {},
   "outputs": [],
   "source": [
    "import collections"
   ]
  },
  {
   "cell_type": "code",
   "execution_count": null,
   "metadata": {},
   "outputs": [],
   "source": []
  }
 ],
 "metadata": {
  "kernelspec": {
   "display_name": "Python 3.6.9 64-bit",
   "name": "python369jvsc74a57bd031f2aee4e71d21fbe5cf8b01ff0e069b9275f58929596ceb00d14d90e3e16cd6"
  },
  "language_info": {
   "codemirror_mode": {
    "name": "ipython",
    "version": 3
   },
   "file_extension": ".py",
   "mimetype": "text/x-python",
   "name": "python",
   "nbconvert_exporter": "python",
   "pygments_lexer": "ipython3",
   "version": "3.6.9"
  },
  "metadata": {
   "interpreter": {
    "hash": "31f2aee4e71d21fbe5cf8b01ff0e069b9275f58929596ceb00d14d90e3e16cd6"
   }
  },
  "orig_nbformat": 2
 },
 "nbformat": 4,
 "nbformat_minor": 2
}