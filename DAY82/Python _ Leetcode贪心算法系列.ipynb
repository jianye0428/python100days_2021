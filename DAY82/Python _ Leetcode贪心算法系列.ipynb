{
 "cells": [
  {
   "cell_type": "code",
   "execution_count": null,
   "metadata": {},
   "outputs": [],
   "source": [
    "# 最大和的连续子数组\n",
    "# 给定一个整数数组 nums ，找到一个具有最大和的连续子数组（子数组最少包含一个元素），返回其最大和。\n",
    "# 示例:\n",
    "# 输入: [-2,1,-3,4,-1,2,1,-5,4],\n",
    "# 输出: 6\n",
    "# 解释: 连续子数组[4,-1,2,1] 的和最大，为 6。"
   ]
  },
  {
   "cell_type": "code",
   "execution_count": 1,
   "metadata": {},
   "outputs": [
    {
     "name": "stdout",
     "output_type": "stream",
     "text": [
      "6\n"
     ]
    }
   ],
   "source": [
    "nums = [-2,1,-3,4,-1,2,1,-5,4]\n",
    "tmp = nums[0]\n",
    "max_ = tmp\n",
    "n = len(nums)\n",
    "for i in range(1,n):\n",
    "    if tmp + nums[i] > nums[i]:\n",
    "        max_ = max(max_, tmp+nums[i])\n",
    "        tmp = tmp + nums[i]\n",
    "    else:\n",
    "        max_ = max(max_, tmp, tmp+nums[i], nums[i])\n",
    "        tmp = nums[i]\n",
    "    \n",
    "print(max_)\n"
   ]
  },
  {
   "cell_type": "code",
   "execution_count": 2,
   "metadata": {},
   "outputs": [
    {
     "name": "stdout",
     "output_type": "stream",
     "text": [
      "6\n"
     ]
    }
   ],
   "source": [
    "# 贪心算法 代码\n",
    "\n",
    "nums = [-2,1,-3,4,-1,2,1,-5,4]\n",
    "lenth = len(nums)\n",
    "cur_sum = max_sum = nums[0]\n",
    "for i in range(1, lenth):\n",
    "    cur_sum = max(cur_sum+nums[i],nums[i])\n",
    "    max_sum = max(cur_sum, max_sum)\n",
    "print(max_sum)"
   ]
  },
  {
   "cell_type": "code",
   "execution_count": 3,
   "metadata": {},
   "outputs": [
    {
     "name": "stdout",
     "output_type": "stream",
     "text": [
      "[0, 1, 1, 1, 1, 3]\n"
     ]
    }
   ],
   "source": [
    "# arr的每一位：分别对应100块、50块、20块、10块、5块、1块纸币。\n",
    "arr = [0,0,0,0,0,0]\n",
    "def change(money):\n",
    "    while money >=1:\n",
    "        if money >=100:\n",
    "            money-=100\n",
    "            arr[0]+=1\n",
    "        elif money >=50:\n",
    "            money-=50\n",
    "            arr[1]+=1\n",
    "        elif money >=20:\n",
    "            money-=20\n",
    "            arr[2]+=1\n",
    "        elif money>=10:\n",
    "            money-=10\n",
    "            arr[3]+=1\n",
    "        elif money >=5:\n",
    "            money-=5\n",
    "            arr[4]+=1\n",
    "        elif money>=1:\n",
    "            money-=1\n",
    "            arr[5]+=1\n",
    "\n",
    "change(88)\n",
    "print(arr)\n"
   ]
  },
  {
   "cell_type": "code",
   "execution_count": null,
   "metadata": {},
   "outputs": [],
   "source": [
    "# LeetCode 第 55题：跳跃游戏\n",
    "# #给定一个非负整数数组，你最初位于数组的第一个位置。\n",
    "# 数组中的每个元素代表你在该位置可以跳跃的最大长度。\n",
    "# 判断你是否能够到达最后一个位置。\n",
    "# 示例 1:\n",
    "# 输入: [2,3,1,1,4]\n",
    "#输出: true\n",
    "#解释: 我们可以先跳 1 步，从位置 0 到达 位置 1, 然后再从位置 1 跳 3 步到达最后一个位置。\n",
    "# 示例 2:\n",
    "# 输入: [3,2,1,0,4]\n",
    "#输出: false\n",
    "#解释: 无论怎样，你总会到达索引为 3 的位置。但该位置的最大跳跃长度是 0 ， 所以你永远不可能到达最后一个位置。\n",
    "# Related Topics 贪心算法 数组"
   ]
  },
  {
   "cell_type": "code",
   "execution_count": null,
   "metadata": {},
   "outputs": [],
   "source": [
    "class Solution:\n",
    "    def canJamp(self, nums):\n",
    "        farthest = nums[0]\n",
    "        for i in range(len(nums)):\n",
    "            if i <= farthest:\n",
    "                farthest = max(i+nums[i], farthest)\n",
    "            \n",
    "            return len(nums)-1 < farthest"
   ]
  },
  {
   "cell_type": "code",
   "execution_count": null,
   "metadata": {},
   "outputs": [],
   "source": [
    "# LeetCode 第 122题： 买卖股票的最佳时机 II\n",
    "# #给定一个数组，它的第 i 个元素是一支给定股票第 i 天的价格。\n",
    "# 设计一个算法来计算你所能获取的最大利润。你可以尽可能地完成更多的交易（多次买卖一支股票）。\n",
    "# 注意：你不能同时参与多笔交易（你必须在再次购买前出售掉之前的股票）。\n",
    "# 示例 1:\n",
    "# 输入: [7,1,5,3,6,4]\n",
    "#输出: 7\n",
    "#解释: 在第 2 天（股票价格 = 1）的时候买入，在第 3 天（股票价格 = 5）的时候卖出, 这笔交易所能获得利润 = 5-1 = 4 。\n",
    "# 随后，在第 4 天（股票价格 = 3）的时候买入，在第 5 天（股票价格 = 6）的时候卖出, 这笔交易所能获得利润 = 6-3 = 3 。\n",
    "# 示例 2:\n",
    "# 输入: [1,2,3,4,5]\n",
    "#输出: 4\n",
    "#解释: 在第 1 天（股票价格 = 1）的时候买入，在第 5 天 （股票价格 = 5）的时候卖出, 这笔交易所能获得利润 = 5-1 = 4 。\n",
    "# 注意你不能在第 1 天和第 2 天接连购买股票，之后再将它们卖出。\n",
    "# 因为这样属于同时参与了多笔交易，你必须在再次购买前出售掉之前的股票。\n",
    "# 示例 3:\n",
    "# 输入: [7,6,4,3,1]\n",
    "#输出: 0\n",
    "#解释: 在这种情况下, 没有交易完成, 所以最大利润为 0。\n",
    "# 提示：\n",
    "# 1 <= prices.length <= 3 * 10 ^ 4\n",
    "# 0 <= prices[i] <= 10 ^ 4\n",
    "# Related Topics 贪心算法 数组"
   ]
  },
  {
   "cell_type": "code",
   "execution_count": 7,
   "metadata": {},
   "outputs": [
    {
     "name": "stdout",
     "output_type": "stream",
     "text": [
      "7\n"
     ]
    }
   ],
   "source": [
    "class Solution:\n",
    "    def maxProfit(self, nums):\n",
    "        sum = 0\n",
    "        for i in range(len(nums)-1):\n",
    "            if nums[i+1]>nums[i]:\n",
    "                sum = sum + (nums[i+1]-nums[i])\n",
    "            else:\n",
    "                continue\n",
    "        return sum\n",
    "solver = Solution()\n",
    "nums = [7,1,5,3,6,4]\n",
    "print(solver.maxProfit(nums))"
   ]
  },
  {
   "cell_type": "code",
   "execution_count": null,
   "metadata": {},
   "outputs": [],
   "source": []
  }
 ],
 "metadata": {
  "kernelspec": {
   "display_name": "Python 3.6.9 64-bit",
   "name": "python369jvsc74a57bd031f2aee4e71d21fbe5cf8b01ff0e069b9275f58929596ceb00d14d90e3e16cd6"
  },
  "language_info": {
   "codemirror_mode": {
    "name": "ipython",
    "version": 3
   },
   "file_extension": ".py",
   "mimetype": "text/x-python",
   "name": "python",
   "nbconvert_exporter": "python",
   "pygments_lexer": "ipython3",
   "version": "3.6.9"
  },
  "metadata": {
   "interpreter": {
    "hash": "31f2aee4e71d21fbe5cf8b01ff0e069b9275f58929596ceb00d14d90e3e16cd6"
   }
  },
  "orig_nbformat": 2
 },
 "nbformat": 4,
 "nbformat_minor": 2
}