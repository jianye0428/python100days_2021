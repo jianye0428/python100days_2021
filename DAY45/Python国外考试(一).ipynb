{
 "metadata": {
  "language_info": {
   "codemirror_mode": {
    "name": "ipython",
    "version": 3
   },
   "file_extension": ".py",
   "mimetype": "text/x-python",
   "name": "python",
   "nbconvert_exporter": "python",
   "pygments_lexer": "ipython3",
   "version": "3.6.9"
  },
  "orig_nbformat": 2,
  "kernelspec": {
   "name": "python369jvsc74a57bd031f2aee4e71d21fbe5cf8b01ff0e069b9275f58929596ceb00d14d90e3e16cd6",
   "display_name": "Python 3.6.9 64-bit"
  },
  "metadata": {
   "interpreter": {
    "hash": "31f2aee4e71d21fbe5cf8b01ff0e069b9275f58929596ceb00d14d90e3e16cd6"
   }
  }
 },
 "nbformat": 4,
 "nbformat_minor": 2,
 "cells": [
  {
   "cell_type": "code",
   "execution_count": 6,
   "metadata": {},
   "outputs": [
    {
     "output_type": "stream",
     "name": "stdout",
     "text": [
      "[0, 2]\n"
     ]
    }
   ],
   "source": [
    "# Ques 1\n",
    "def samPlaces(s1, s2):\n",
    "    if len(s1) != len(s2):\n",
    "        return []\n",
    "    my_dict = {}\n",
    "    my_index = []\n",
    "    for index,item in enumerate(s1):\n",
    "        my_dict[item] = index \n",
    "    for i in s2:\n",
    "        if i in my_dict.keys() and my_dict[i] == s2.index(i):\n",
    "            my_index.append(my_dict[i])\n",
    "    return my_index\n",
    "if __name__ == '__main__':\n",
    "    print(samPlaces([1,7,9],[1,3,9]))"
   ]
  },
  {
   "cell_type": "code",
   "execution_count": 8,
   "metadata": {},
   "outputs": [
    {
     "output_type": "error",
     "ename": "FileNotFoundError",
     "evalue": "[Errno 2] No such file or directory: 'rawData.txt'",
     "traceback": [
      "\u001b[0;31m---------------------------------------------------------------------------\u001b[0m",
      "\u001b[0;31mFileNotFoundError\u001b[0m                         Traceback (most recent call last)",
      "\u001b[0;32m<ipython-input-8-08a79a7bd078>\u001b[0m in \u001b[0;36m<module>\u001b[0;34m\u001b[0m\n\u001b[1;32m     40\u001b[0m \u001b[0;34m\u001b[0m\u001b[0m\n\u001b[1;32m     41\u001b[0m \u001b[0;32mif\u001b[0m \u001b[0m__name__\u001b[0m \u001b[0;34m==\u001b[0m \u001b[0;34m\"__main__\"\u001b[0m\u001b[0;34m:\u001b[0m\u001b[0;34m\u001b[0m\u001b[0;34m\u001b[0m\u001b[0m\n\u001b[0;32m---> 42\u001b[0;31m     \u001b[0mdata\u001b[0m \u001b[0;34m=\u001b[0m \u001b[0mreadFromFile\u001b[0m\u001b[0;34m(\u001b[0m\u001b[0;34m\"rawData.txt\"\u001b[0m\u001b[0;34m)\u001b[0m\u001b[0;34m\u001b[0m\u001b[0;34m\u001b[0m\u001b[0m\n\u001b[0m\u001b[1;32m     43\u001b[0m     \u001b[0msort_data\u001b[0m \u001b[0;34m=\u001b[0m \u001b[0msort\u001b[0m\u001b[0;34m(\u001b[0m\u001b[0mdata\u001b[0m\u001b[0;34m)\u001b[0m\u001b[0;34m\u001b[0m\u001b[0;34m\u001b[0m\u001b[0m\n\u001b[1;32m     44\u001b[0m     \u001b[0mmodifylist\u001b[0m\u001b[0;34m(\u001b[0m\u001b[0msort_data\u001b[0m\u001b[0;34m)\u001b[0m\u001b[0;34m\u001b[0m\u001b[0;34m\u001b[0m\u001b[0m\n",
      "\u001b[0;32m<ipython-input-8-08a79a7bd078>\u001b[0m in \u001b[0;36mreadFromFile\u001b[0;34m(filename)\u001b[0m\n\u001b[1;32m      1\u001b[0m \u001b[0;32mdef\u001b[0m \u001b[0mreadFromFile\u001b[0m\u001b[0;34m(\u001b[0m\u001b[0mfilename\u001b[0m\u001b[0;34m)\u001b[0m\u001b[0;34m:\u001b[0m\u001b[0;34m\u001b[0m\u001b[0;34m\u001b[0m\u001b[0m\n\u001b[1;32m      2\u001b[0m     \u001b[0mlst\u001b[0m \u001b[0;34m=\u001b[0m \u001b[0;34m[\u001b[0m\u001b[0;34m]\u001b[0m\u001b[0;34m\u001b[0m\u001b[0;34m\u001b[0m\u001b[0m\n\u001b[0;32m----> 3\u001b[0;31m     \u001b[0mfp\u001b[0m \u001b[0;34m=\u001b[0m \u001b[0mopen\u001b[0m\u001b[0;34m(\u001b[0m\u001b[0mfilename\u001b[0m\u001b[0;34m,\u001b[0m\u001b[0;34m\"r\"\u001b[0m\u001b[0;34m)\u001b[0m\u001b[0;34m\u001b[0m\u001b[0;34m\u001b[0m\u001b[0m\n\u001b[0m\u001b[1;32m      4\u001b[0m     \u001b[0mitem\u001b[0m \u001b[0;34m=\u001b[0m \u001b[0mfp\u001b[0m\u001b[0;34m.\u001b[0m\u001b[0mreadfile\u001b[0m\u001b[0;34m(\u001b[0m\u001b[0;34m)\u001b[0m\u001b[0;34m.\u001b[0m\u001b[0mstrip\u001b[0m\u001b[0;34m(\u001b[0m\u001b[0;34m)\u001b[0m\u001b[0;34m\u001b[0m\u001b[0;34m\u001b[0m\u001b[0m\n\u001b[1;32m      5\u001b[0m     \u001b[0;32mwhile\u001b[0m \u001b[0mitem\u001b[0m \u001b[0;34m!=\u001b[0m \u001b[0;34m' '\u001b[0m\u001b[0;34m:\u001b[0m\u001b[0;34m\u001b[0m\u001b[0;34m\u001b[0m\u001b[0m\n",
      "\u001b[0;31mFileNotFoundError\u001b[0m: [Errno 2] No such file or directory: 'rawData.txt'"
     ]
    }
   ],
   "source": [
    "def readFromFile(filename):\n",
    "    lst = []\n",
    "    fp = open(filename,\"r\")\n",
    "    item = fp.readfile().strip()\n",
    "    while item != ' ':\n",
    "        lst.append(item)\n",
    "        item = fp.readline().strip()\n",
    "    fp.close()\n",
    "    return lst\n",
    "\n",
    "def writeToFile(contents,filename):\n",
    "    fp = open(filename, \"w\")\n",
    "    fp.write(\"begin\\n\")\n",
    "    for item in contents:\n",
    "        fp.write(item + \" \")\n",
    "    fp.write(\"\\nend\")\n",
    "    fp.close()\n",
    "\n",
    "def sort(lis):\n",
    "    if len(lis) < 2:\n",
    "        return lis\n",
    "    less, equal, greater = [],[],[]\n",
    "    pval = lis[0]\n",
    "    for i in lis:\n",
    "        if i < pval:\n",
    "            less.append(i)\n",
    "        elif i > pval:\n",
    "            greater.append(i)\n",
    "        else:\n",
    "            equal.append(i)\n",
    "    return sort(less) + equal + sort(greater)\n",
    "\n",
    "def modifylist(valus):\n",
    "    i = 0\n",
    "    while i < len(values):\n",
    "        if values[i][0] == values[i][-1] or (\" \" in values[i]):\n",
    "            del values[i]\n",
    "        else:\n",
    "            i += 1\n",
    "\n",
    "if __name__ == \"__main__\":\n",
    "    data = readFromFile(\"rawData.txt\")\n",
    "    sort_data = sort(data)\n",
    "    modifylist(sort_data)\n",
    "    print(sort_data)\n",
    "    writeToFile(sort_data, \"cookedData.txt\")"
   ]
  },
  {
   "cell_type": "code",
   "execution_count": 9,
   "metadata": {},
   "outputs": [
    {
     "output_type": "stream",
     "name": "stdout",
     "text": [
      "[17, 15, 11, 9, -2, -28]\n"
     ]
    }
   ],
   "source": [
    "def sort(lis):\n",
    "    if len(lis) < 2:\n",
    "        return lis\n",
    "    less, equal, greater = [],[],[]\n",
    "    pval = lis[0]\n",
    "    for i in lis:\n",
    "        if i > pval:\n",
    "            less.append(i)\n",
    "        elif i < pval:\n",
    "            greater.append(i)\n",
    "        else:\n",
    "            equal.append(i)\n",
    "    return sort(less) + equal + sort(greater)\n",
    "if __name__ == \"__main__\":\n",
    "    print(sort([17,-28,11,9,15,-2]))\n",
    "    "
   ]
  },
  {
   "cell_type": "code",
   "execution_count": 12,
   "metadata": {},
   "outputs": [
    {
     "output_type": "stream",
     "name": "stdout",
     "text": [
      "[1, 4, 4, 6, 7, 8, 9, 12, 15]\n"
     ]
    }
   ],
   "source": [
    "def merge(a,b):\n",
    "    '''\n",
    "    合并排序，两个已经排序号的列表\n",
    "    '''\n",
    "    c = []\n",
    "    h = j = 0\n",
    "    # 谁小加谁\n",
    "    while j < len(a) and h < len(b):\n",
    "        if a[j] < b[h]:\n",
    "            c.append(a[j])\n",
    "            j+=1\n",
    "        else:\n",
    "            c.append(b[h])\n",
    "            h+=1\n",
    "    if j == len(a):\n",
    "        for i in b[h:]:\n",
    "            c.append(i)\n",
    "    if h == len(b):\n",
    "        for i in a[j:]:\n",
    "            c.append(i)\n",
    "    return c\n",
    "\n",
    "if __name__ == '__main__':\n",
    "    print(merge([4,7,9,12],[1,4,6,8,15]))\n",
    "        "
   ]
  },
  {
   "cell_type": "code",
   "execution_count": null,
   "metadata": {},
   "outputs": [],
   "source": []
  },
  {
   "cell_type": "code",
   "execution_count": null,
   "metadata": {},
   "outputs": [],
   "source": []
  }
 ]
}