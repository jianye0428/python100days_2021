{
 "metadata": {
  "language_info": {
   "codemirror_mode": {
    "name": "ipython",
    "version": 3
   },
   "file_extension": ".py",
   "mimetype": "text/x-python",
   "name": "python",
   "nbconvert_exporter": "python",
   "pygments_lexer": "ipython3",
   "version": "3.6.9"
  },
  "orig_nbformat": 2,
  "kernelspec": {
   "name": "python369jvsc74a57bd031f2aee4e71d21fbe5cf8b01ff0e069b9275f58929596ceb00d14d90e3e16cd6",
   "display_name": "Python 3.6.9 64-bit"
  },
  "metadata": {
   "interpreter": {
    "hash": "31f2aee4e71d21fbe5cf8b01ff0e069b9275f58929596ceb00d14d90e3e16cd6"
   }
  }
 },
 "nbformat": 4,
 "nbformat_minor": 2,
 "cells": [
  {
   "cell_type": "code",
   "execution_count": null,
   "metadata": {},
   "outputs": [],
   "source": [
    "# 旋转数组的最小数字\n",
    "#把一个数组最开始的若干个元素搬到数组的末尾，我们称之为数组的旋转。输入一个递增排序的数组的一个旋转，输出旋转数组的最小元素。例如，数组 [3,4,5,1,2] 为 [1,2,3,4,5] 的一个旋转，该数组的最小值为1。 \n",
    "# 示例 1： \n",
    "# 输入：[3,4,5,1,2]\n",
    "#输出：1\n",
    "# 示例 2： \n",
    "# 输入：[2,2,2,0,1]\n",
    "#输出：0\n",
    "# 注意：本题与主站 154 题相同：https://leetcode-cn.com/problems/find-minimum-in-rotated-sorted-array-ii/ \n",
    "# Related Topics 二分查找"
   ]
  },
  {
   "cell_type": "code",
   "execution_count": 3,
   "metadata": {},
   "outputs": [
    {
     "output_type": "stream",
     "name": "stdout",
     "text": [
      "1\n"
     ]
    }
   ],
   "source": [
    "class Solution:\n",
    "    def minArray(self, numbers)->int:\n",
    "        return min(numbers)\n",
    "numbers = [3,4,5,1,2]\n",
    "solver = Solution()\n",
    "print(solver.minArray(numbers))"
   ]
  },
  {
   "cell_type": "code",
   "execution_count": 4,
   "metadata": {},
   "outputs": [
    {
     "output_type": "stream",
     "name": "stdout",
     "text": [
      "1\n"
     ]
    }
   ],
   "source": [
    "class Solution:\n",
    "    def minArray(self, numbers):\n",
    "        l, r = 0,len(numbers)-1\n",
    "        while l<r:\n",
    "            mid = (l+r)//2\n",
    "            if numbers[mid] > numbers[r]:\n",
    "                l = mid + 1\n",
    "            elif numbers[mid] < numbers[r]:\n",
    "                r = mid\n",
    "            else:\n",
    "                r -= 1\n",
    "        return numbers[l]\n",
    "numbers = [3,4,5,1,2]\n",
    "solver = Solution()\n",
    "print(solver.minArray(numbers))"
   ]
  },
  {
   "cell_type": "code",
   "execution_count": null,
   "metadata": {},
   "outputs": [],
   "source": [
    "# 0～n-1中缺失的数字\n",
    "#一个长度为n-1的递增排序数组中的所有数字都是唯一的，并且每个数字都在范围0～n-1之内。在范围0～n-1内的n个数字中有且只有一个数字不在该数组中，请找出这个数字。\n",
    "# 示例 1:\n",
    "# 输入: [0,1,3]\n",
    "#输出: 2\n",
    "# 示例 2:\n",
    "# 输入: [0,1,2,3,4,5,6,7,9]\n",
    "#输出: 8\n",
    "# 限制：\n",
    "# 1 <= 数组长度 <= 10000\n",
    "# Related Topics 数组 二分查找\n",
    "\n"
   ]
  },
  {
   "cell_type": "code",
   "execution_count": 6,
   "metadata": {},
   "outputs": [
    {
     "output_type": "stream",
     "name": "stdout",
     "text": [
      "8\n"
     ]
    }
   ],
   "source": [
    "class Solution:\n",
    "    def missingNumber(self,nums):\n",
    "        i,j = 0, len(nums)-1\n",
    "        while i<j:\n",
    "            m = (i+j)//2\n",
    "            if nums[m] == m:\n",
    "                i = m+1\n",
    "            else:\n",
    "                j = m-1\n",
    "        return i\n",
    "numbers = [0,1,2,3,4,5,6,7,9]\n",
    "solver = Solution()\n",
    "print(solver.missingNumber(numbers))"
   ]
  },
  {
   "cell_type": "code",
   "execution_count": null,
   "metadata": {},
   "outputs": [],
   "source": [
    "# leetcode 66 加一\n",
    "#给定一个由整数组成的非空数组所表示的非负整数，在该数的基础上加一。\n",
    "# 最高位数字存放在数组的首位， 数组中每个元素只存储单个数字。\n",
    "# 你可以假设除了整数 0 之外，这个整数不会以零开头。\n",
    "# 示例 1:\n",
    "# 输入: [1,2,3]\n",
    "#输出: [1,2,4]\n",
    "#解释: 输入数组表示数字 123。\n",
    "\n",
    "# 示例 2:\n",
    "# 输入: [4,3,2,1]\n",
    "#输出: [4,3,2,2]\n",
    "#解释: 输入数组表示数字 4321。\n"
   ]
  },
  {
   "cell_type": "code",
   "execution_count": 12,
   "metadata": {},
   "outputs": [
    {
     "output_type": "stream",
     "name": "stdout",
     "text": [
      "[1, 3, 0, 0, 0]\n"
     ]
    }
   ],
   "source": [
    "class Solution:\n",
    "    def plusOne(self, digits):\n",
    "        for i in range(len(digits)-1, -1, -1):\n",
    "            if digits[i] < 9:\n",
    "                digits[i] += 1\n",
    "                return digits\n",
    "            digits[i] = 0\n",
    "        return [1] + digits\n",
    "solver = Solution()\n",
    "print(solver.plusOne([1,2,9,9,9]))\n",
    "    "
   ]
  },
  {
   "cell_type": "code",
   "execution_count": 8,
   "metadata": {},
   "outputs": [
    {
     "output_type": "stream",
     "name": "stdout",
     "text": [
      "10\n9\n8\n7\n6\n5\n4\n3\n2\n1\n0\n"
     ]
    }
   ],
   "source": [
    "for i in range(10,-1,-1):\n",
    "    print(i)"
   ]
  },
  {
   "cell_type": "code",
   "execution_count": 13,
   "metadata": {},
   "outputs": [
    {
     "output_type": "stream",
     "name": "stdout",
     "text": [
      "[1, 3, 0, 0, 0]\n"
     ]
    }
   ],
   "source": [
    "class Solution:\n",
    "    def plusOne(self,digits):\n",
    "        nums_str = \"\"\n",
    "        for i in digits:\n",
    "            nums_str = nums_str+str(i)\n",
    "        nums_int = int(nums_str)+1\n",
    "        res = []\n",
    "        for i in str(nums_int):\n",
    "            res.append(int(i))\n",
    "        return res\n",
    "\n",
    "solver = Solution()\n",
    "print(solver.plusOne([1,2,9,9,9]))"
   ]
  },
  {
   "cell_type": "code",
   "execution_count": null,
   "metadata": {},
   "outputs": [],
   "source": [
    "# 在排序数组中查找数字的次数 I\n",
    "# 统计一个数字在排序数组中出现的次数。\n",
    "# 示例 1:\n",
    "# 输入: nums = [5,7,7,8,8,10], target = 8\n",
    "#输出: 2\n",
    "# 示例 2:\n",
    "# 输入: nums = [5,7,7,8,8,10], target = 6\n",
    "#输出: 0\n",
    "# 限制：\n",
    "# 0 <= 数组长度 <= 50000\n",
    "# 注意：本题与主站 34 题相同（仅返回值不同）：https://leetcode-cn.com/problems/find-first-and-last-position-of-element-in-sorted-array/\n",
    "# Related Topics 数组 二分查找"
   ]
  },
  {
   "cell_type": "code",
   "execution_count": 15,
   "metadata": {},
   "outputs": [
    {
     "output_type": "stream",
     "name": "stdout",
     "text": [
      "2\n"
     ]
    }
   ],
   "source": [
    "def find(nums, target):\n",
    "    if len(nums) == 0:\n",
    "        return 0\n",
    "    else:\n",
    "        return nums.count(target)\n",
    "print(find([5,7,7,8,8,10],8))"
   ]
  },
  {
   "cell_type": "code",
   "execution_count": 17,
   "metadata": {},
   "outputs": [
    {
     "output_type": "stream",
     "name": "stdout",
     "text": [
      "2\n"
     ]
    }
   ],
   "source": [
    "class Solution:\n",
    "    def search(self, nums, target):\n",
    "        #双指针\n",
    "        l = 0\n",
    "        r = len(nums) - 1\n",
    "        while l <= r:\n",
    "            if nums[l] < target:\n",
    "                l += 1\n",
    "            elif nums[r] > target:\n",
    "                r -= 1\n",
    "            elif nums[l] == nums[r] == target:\n",
    "                return r - l + 1\n",
    "        return 0\n",
    "solver = Solution()\n",
    "print(solver.search([5,7,7,8,8,10],8))"
   ]
  },
  {
   "cell_type": "code",
   "execution_count": null,
   "metadata": {},
   "outputs": [],
   "source": [
    "#给定一个按非递减顺序排序的整数数组 A，返回每个数字的平方组成的新数组，要求也按非递减顺序排序。\n",
    "# 示例 1：\n",
    "# 输入：[-4,-1,0,3,10]\n",
    "#输出：[0,1,9,16,100]\n",
    "# 示例 2：\n",
    "# 输入：[-7,-3,2,3,11]\n",
    "#输出：[4,9,9,49,121]\n",
    "# 提示：\n",
    "# 1 <= A.length <= 10000\n",
    "# -10000 <= A[i] <= 10000\n",
    "# A 已按非递减顺序排序。\n",
    "# Related Topics 数组 双指针"
   ]
  },
  {
   "cell_type": "code",
   "execution_count": 2,
   "metadata": {},
   "outputs": [
    {
     "output_type": "stream",
     "name": "stdout",
     "text": [
      "[1, 9, 16, 100]\n"
     ]
    }
   ],
   "source": [
    "class Solution1:\n",
    "    def sortedSquares(self, A):\n",
    "        l, r, res = 0, len(A)-1,[]\n",
    "        while l < r:\n",
    "            if abs(A[l]) > abs(A[r]):\n",
    "                res.insert(0, pow(A[l],2))\n",
    "                l += 1\n",
    "            else:\n",
    "                res.insert(0, pow(A[r],2))\n",
    "                r -= 1\n",
    "        return res\n",
    "solver = Solution1()\n",
    "print(solver.sortedSquares([-4,-1,0,3,10]))"
   ]
  },
  {
   "cell_type": "code",
   "execution_count": 8,
   "metadata": {},
   "outputs": [
    {
     "output_type": "stream",
     "name": "stdout",
     "text": [
      "[1]\n"
     ]
    }
   ],
   "source": [
    "res = []\n",
    "res.insert(0,1)\n",
    "print(res)"
   ]
  },
  {
   "cell_type": "code",
   "execution_count": null,
   "metadata": {},
   "outputs": [],
   "source": []
  }
 ]
}