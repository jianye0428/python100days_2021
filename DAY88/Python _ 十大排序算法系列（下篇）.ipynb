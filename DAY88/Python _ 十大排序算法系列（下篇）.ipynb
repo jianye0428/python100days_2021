{
 "cells": [
  {
   "cell_type": "code",
   "execution_count": 2,
   "metadata": {},
   "outputs": [
    {
     "name": "stdout",
     "output_type": "stream",
     "text": [
      "[1, 1, 2, 3, 3, 4, 4, 5, 6]\n"
     ]
    }
   ],
   "source": [
    "# 快速排序\n",
    "def quicksort(array):\n",
    "    if len(array) < 2:\n",
    "        return array\n",
    "    else:\n",
    "        pivot = array[0]\n",
    "        less = [i for i in array[1:] if i <= pivot]\n",
    "        greater = [i for i in array[1:] if i > pivot]\n",
    "        return quicksort(less) + [pivot] + quicksort(greater)\n",
    "\n",
    "print(quicksort([1,3,4,3,4,6,2,1,5]))"
   ]
  },
  {
   "cell_type": "code",
   "execution_count": 3,
   "metadata": {},
   "outputs": [
    {
     "name": "stdout",
     "output_type": "stream",
     "text": [
      "[2, 4, 5, 13, 15, 17, 18, 21, 24, 26]\n"
     ]
    }
   ],
   "source": [
    "# 堆排序\n",
    "from heapq import heappop, heappush\n",
    "def heap_sort(array):\n",
    "    heap = []\n",
    "    for element in array:\n",
    "        heappush(heap, element)\n",
    "\n",
    "    ordered = []\n",
    "    while heap:\n",
    "        ordered.append(heappop(heap))\n",
    "    return ordered\n",
    "\n",
    "array = [13, 21, 15, 5, 26, 4, 17, 18, 24, 2]\n",
    "\n",
    "print(heap_sort(array))"
   ]
  },
  {
   "cell_type": "code",
   "execution_count": 7,
   "metadata": {},
   "outputs": [
    {
     "name": "stdout",
     "output_type": "stream",
     "text": [
      "[2, 3, 3, 4, 6, 6, 7, 8]\n"
     ]
    }
   ],
   "source": [
    "#计数排序\n",
    "def count_sort(s):\n",
    "    min_num = min(s)\n",
    "    max_num = max(s)\n",
    "    #计数列表\n",
    "    count_list = [0]*(max_num - min_num+1)\n",
    "    for i in s:\n",
    "        count_list[i - min_num] +=1\n",
    "    s.clear()\n",
    "\n",
    "    for ind, i in enumerate(count_list):\n",
    "        while i != 0:\n",
    "            s.append(ind + min_num)\n",
    "            i-=1\n",
    "if __name__ == '__main__':\n",
    "    a = [3,6,8,4,2,6,7,3]\n",
    "    count_sort(a)\n",
    "    print(a)\n",
    "        \n"
   ]
  },
  {
   "cell_type": "code",
   "execution_count": 12,
   "metadata": {},
   "outputs": [
    {
     "name": "stdout",
     "output_type": "stream",
     "text": [
      "[1, 2, 1, 0, 2, 1, 1]\n",
      "[2, 3, 3, 4, 6, 6, 7, 8]\n"
     ]
    }
   ],
   "source": [
    "def count_sort(s):\n",
    "    \"\"\"计数排序\"\"\"\n",
    "    # 找到最大最小值\n",
    "    min_num = min(s)\n",
    "    max_num = max(s)\n",
    "    # 计数列表\n",
    "    count_list = [0]*(max_num-min_num+1)\n",
    "    # 计数\n",
    "    for i in s:\n",
    "        count_list[i-min_num] += 1\n",
    "    print(count_list)\n",
    "    s.clear()\n",
    "    # 填回\n",
    "    for ind,i in enumerate(count_list):\n",
    "        while i != 0:\n",
    "            s.append(ind+min_num)\n",
    "            i -= 1\n",
    "\n",
    "if __name__ == '__main__':\n",
    "    a = [3,6,8,4,2,6,7,3]\n",
    "    count_sort(a)\n",
    "    print(a)"
   ]
  },
  {
   "cell_type": "code",
   "execution_count": 13,
   "metadata": {},
   "outputs": [
    {
     "name": "stdout",
     "output_type": "stream",
     "text": [
      "原始数据： [1, 97, 64, 80, 15, 40, 48, 4, 99, 95]\n",
      "桶排序结果： [1, 4, 15, 40, 48, 64, 80, 95, 97, 99]\n"
     ]
    }
   ],
   "source": [
    "# 桶排序\n",
    "import random \n",
    "def bucket_sort(arr):\n",
    "    min_num = min(arr)\n",
    "    max_num = max(arr)\n",
    "    #桶的大小\n",
    "    bucket_range = (max_num - min_num) / len(arr)\n",
    "    #桶数组\n",
    "    count_list = [[] for i in range(len(arr)+1)]\n",
    "\n",
    "    for i in arr:\n",
    "        count_list[int((i - min_num)//bucket_range)].append(i)\n",
    "    arr.clear()\n",
    "\n",
    "    for i in count_list:\n",
    "        for j in sorted(i):\n",
    "            arr.append(j)\n",
    "\n",
    "if __name__ == '__main__':\n",
    "    arr = [random.randint(0,100) for _ in range(10)]\n",
    "    print(\"原始数据：\", arr)\n",
    "    bucket_sort(arr)\n",
    "    print(\"桶排序结果：\", arr)\n"
   ]
  },
  {
   "cell_type": "code",
   "execution_count": 16,
   "metadata": {},
   "outputs": [
    {
     "name": "stdout",
     "output_type": "stream",
     "text": [
      "[5, 18, 34, 34, 51, 65, 74, 75, 88, 89, 98, 144, 147, 231]\n"
     ]
    }
   ],
   "source": [
    "# 基数排序\n",
    "def radix_sort(ls):\n",
    "    i = 0\n",
    "    max_num = max(ls)\n",
    "    j = len(str(max_num))\n",
    "    while i < j:\n",
    "        bucket_list = [[] for i in range(10)]\n",
    "        for x in ls:\n",
    "            bucket_list[int(x/(10**i))%10].append(x)\n",
    "        ls.clear()\n",
    "        for x in bucket_list:\n",
    "            for y in x:\n",
    "                ls.append(y)\n",
    "        i += 1\n",
    "    return ls\n",
    "if __name__ == '__main__':\n",
    "    list1 = [34, 231, 74, 5, 98, 34, 18, 88, 147, 51, 65, 75, 144, 89]\n",
    "    sort_list = radix_sort(list1)\n",
    "    print(sort_list)\n"
   ]
  },
  {
   "cell_type": "code",
   "execution_count": null,
   "metadata": {},
   "outputs": [],
   "source": []
  }
 ],
 "metadata": {
  "kernelspec": {
   "display_name": "Python 3.6.9 64-bit",
   "name": "python369jvsc74a57bd031f2aee4e71d21fbe5cf8b01ff0e069b9275f58929596ceb00d14d90e3e16cd6"
  },
  "language_info": {
   "codemirror_mode": {
    "name": "ipython",
    "version": 3
   },
   "file_extension": ".py",
   "mimetype": "text/x-python",
   "name": "python",
   "nbconvert_exporter": "python",
   "pygments_lexer": "ipython3",
   "version": "3.6.9"
  },
  "metadata": {
   "interpreter": {
    "hash": "31f2aee4e71d21fbe5cf8b01ff0e069b9275f58929596ceb00d14d90e3e16cd6"
   }
  },
  "orig_nbformat": 2
 },
 "nbformat": 4,
 "nbformat_minor": 2
}