{
 "metadata": {
  "language_info": {
   "codemirror_mode": {
    "name": "ipython",
    "version": 3
   },
   "file_extension": ".py",
   "mimetype": "text/x-python",
   "name": "python",
   "nbconvert_exporter": "python",
   "pygments_lexer": "ipython3",
   "version": "3.6.9"
  },
  "orig_nbformat": 2,
  "kernelspec": {
   "name": "python369jvsc74a57bd031f2aee4e71d21fbe5cf8b01ff0e069b9275f58929596ceb00d14d90e3e16cd6",
   "display_name": "Python 3.6.9 64-bit"
  },
  "metadata": {
   "interpreter": {
    "hash": "31f2aee4e71d21fbe5cf8b01ff0e069b9275f58929596ceb00d14d90e3e16cd6"
   }
  }
 },
 "nbformat": 4,
 "nbformat_minor": 2,
 "cells": [
  {
   "cell_type": "code",
   "execution_count": 2,
   "metadata": {},
   "outputs": [],
   "source": [
    "import docx\n",
    "#新建文档\n",
    "doc_new = docx.Document()\n",
    "#保存文档\n",
    "doc_new.save('demo.docx')\n",
    "#读取文档\n",
    "doc = docx.Document('demo.docx')\n"
   ]
  },
  {
   "cell_type": "code",
   "execution_count": 5,
   "metadata": {},
   "outputs": [
    {
     "output_type": "stream",
     "name": "stdout",
     "text": [
      "['Normal', 'Header', 'Footer', 'Heading 1', 'Heading 2', 'Heading 3', 'Heading 4', 'Heading 5', 'Heading 6', 'Heading 7', 'Heading 8', 'Heading 9', 'No Spacing', 'Title', 'Subtitle', 'List Paragraph', 'Body Text', 'Body Text 2', 'Body Text 3', 'List', 'List 2', 'List 3', 'List Bullet', 'List Bullet 2', 'List Bullet 3', 'List Number', 'List Number 2', 'List Number 3', 'List Continue', 'List Continue 2', 'List Continue 3', 'macro', 'Quote', 'Caption', 'Intense Quote', 'TOC Heading']\n"
     ]
    }
   ],
   "source": [
    "#插入段落\n",
    "doc.add_paragraph('第一段', style = None)#插入一个段落，文本为’第一段’\n",
    "#默认是不应用样式，这里也可以不写style参数，或者指定一个段落样式\n",
    "\n",
    "doc.add_paragraph('第二段', style = 'Heading 2')\n",
    "#这些样式都是word默认带有的样式，可以直接罗列出来有哪些段落样式\n",
    "print([s.name for s in doc.styles if s.type==1])"
   ]
  },
  {
   "cell_type": "code",
   "execution_count": 6,
   "metadata": {},
   "outputs": [],
   "source": [
    "# 新增样式\n",
    "from docx.shared import RGBColor\n",
    "#新建文档\n",
    "#新增样式(第一个参数是样式名称，第二个参数是样式类型：1代表段落；2代表字符；3代表表格)\n",
    "style = doc.styles.add_style('style name 1',2)\n",
    "#设置具体样式(修改样式字体为蓝色，当然还可以修改其他的)\n",
    "style.font.color.rgb = RGBColor(0x0,0x0,0xff)"
   ]
  },
  {
   "cell_type": "code",
   "execution_count": 8,
   "metadata": {},
   "outputs": [
    {
     "output_type": "stream",
     "name": "stdout",
     "text": [
      "毛利1毛利2毛利3\n"
     ]
    }
   ],
   "source": [
    "# 字符样式\n",
    "# 插入一个空白段落\n",
    "p = doc.add_paragraph('')\n",
    "#写入\n",
    "p.add_run('毛利1',style = 'Heading 1 Char')\n",
    "p.add_run('毛利2')\n",
    "p.add_run('毛利3',style = 'Heading 2 Char')\n",
    "#这样一个段落就应用了两个字符样式，中间“毛利”就没应用样式\n",
    "print(p.text) #' 也还是输出结果是u'123456789连续的"
   ]
  },
  {
   "cell_type": "code",
   "execution_count": 9,
   "metadata": {},
   "outputs": [],
   "source": [
    "# 设置字体\n",
    "r = p.add_run('毛利4')\n",
    "r.font.bold = True #加粗\n",
    "r.font.italic = True#倾斜"
   ]
  },
  {
   "cell_type": "code",
   "execution_count": 17,
   "metadata": {},
   "outputs": [
    {
     "output_type": "stream",
     "name": "stdout",
     "text": [
      "2\n3\n毛利0\n毛利1\n"
     ]
    },
    {
     "output_type": "execute_result",
     "data": {
      "text/plain": [
       "<docx.table._Column at 0x7f5b55c54be0>"
      ]
     },
     "metadata": {},
     "execution_count": 17
    }
   ],
   "source": [
    "# 表格操作\n",
    "\n",
    "#新建一个2x3的表格，style可以不写\n",
    "table=doc.add_table(rows=2,cols=3,style=None)\n",
    "#可以用table 的rows和columns得到这个表格的行数和列数\n",
    "print(len(table.rows))\n",
    "print(len(table.columns))\n",
    "#遍历表格 traverse the table rows\n",
    "for index,row in enumerate(table.rows):\n",
    "    row.cells[0].text = '毛利{}'.format(index)\n",
    "    print(row.cells[0].text)\n",
    "\n",
    "#新增行或列\n",
    "table.add_row()\n",
    "table.add_column(width=1)"
   ]
  },
  {
   "cell_type": "code",
   "execution_count": 24,
   "metadata": {},
   "outputs": [],
   "source": [
    "#官方例子\n",
    "from docx import Document\n",
    "from docx.shared import Inches\n",
    "\n",
    "document = Document()\n",
    "\n",
    "document.add_heading('Document Title',0)\n",
    "\n",
    "#段落\n",
    "\n",
    "p = document.add_paragraph('A plan paragraph having some')\n",
    "\n",
    "p.add_run('bold').bold = True\n",
    "p.add_run('and some')\n",
    "p.add_run('italic').italic = True\n",
    "#\n",
    "\n",
    "document.add_heading('Heading, level 1',level = 1)\n",
    "document.add_paragraph('Intense quote',style = 'Intense Quote')\n",
    "\n",
    "document.add_paragraph(\n",
    "    'first item in unordered list', style = 'List Bullet'\n",
    ")\n",
    "document.add_paragraph(\n",
    "    'first item in ordered list', style = 'List Number'\n",
    ")\n",
    "\n",
    "#document.add_picture('monty-truth.png',width=Inches(1.25))\n",
    "\n",
    "records = ((3,'101','Spam'),(7, '422', 'Eggs'),\n",
    "    (4, '631', 'Spam, spam, eggs, and spam'))\n",
    "\n",
    "table = document.add_table(rows=1, cols=3)\n",
    "hdr_cells = table.rows[0].cells\n",
    "hdr_cells[0].text = 'Qty'\n",
    "hdr_cells[1].text = 'Id'\n",
    "hdr_cells[2].text = 'Desc'\n",
    "for qty, id, desc in records:\n",
    "    row_cells = table.add_row().cells\n",
    "    row_cells[0].text = str(qty)\n",
    "    row_cells[1].text = id\n",
    "    row_cells[2].text = desc\n",
    "document.add_page_break()\n",
    "\n",
    "document.save('demo1.docx')"
   ]
  },
  {
   "cell_type": "code",
   "execution_count": null,
   "metadata": {},
   "outputs": [],
   "source": []
  }
 ]
}