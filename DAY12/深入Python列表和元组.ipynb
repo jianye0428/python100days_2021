{
 "metadata": {
  "language_info": {
   "codemirror_mode": {
    "name": "ipython",
    "version": 3
   },
   "file_extension": ".py",
   "mimetype": "text/x-python",
   "name": "python",
   "nbconvert_exporter": "python",
   "pygments_lexer": "ipython3",
   "version": "3.6.9"
  },
  "orig_nbformat": 2,
  "kernelspec": {
   "name": "python3",
   "display_name": "Python 3.6.9 64-bit",
   "metadata": {
    "interpreter": {
     "hash": "30295c5bec572e859485b1ffa5e89b8b3e2022ef6e3e739c1ac40f143a557caf"
    }
   }
  }
 },
 "nbformat": 4,
 "nbformat_minor": 2,
 "cells": [
  {
   "cell_type": "code",
   "execution_count": 1,
   "metadata": {},
   "outputs": [
    {
     "output_type": "execute_result",
     "data": {
      "text/plain": [
       "[1, 2, 'hello', 'world']"
      ]
     },
     "metadata": {},
     "execution_count": 1
    }
   ],
   "source": [
    "#define the list and tuple\n",
    "l = [1,2,\"hello\",'world']\n",
    "l"
   ]
  },
  {
   "cell_type": "code",
   "execution_count": 2,
   "metadata": {},
   "outputs": [
    {
     "output_type": "execute_result",
     "data": {
      "text/plain": [
       "('jason', 22)"
      ]
     },
     "metadata": {},
     "execution_count": 2
    }
   ],
   "source": [
    "tup = ('jason',22)\n",
    "tup"
   ]
  },
  {
   "cell_type": "code",
   "execution_count": 13,
   "metadata": {},
   "outputs": [
    {
     "output_type": "stream",
     "name": "stdout",
     "text": [
      "(1, 2, 3, 4, 5)\n[1, 2, 3, 4, 5]\n5\n4\n5\n[2, 3]\n(2, 3)\n"
     ]
    }
   ],
   "source": [
    "tup = (1,2,3,4)\n",
    "new_tup = tup +(5,)\n",
    "print(new_tup)\n",
    "\n",
    "l = [1,2,3,4]\n",
    "l.append(5)\n",
    "print(l)\n",
    "print(l[-1])\n",
    "print(tup[-1])\n",
    "print(new_tup[-1])\n",
    "print(l[1:3])\n",
    "print(new_tup[1:3])"
   ]
  },
  {
   "cell_type": "code",
   "execution_count": 17,
   "metadata": {},
   "outputs": [
    {
     "output_type": "stream",
     "name": "stdout",
     "text": [
      "2\n3\n[1, 2, 3, 3, 7, 8]\n2\n3\n[1, 8, 7, 3, 2, 3]\n[1, 2, 3, 3, 7, 8]\n"
     ]
    }
   ],
   "source": [
    "# the built-in function for list and tuple\n",
    "l = [3,2,3,7,8,1]\n",
    "l.count(3)\n",
    "print(l.count(3))\n",
    "l.index(7)\n",
    "print(l.index(7))\n",
    "l.sort()\n",
    "print(l)\n",
    "\n",
    "tup = (3,2,3,7,8,1)\n",
    "tup.count(3)\n",
    "print(tup.count(3))\n",
    "tup.index(7)\n",
    "print(tup.index(7))\n",
    "list(reversed(tup))\n",
    "print(list(reversed(tup)))\n",
    "print(sorted(tup))"
   ]
  },
  {
   "cell_type": "code",
   "execution_count": 23,
   "metadata": {},
   "outputs": [
    {
     "output_type": "stream",
     "name": "stdout",
     "text": [
      "40\n72\n72\n72\n72\n104\n"
     ]
    }
   ],
   "source": [
    "l = []\n",
    "print(l.__sizeof__())\n",
    "l.append(1)\n",
    "print(l.__sizeof__())\n",
    "l.append(2)\n",
    "print(l.__sizeof__())\n",
    "l.append(3)\n",
    "print(l.__sizeof__())\n",
    "l.append(4)\n",
    "print(l.__sizeof__())\n",
    "l.append(5)\n",
    "print(l.__sizeof__())"
   ]
  },
  {
   "cell_type": "code",
   "execution_count": null,
   "metadata": {},
   "outputs": [],
   "source": []
  }
 ]
}