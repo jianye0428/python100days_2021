{
 "cells": [
  {
   "cell_type": "code",
   "execution_count": null,
   "metadata": {},
   "outputs": [],
   "source": [
    "# Python _ Leetcode双指针系列\n",
    "#给你一个包含 n 个整数的数组 nums，判断 nums 中是否存在三个元素 a，b，c ，使得 a + b + c = 0 ？请你找出所有满足条件且不重复的三元组。\n",
    "# 注意：答案中不可以包含重复的三元组。\n",
    "# 示例：\n",
    "# 给定数组 nums = [-1, 0, 1, 2, -1, -4]，\n",
    "#\n",
    "#满足要求的三元组集合为：\n",
    "#[\n",
    "# [-1, 0, 1],\n",
    "# [-1, -1, 2]\n",
    "#]\n",
    "#\n",
    "# Related Topics 数组 双指针\n",
    "#leetcode submit region begin(Prohibit modification and deletion)"
   ]
  },
  {
   "cell_type": "code",
   "execution_count": 2,
   "metadata": {},
   "outputs": [
    {
     "name": "stdout",
     "output_type": "stream",
     "text": [
      "[[-1, -1, 2], [-1, 0, 1]]\n"
     ]
    }
   ],
   "source": [
    "class Solution:\n",
    "    def threeSum(self,nums):\n",
    "        nums.sort()\n",
    "        res_list = []\n",
    "        for i in range(len(nums)):\n",
    "            if i==0 or nums[i] > nums[i-1]:\n",
    "                l = i+1\n",
    "                r = len(nums)-1\n",
    "                while l < r:\n",
    "                    three_sum = nums[i] + nums[l] + nums[r]  \n",
    "                    if three_sum == 0:\n",
    "                        res_list.append([nums[i],nums[l],nums[r]])\n",
    "                        l += 1\n",
    "                        r -= 1\n",
    "                        while l < r and nums[l] == nums[l-1]:\n",
    "                            l +=1\n",
    "                        while l < r and nums[r] == nums[r+1]:\n",
    "                            r -= 1\n",
    "                    elif three_sum > 0:\n",
    "                        r -= 1    \n",
    "                    elif three_sum < 0:\n",
    "                        l += 1   \n",
    "        return res_list\n",
    "solver = Solution()\n",
    "print(solver.threeSum([-4, -1, -1, 0, 1, 2]))  "
   ]
  },
  {
   "cell_type": "code",
   "execution_count": null,
   "metadata": {},
   "outputs": [],
   "source": [
    "# LeetCode 第 16题：三数最近相加\n",
    "#给定一个包括 n 个整数的数组 nums 和 一个目标值 target。找出 nums 中的三个整数，使得它们的和与 target 最接近。返回这三个数的和。假定每组输入只存在唯一答案。\n",
    "# 示例：\n",
    "# 输入：nums = [-1,2,1,-4], target = 1\n",
    "#输出：2\n",
    "#解释：与 target 最接近的和是 2 (-1 + 2 + 1 = 2) 。\n",
    "# 提示：\n",
    "# 3 <= nums.length <= 10^3\n",
    "# -10^3 <= nums[i] <= 10^3\n",
    "# -10^4 <= target <= 10^4\n",
    "# Related Topics 数组 双指针"
   ]
  },
  {
   "cell_type": "code",
   "execution_count": null,
   "metadata": {},
   "outputs": [],
   "source": [
    "class Solution:\n",
    "    def threeSumClosest(self, nums, target):\n",
    "        if not nums:\n",
    "            return 0\n",
    "        if len(nums) < 3:\n",
    "            return sum(nums)\n",
    "        ans = float('inf')\n",
    "        nums.sort()    \n",
    "        for i in range(len(nums)):\n",
    "            if i > 0 and nums[i] == nums[i-1]:\n",
    "                continue\n",
    "            t = target - nums[i]\n",
    "            j, k = i+1, len(nums)-1\n",
    "            while j < k:\n",
    "                if t == nums[j] + nums[k]:\n",
    "                    return target\n",
    "                if abs(t - nums[j] - nums[k]) < abs(target -  ans):\n",
    "                    ans = nums[i] + nums[j] + nums[k]   \n",
    "                if t > nums[j] + nums[k]:\n",
    "                    j+=1\n",
    "                else:\n",
    "                    k-=1\n",
    "        return ans"
   ]
  },
  {
   "cell_type": "code",
   "execution_count": null,
   "metadata": {},
   "outputs": [],
   "source": [
    "# LeetCode 第 27题：移除元素\n",
    "# 给你一个数组 nums 和一个值 val，你需要 原地 移除所有数值等于 val 的元素，并返回移除后数组的新长度。\n",
    "# 不要使用额外的数组空间，你必须仅使用 O(1) 额外空间并 原地 修改输入数组。\n",
    "# 元素的顺序可以改变。你不需要考虑数组中超出新长度后面的元素。\n",
    "# 示例 1:\n",
    "# 给定 nums = [3,2,2,3], val = 3,\n",
    "#函数应该返回新的长度 2, 并且 nums 中的前两个元素均为 2。\n",
    "#你不需要考虑数组中超出新长度后面的元素。\n",
    "# 示例 2:\n",
    "# 给定 nums = [0,1,2,2,3,0,4,2], val = 2,\n",
    "#函数应该返回新的长度 5, 并且 nums 中的前五个元素为 0, 1, 3, 0, 4。\n",
    "#注意这五个元素可为任意顺序。\n",
    "#你不需要考虑数组中超出新长度后面的元素。\n",
    "# 说明:\n",
    "# 为什么返回数值是整数，但输出的答案是数组呢?\n",
    "# 请注意，输入数组是以「引用」方式传递的，这意味着在函数里修改输入数组对于调用者是可见的。\n",
    "# 你可以想象内部操作如下:\n",
    "# // nums 是以“引用”方式传递的。也就是说，不对实参作任何拷贝\n",
    "#int len = removeElement(nums, val);\n",
    "#// 在函数里修改输入数组对于调用者是可见的。\n",
    "#// 根据你的函数返回的长度, 它会打印出数组中 该长度范围内 的所有元素。\n",
    "#for (int i = 0; i < len; i++) {\n",
    "# print(nums[i]);\n",
    "#}\n",
    "#\n",
    "# Related Topics 数组 双指针"
   ]
  },
  {
   "cell_type": "code",
   "execution_count": null,
   "metadata": {},
   "outputs": [],
   "source": [
    "class Solution:\n",
    "    def removeElement(self, nums, val):\n",
    "        i = 0\n",
    "        for num in nums:\n",
    "            if num != val:\n",
    "                nums[i] = num\n",
    "                i+=1\n",
    "        return i"
   ]
  },
  {
   "cell_type": "code",
   "execution_count": null,
   "metadata": {},
   "outputs": [],
   "source": [
    "class Solution:\n",
    "    def removeElement(self, nums, val):\n",
    "        i,j = 0, len(nums)-1\n",
    "        while i<=j:\n",
    "            if nums[i] ==val:\n",
    "                nums[i], nums[j] = nums[j], nums[i]\n",
    "                j-=1\n",
    "            else:\n",
    "                i+=1\n",
    "        return i"
   ]
  }
 ],
 "metadata": {
  "kernelspec": {
   "display_name": "Python 3.6.9 64-bit",
   "name": "python369jvsc74a57bd031f2aee4e71d21fbe5cf8b01ff0e069b9275f58929596ceb00d14d90e3e16cd6"
  },
  "language_info": {
   "codemirror_mode": {
    "name": "ipython",
    "version": 3
   },
   "file_extension": ".py",
   "mimetype": "text/x-python",
   "name": "python",
   "nbconvert_exporter": "python",
   "pygments_lexer": "ipython3",
   "version": "3.6.9"
  },
  "metadata": {
   "interpreter": {
    "hash": "31f2aee4e71d21fbe5cf8b01ff0e069b9275f58929596ceb00d14d90e3e16cd6"
   }
  },
  "orig_nbformat": 2
 },
 "nbformat": 4,
 "nbformat_minor": 2
}