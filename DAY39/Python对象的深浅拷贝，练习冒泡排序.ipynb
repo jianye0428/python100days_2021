{
 "metadata": {
  "language_info": {
   "codemirror_mode": {
    "name": "ipython",
    "version": 3
   },
   "file_extension": ".py",
   "mimetype": "text/x-python",
   "name": "python",
   "nbconvert_exporter": "python",
   "pygments_lexer": "ipython3",
   "version": "3.6.9"
  },
  "orig_nbformat": 2,
  "kernelspec": {
   "name": "python369jvsc74a57bd031f2aee4e71d21fbe5cf8b01ff0e069b9275f58929596ceb00d14d90e3e16cd6",
   "display_name": "Python 3.6.9 64-bit"
  },
  "metadata": {
   "interpreter": {
    "hash": "31f2aee4e71d21fbe5cf8b01ff0e069b9275f58929596ceb00d14d90e3e16cd6"
   }
  }
 },
 "nbformat": 4,
 "nbformat_minor": 2,
 "cells": [
  {
   "cell_type": "code",
   "execution_count": 5,
   "metadata": {},
   "outputs": [
    {
     "output_type": "stream",
     "name": "stdout",
     "text": [
      "True\n10914784\n10914784\nTrue\n"
     ]
    }
   ],
   "source": [
    "a = 10\n",
    "b = 10\n",
    "print(a == b)\n",
    "print(id(a))\n",
    "print(id(b))\n",
    "print(a is b)"
   ]
  },
  {
   "cell_type": "code",
   "execution_count": 6,
   "metadata": {},
   "outputs": [
    {
     "output_type": "stream",
     "name": "stdout",
     "text": [
      "False\n"
     ]
    }
   ],
   "source": [
    "# True 只是用于 -6 ~ 256\n",
    "a = 257\n",
    "b = 257\n",
    "print(a is b)"
   ]
  },
  {
   "cell_type": "code",
   "execution_count": 8,
   "metadata": {},
   "outputs": [
    {
     "output_type": "stream",
     "name": "stdout",
     "text": [
      "[1, 2, 3]\nFalse\n"
     ]
    }
   ],
   "source": [
    "#浅拷贝与深拷贝\n",
    "l1 = [1,2,3]\n",
    "l2 = list(l1)\n",
    "\n",
    "print(l2)\n",
    "\n",
    "print(l1 is l2)"
   ]
  },
  {
   "cell_type": "code",
   "execution_count": 9,
   "metadata": {},
   "outputs": [
    {
     "output_type": "stream",
     "name": "stdout",
     "text": [
      "True\nFalse\n"
     ]
    }
   ],
   "source": [
    "s1 = set([1,2,3])\n",
    "s2 = set(s1)\n",
    "\n",
    "print(s1 == s2)\n",
    "print(s1 is s2)"
   ]
  },
  {
   "cell_type": "code",
   "execution_count": 18,
   "metadata": {},
   "outputs": [
    {
     "output_type": "stream",
     "name": "stdout",
     "text": [
      "[1, 2, 3]\n[1, 2, 3]\n(1, 2, 3)\n(1, 2, 3)\nTrue\nTrue\n"
     ]
    }
   ],
   "source": [
    "# 浅拷贝指重新分配一块内存，l2 就是l1的浅拷贝，但是只要是序列的浅拷贝，他们的id就是不一样的。\n",
    "# 对于深拷贝，在python中提供了对应的函数copy.copy()\n",
    "import copy\n",
    "l1 = [1,2,3]\n",
    "l2 = copy.copy(l1)\n",
    "\n",
    "print(l1)\n",
    "print(l2)\n",
    "\n",
    "t1 = (1,2,3)\n",
    "t2 = tuple(t1)\n",
    "\n",
    "print(t1)\n",
    "print(t2)\n",
    "\n",
    "print(t1 == t2)\n",
    "print(t1 is t2)\n",
    "\n"
   ]
  },
  {
   "cell_type": "code",
   "execution_count": 14,
   "metadata": {},
   "outputs": [
    {
     "output_type": "stream",
     "name": "stdout",
     "text": [
      "[[1, 2], (30, 40)]\n[[1, 2, 3], (30, 40)]\n[[1, 2, 3], (30, 40)]\n[[1, 2, 3], (30, 40, 50, 60)]\n[[1, 2, 3], (30, 40)]\n"
     ]
    }
   ],
   "source": [
    "l1 = [[1,2],(30,40)]\n",
    "l2 = list(l1)\n",
    "\n",
    "print(l2)\n",
    "l1[0].append(3)\n",
    "\n",
    "print(l1)\n",
    "print(l2)\n",
    "\n",
    "l1[1] += (50,60)\n",
    "\n",
    "\n",
    "print(l1)\n",
    "print(l2)"
   ]
  },
  {
   "cell_type": "code",
   "execution_count": 15,
   "metadata": {},
   "outputs": [
    {
     "output_type": "stream",
     "name": "stdout",
     "text": [
      "[[1, 2, 3], (30, 40), 100]\n[[1, 2], (30, 40)]\n"
     ]
    }
   ],
   "source": [
    "import copy\n",
    "l1 = [[1,2],(30,40)]\n",
    "\n",
    "l2 = copy.deepcopy(l1)\n",
    "l1.append(100)\n",
    "l1[0].append(3)\n",
    "\n",
    "print(l1)\n",
    "print(l2)"
   ]
  },
  {
   "cell_type": "code",
   "execution_count": 19,
   "metadata": {},
   "outputs": [
    {
     "output_type": "stream",
     "name": "stdout",
     "text": [
      "第0次内循环[1, 3, 25, 6, 8, 10, 15]\n第1次内循环[1, 3, 25, 6, 8, 10, 15]\n第2次内循环[1, 3, 6, 25, 8, 10, 15]\n第3次内循环[1, 3, 6, 8, 25, 10, 15]\n第4次内循环[1, 3, 6, 8, 10, 25, 15]\n第5次内循环[1, 3, 6, 8, 10, 15, 25]\n第0次外循环[1, 3, 6, 8, 10, 15, 25]\n第0次内循环[1, 3, 6, 8, 10, 15, 25]\n第1次内循环[1, 3, 6, 8, 10, 15, 25]\n第2次内循环[1, 3, 6, 8, 10, 15, 25]\n第3次内循环[1, 3, 6, 8, 10, 15, 25]\n第4次内循环[1, 3, 6, 8, 10, 15, 25]\n第1次外循环[1, 3, 6, 8, 10, 15, 25]\n第0次内循环[1, 3, 6, 8, 10, 15, 25]\n第1次内循环[1, 3, 6, 8, 10, 15, 25]\n第2次内循环[1, 3, 6, 8, 10, 15, 25]\n第3次内循环[1, 3, 6, 8, 10, 15, 25]\n第2次外循环[1, 3, 6, 8, 10, 15, 25]\n第0次内循环[1, 3, 6, 8, 10, 15, 25]\n第1次内循环[1, 3, 6, 8, 10, 15, 25]\n第2次内循环[1, 3, 6, 8, 10, 15, 25]\n第3次外循环[1, 3, 6, 8, 10, 15, 25]\n第0次内循环[1, 3, 6, 8, 10, 15, 25]\n第1次内循环[1, 3, 6, 8, 10, 15, 25]\n第4次外循环[1, 3, 6, 8, 10, 15, 25]\n第0次内循环[1, 3, 6, 8, 10, 15, 25]\n第5次外循环[1, 3, 6, 8, 10, 15, 25]\n最后结果[1, 3, 6, 8, 10, 15, 25]\n"
     ]
    }
   ],
   "source": [
    "# 冒泡排序\n",
    "\n",
    "nums = [3,1,25,6,8,10,15]\n",
    "\n",
    "for i in range(len(nums)-1):\n",
    "    for j in range(len(nums)-i-1):\n",
    "        if nums[j] > nums[j+1]:\n",
    "            nums[j],nums[j+1] = nums[j+1],nums[j]\n",
    "        print(\"第\" + str(j) +\"次内循环\" + str(nums))\n",
    "    print(\"第\" + str(i) + \"次外循环\" + str(nums))\n",
    "print(\"最后结果\"+str(nums))\n"
   ]
  },
  {
   "cell_type": "code",
   "execution_count": null,
   "metadata": {},
   "outputs": [],
   "source": []
  }
 ]
}