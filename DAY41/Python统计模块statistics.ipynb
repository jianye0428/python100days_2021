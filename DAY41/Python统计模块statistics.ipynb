{
 "metadata": {
  "language_info": {
   "codemirror_mode": {
    "name": "ipython",
    "version": 3
   },
   "file_extension": ".py",
   "mimetype": "text/x-python",
   "name": "python",
   "nbconvert_exporter": "python",
   "pygments_lexer": "ipython3",
   "version": "3.6.9"
  },
  "orig_nbformat": 2,
  "kernelspec": {
   "name": "python369jvsc74a57bd031f2aee4e71d21fbe5cf8b01ff0e069b9275f58929596ceb00d14d90e3e16cd6",
   "display_name": "Python 3.6.9 64-bit"
  },
  "metadata": {
   "interpreter": {
    "hash": "31f2aee4e71d21fbe5cf8b01ff0e069b9275f58929596ceb00d14d90e3e16cd6"
   }
  }
 },
 "nbformat": 4,
 "nbformat_minor": 2,
 "cells": [
  {
   "cell_type": "code",
   "execution_count": 4,
   "metadata": {},
   "outputs": [
    {
     "output_type": "stream",
     "name": "stdout",
     "text": [
      "3.12\n2\n"
     ]
    }
   ],
   "source": [
    "import statistics\n",
    "\n",
    "data = [1,2,3,4,5.6]\n",
    "data2 = [1,2,3,4,1,2,2]\n",
    "print(statistics.mean(data))#平均数\n",
    "print(statistics.mode(data2))#众数"
   ]
  },
  {
   "cell_type": "code",
   "execution_count": 6,
   "metadata": {},
   "outputs": [
    {
     "output_type": "stream",
     "name": "stdout",
     "text": [
      "4.0\n3\n5\n5.0\n"
     ]
    }
   ],
   "source": [
    "#中位数median\n",
    "print(statistics.median([1,3,5,7]))\n",
    "print(statistics.median_low([1,3,5,7]))\n",
    "print(statistics.median_high([1,3,5,7]))\n",
    "print(statistics.median_grouped([5,3,7]))"
   ]
  },
  {
   "cell_type": "code",
   "execution_count": 10,
   "metadata": {},
   "outputs": [
    {
     "output_type": "stream",
     "name": "stdout",
     "text": [
      "1.3\n1.140175425099138\n0.9739583333333334\n1.019803902718557\n1.04\n"
     ]
    }
   ],
   "source": [
    "# 方差\n",
    "data = [1,2,3,3,4]\n",
    "print(statistics.variance(data))\n",
    "print(statistics.stdev(data))#标准差\n",
    "print(statistics.pvariance([1.5, 2.5, 2.5, 2.75, 3.25, 4.75]))#总体方差\n",
    "print(statistics.pstdev(data))#总体标准差\n",
    "print(statistics.pvariance(data))#总体方差"
   ]
  },
  {
   "cell_type": "code",
   "execution_count": null,
   "metadata": {},
   "outputs": [],
   "source": []
  }
 ]
}