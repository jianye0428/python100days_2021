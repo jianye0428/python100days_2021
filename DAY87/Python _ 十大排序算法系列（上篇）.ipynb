{
 "cells": [
  {
   "cell_type": "code",
   "execution_count": 1,
   "metadata": {},
   "outputs": [
    {
     "name": "stdout",
     "output_type": "stream",
     "text": [
      "[1, 3, 3, 4, 4, 5, 6, 6]\n"
     ]
    }
   ],
   "source": [
    "# bubble sort\n",
    "def bubble_sort(nums):\n",
    "    for i in range(len(nums)-1):\n",
    "        for j in range(len(nums)-1-i):\n",
    "            if(nums[j] > nums[j+1]):\n",
    "                nums[j], nums[j+1] = nums[j+1], nums[j]\n",
    "    return nums\n",
    "nums = [1,3,6,4,5,4,3,6]\n",
    "print(bubble_sort(nums))"
   ]
  },
  {
   "cell_type": "code",
   "execution_count": 8,
   "metadata": {},
   "outputs": [
    {
     "name": "stdout",
     "output_type": "stream",
     "text": [
      "[1, 3, 3, 4, 4, 5, 6, 6]\n"
     ]
    }
   ],
   "source": [
    "# 选择排序\n",
    "def selectionSort(nums):\n",
    "    i = 0\n",
    "    while i < len(nums):\n",
    "        minindex = i\n",
    "        j = i + 1\n",
    "        while j < len(nums):\n",
    "            if nums[minindex] > nums[j]:\n",
    "                minindex = j\n",
    "            j+=1\n",
    "        if minindex != i:\n",
    "            nums[i], nums[minindex] = nums[minindex], nums[i]\n",
    "        i += 1\n",
    "    return nums\n",
    "nums = [1,3,6,4,5,4,3,6]\n",
    "print(selectionSort(nums))"
   ]
  },
  {
   "cell_type": "code",
   "execution_count": 13,
   "metadata": {},
   "outputs": [
    {
     "name": "stdout",
     "output_type": "stream",
     "text": [
      "[1, 3, 2, 5]\n",
      "[1, 2, 3, 5]\n",
      "[1, 2, 3, 5]\n",
      "[1, 2, 3, 5]\n"
     ]
    }
   ],
   "source": [
    "# 插入排序\n",
    "def insertionSort(nums):\n",
    "    length = len(nums)\n",
    "    if length <= 1:\n",
    "        return\n",
    "    for i in range(1, length):\n",
    "        j = i - 1\n",
    "        value = nums[i]\n",
    "        while j >= 0:\n",
    "            if nums[j] < value:\n",
    "                nums[j+1] = value\n",
    "                break\n",
    "            else:\n",
    "                nums[j+1] = nums[j]\n",
    "                if j == 0:\n",
    "                    nums[j] = value\n",
    "            j -= 1\n",
    "        print(nums)\n",
    "    return nums\n",
    "\n",
    "nums = [1,3,2,5]\n",
    "print(insertionSort(nums))"
   ]
  },
  {
   "cell_type": "code",
   "execution_count": 15,
   "metadata": {},
   "outputs": [
    {
     "name": "stdout",
     "output_type": "stream",
     "text": [
      "原列表为：[1, 3, 6, 4, 5, 4, 3, 6]\n",
      "[1, 3, 3, 4, 5, 4, 6, 6]\n",
      "[1, 3, 3, 4, 4, 5, 6, 6]\n",
      "新列表为：[1, 3, 3, 4, 4, 5, 6, 6]\n"
     ]
    }
   ],
   "source": [
    "def shell_sort(list):\n",
    "    n = len(list)\n",
    "    gap = n // 2\n",
    "    while gap >=1:\n",
    "        for j in range(gap,n):\n",
    "            i = j\n",
    "            while (i-gap) >= 0:\n",
    "                if list[i] < list[i-gap]:\n",
    "                    list[i], list[i-gap] = list[i-gap],list[i]\n",
    "                    i -= gap\n",
    "                else:\n",
    "                    break\n",
    "                print(list)\n",
    "        gap //= 2\n",
    "if __name__ == '__main__':\n",
    "    alist = [1,3,6,4,5,4,3,6]\n",
    "    print(\"原列表为：%s\" % alist)\n",
    "    shell_sort(alist)\n",
    "    print(\"新列表为：%s\" % alist)"
   ]
  },
  {
   "cell_type": "code",
   "execution_count": 18,
   "metadata": {},
   "outputs": [
    {
     "name": "stdout",
     "output_type": "stream",
     "text": [
      "[1, 1, 3, 4, 5, 6]\n"
     ]
    }
   ],
   "source": [
    "def merge(left, right):\n",
    "    i = 0\n",
    "    j = 0\n",
    "    temp = []\n",
    "    while i<=len(left)-1 and j<=len(right)-1:\n",
    "        if left[i] <= right[j]:\n",
    "            temp.append(left[i])\n",
    "            i += 1\n",
    "        else:\n",
    "            temp.append(right[j])\n",
    "            j += 1\n",
    "    temp += left[i:] + right[j:]\n",
    "    return temp\n",
    "print(merge([1,3,5],[1,4,6]))"
   ]
  },
  {
   "cell_type": "code",
   "execution_count": null,
   "metadata": {},
   "outputs": [],
   "source": []
  }
 ],
 "metadata": {
  "kernelspec": {
   "display_name": "Python 3.6.9 64-bit",
   "name": "python369jvsc74a57bd031f2aee4e71d21fbe5cf8b01ff0e069b9275f58929596ceb00d14d90e3e16cd6"
  },
  "language_info": {
   "codemirror_mode": {
    "name": "ipython",
    "version": 3
   },
   "file_extension": ".py",
   "mimetype": "text/x-python",
   "name": "python",
   "nbconvert_exporter": "python",
   "pygments_lexer": "ipython3",
   "version": "3.6.9"
  },
  "metadata": {
   "interpreter": {
    "hash": "31f2aee4e71d21fbe5cf8b01ff0e069b9275f58929596ceb00d14d90e3e16cd6"
   }
  },
  "orig_nbformat": 2
 },
 "nbformat": 4,
 "nbformat_minor": 2
}