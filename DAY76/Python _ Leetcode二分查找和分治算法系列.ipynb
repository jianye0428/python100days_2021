{
 "metadata": {
  "language_info": {
   "codemirror_mode": {
    "name": "ipython",
    "version": 3
   },
   "file_extension": ".py",
   "mimetype": "text/x-python",
   "name": "python",
   "nbconvert_exporter": "python",
   "pygments_lexer": "ipython3",
   "version": "3.6.9"
  },
  "orig_nbformat": 2,
  "kernelspec": {
   "name": "python369jvsc74a57bd031f2aee4e71d21fbe5cf8b01ff0e069b9275f58929596ceb00d14d90e3e16cd6",
   "display_name": "Python 3.6.9 64-bit"
  },
  "metadata": {
   "interpreter": {
    "hash": "31f2aee4e71d21fbe5cf8b01ff0e069b9275f58929596ceb00d14d90e3e16cd6"
   }
  }
 },
 "nbformat": 4,
 "nbformat_minor": 2,
 "cells": [
  {
   "cell_type": "code",
   "execution_count": 5,
   "metadata": {},
   "outputs": [
    {
     "output_type": "stream",
     "name": "stdout",
     "text": [
      "[1, 2, 3, 4, 5, 7, 8]\n4\n"
     ]
    }
   ],
   "source": [
    "def binary_search(list, num):\n",
    "    left = 0\n",
    "    right = len(list)-1\n",
    "    while left <= right:\n",
    "        mid = (left + right) // 2\n",
    "        if list[mid] == num:\n",
    "            return mid\n",
    "        elif list[mid] > num:\n",
    "            right = mid - 1\n",
    "        elif list[mid] < num:\n",
    "            left = mid + 1\n",
    "    return mid\n",
    "A = [1, 4, 2, 5, 3, 7, 8]\n",
    "num = 5\n",
    "A = sorted(A)  # python 内置排序是快速排序\n",
    "print(A)\n",
    "print(binary_search(A, num))"
   ]
  },
  {
   "cell_type": "code",
   "execution_count": null,
   "metadata": {},
   "outputs": [],
   "source": [
    "# LeetCode 第 704题：标准的二分查找\n",
    "# 给定一个 n 个元素有序的（升序）整型数组 nums 和一个目标值 target ，写一个函数搜索 nums 中的 target，如果目标值存在返回下标，否则返回 -1。\n",
    "# 示例 1:\n",
    "# 输入: nums = [-1,0,3,5,9,12], target = 9\n",
    "# 输出: 4\n",
    "# 解释: 9 出现在 nums 中并且下标为 4\n",
    "# 示例 2:\n",
    "# 输入: nums = [-1,0,3,5,9,12], target = 2\n",
    "# 输出: -1\n",
    "# 解释: 2 不存在 nums 中因此返回 -1\n",
    "# 提示：\n",
    "# 你可以假设 nums 中的所有元素是不重复的。\n",
    "# n 将在 [1, 10000]之间。\n",
    "# nums 的每个元素都将在 [-9999, 9999]之间。"
   ]
  },
  {
   "cell_type": "code",
   "execution_count": null,
   "metadata": {},
   "outputs": [],
   "source": [
    "class Solution:\n",
    "    def search(self, nums, target):\n",
    "        low, high = 0, len(nums)-1\n",
    "        while low <= high:\n",
    "            mid = (low + high) // 2\n",
    "            if nums[mid] == target:\n",
    "                return mid\n",
    "            elif nums[mid] > target:\n",
    "                right = mid -1\n",
    "            elif nums[mid] < target:\n",
    "                left = mid + 1\n",
    "        return -1"
   ]
  },
  {
   "cell_type": "code",
   "execution_count": 8,
   "metadata": {},
   "outputs": [
    {
     "output_type": "stream",
     "name": "stdout",
     "text": [
      "6\n"
     ]
    }
   ],
   "source": [
    "# nums= [1,2,2,3,3,3,4,4,5], target=4, return 6\n",
    "# 确定返回值类型和查找范围\n",
    "# 返回的是target在数组中的位置，即index。\n",
    "# 查找范围：[start=0, end=len(nums)-1]\n",
    "\n",
    "# 找到排序数组中target第一次出现的位置\n",
    "\n",
    "def findFirstIndex(nums, target):\n",
    "    n = len(nums)\n",
    "    if(nums is None or n == 0):\n",
    "        return -1\n",
    "    start = 0\n",
    "    end = n-1\n",
    "    while(start + 1 < end):\n",
    "        mid = start + (end - start) // 2\n",
    "        if nums[mid] == target:\n",
    "            end = mid\n",
    "        elif nums[mid] > target:\n",
    "            end = mid\n",
    "        else:\n",
    "            start = mid\n",
    "    if nums[start] == target:\n",
    "        return start\n",
    "    if nums[end] == target:\n",
    "        return end\n",
    "    return -1\n",
    "\n",
    "print(findFirstIndex(nums=[1, 2, 2, 3, 3, 3, 4, 4, 5], target=4))"
   ]
  },
  {
   "cell_type": "code",
   "execution_count": null,
   "metadata": {},
   "outputs": [],
   "source": [
    "# LeetCode 第 34题：在排序数组中查找元素的第一个和最后一个位置\n",
    "\n",
    "# 给定一个按照升序排列的整数数组 nums，和一个目标值 target。找出给定目标值在数组中的开始位置和结束位置。\n",
    "# 你的算法时间复杂度必须是 O(log n) 级别。\n",
    "# 如果数组中不存在目标值，返回 [-1, -1]\n",
    "# 示例 1:\n",
    "# 输入: nums = [5,7,7,8,8,10], target = 8\n",
    "#输出: [3,4]\n",
    "# 示例 2:\n",
    "# 输入: nums = [5,7,7,8,8,10], target = 6\n",
    "#输出: [-1,-1]\n",
    "# Related Topics 数组 二分查找\n"
   ]
  },
  {
   "cell_type": "code",
   "execution_count": 11,
   "metadata": {},
   "outputs": [
    {
     "output_type": "stream",
     "name": "stdout",
     "text": [
      "[1, 9]\n"
     ]
    }
   ],
   "source": [
    "class Solution:\n",
    "    def searchrightRange(self, nums, target):\n",
    "        lefts, rights = 0, len(nums)-1\n",
    "        while lefts <= rights:\n",
    "            mid = (rights+lefts)//2\n",
    "            if nums[mid] > target:\n",
    "                rights = mid - 1\n",
    "            elif nums[mid] < target:\n",
    "                lefts = mid + 1\n",
    "            else:\n",
    "                lefts = mid + 1\n",
    "        if lefts-1 >= 0 and nums[lefts-1] == target:\n",
    "            return lefts -1\n",
    "        else:\n",
    "            return -1\n",
    "    def searchleftRange(self, nums, target):\n",
    "        lefts, rights = 0, len(nums)-1\n",
    "        while lefts <= rights:\n",
    "            mid = (lefts + rights)//2\n",
    "            if nums[mid] > target:\n",
    "                rights = mid - 1\n",
    "            elif nums[mid] < target:\n",
    "                lefts = mid + 1\n",
    "            else:\n",
    "                rights = mid - 1\n",
    "        if rights+1 < len(nums) and nums[rights+1] == target:\n",
    "            return rights + 1\n",
    "        else:\n",
    "            return -1\n",
    "    def searchRange(self, nums,target):\n",
    "        if len(nums) == 0:\n",
    "            return [-1,-1]\n",
    "        rights = self.searchrightRange(nums, target)\n",
    "        lefts = self.searchleftRange(nums,target)\n",
    "        return [lefts, rights]\n",
    "solver = Solution()\n",
    "nums = [1,2,2,2,2,2,2,2,2,2,4]\n",
    "target = 2\n",
    "print(solver.searchRange(nums,target))"
   ]
  },
  {
   "cell_type": "code",
   "execution_count": 12,
   "metadata": {},
   "outputs": [
    {
     "output_type": "stream",
     "name": "stdout",
     "text": [
      "2\n"
     ]
    }
   ],
   "source": [
    "# 查找排序数组中，第一个大于等于目标值的下标（数组中可能不存在目标值）\n",
    "def bsearch(a,n):\n",
    "    low = 0\n",
    "    high = len(a) - 1\n",
    "    while low <= high:\n",
    "        mid = low + ((high - low)>>1)\n",
    "        if a[mid] >= n:\n",
    "            if mid == 0 or a[mid-1] < n:\n",
    "                return mid\n",
    "            else:\n",
    "                high = mid - 1\n",
    "        else:\n",
    "            low = mid + 1\n",
    "    return -1\n",
    "\n",
    "print(bsearch([3,4,6,7,19],5)) \n"
   ]
  },
  {
   "cell_type": "code",
   "execution_count": 13,
   "metadata": {},
   "outputs": [
    {
     "output_type": "stream",
     "name": "stdout",
     "text": [
      "1\n"
     ]
    }
   ],
   "source": [
    "# 查找排序数组中，最后一个小于等于目标值的下标\n",
    "def bsearch(a,n):\n",
    "    low = 0 \n",
    "    high  = len(a) -1\n",
    "    while(low<=high):\n",
    "        mid = low + ((high-low)>>1)\n",
    "        if a[mid] > n:\n",
    "            high = mid - 1\n",
    "        else:\n",
    "            if mid == n-1 or a[mid+1] > n:\n",
    "                return mid\n",
    "            else:\n",
    "                low = mid + 1\n",
    "    return -1\n",
    "\n",
    "print(bsearch([3,4,6,7,19],5))"
   ]
  },
  {
   "cell_type": "code",
   "execution_count": null,
   "metadata": {},
   "outputs": [],
   "source": []
  }
 ]
}