{
 "metadata": {
  "language_info": {
   "codemirror_mode": {
    "name": "ipython",
    "version": 3
   },
   "file_extension": ".py",
   "mimetype": "text/x-python",
   "name": "python",
   "nbconvert_exporter": "python",
   "pygments_lexer": "ipython3",
   "version": "3.6.9"
  },
  "orig_nbformat": 2,
  "kernelspec": {
   "name": "python369jvsc74a57bd031f2aee4e71d21fbe5cf8b01ff0e069b9275f58929596ceb00d14d90e3e16cd6",
   "display_name": "Python 3.6.9 64-bit"
  },
  "metadata": {
   "interpreter": {
    "hash": "31f2aee4e71d21fbe5cf8b01ff0e069b9275f58929596ceb00d14d90e3e16cd6"
   }
  }
 },
 "nbformat": 4,
 "nbformat_minor": 2,
 "cells": [
  {
   "cell_type": "code",
   "execution_count": 5,
   "metadata": {},
   "outputs": [
    {
     "output_type": "stream",
     "name": "stdout",
     "text": [
      "['hello', 'hello']\n"
     ]
    }
   ],
   "source": [
    "import re\n",
    "reg_string = \"hello9527python@wangcai.@!:xiaoqianghello\"\n",
    "reg = \"hello\"\n",
    "result = re.findall(reg,reg_string)\n",
    "print(result)"
   ]
  },
  {
   "cell_type": "code",
   "execution_count": 4,
   "metadata": {},
   "outputs": [
    {
     "output_type": "stream",
     "name": "stdout",
     "text": [
      "['9', '5', '2', '7']\n"
     ]
    }
   ],
   "source": [
    "reg_string = \"hello9527python@wangcai.@!:xiaoqiang\"\n",
    "reg = \"\\d\"\n",
    "s = re.findall(reg,reg_string)\n",
    "print(s)"
   ]
  },
  {
   "cell_type": "code",
   "execution_count": 6,
   "metadata": {},
   "outputs": [
    {
     "output_type": "stream",
     "name": "stdout",
     "text": [
      "['h', 'e', 'l', 'l', 'o', '9', '5', '2', '7', 'p', 'y', 't', 'h', 'o', 'n', 'w', 'a', 'n', 'g', 'c', 'a', 'i', 'x', 'i', 'a', 'o', 'q', 'i', 'a', 'n', 'g']\n"
     ]
    }
   ],
   "source": [
    "reg_string = \"hello9527python@wangcai.@!:xiaoqiang\"\n",
    "reg = \"\\w\"\n",
    "s = re.findall(reg,reg_string)\n",
    "print(s)"
   ]
  },
  {
   "cell_type": "code",
   "execution_count": 7,
   "metadata": {},
   "outputs": [
    {
     "output_type": "stream",
     "name": "stdout",
     "text": [
      "['h', 'e', 'l', 'l', 'o', 'p', 'y', 't', 'h', 'o', 'n', '@', 'w', 'a', 'n', 'g', 'c', 'a', 'i', '.', '@', '!', ':', 'x', 'i', 'a', 'o', 'q', 'i', 'a', 'n', 'g']\n"
     ]
    }
   ],
   "source": [
    "reg_string = \"hello9527python@wangcai.@!:xiaoqiang\"\n",
    "reg = \"\\D\"\n",
    "s = re.findall(reg,reg_string)\n",
    "print(s)\n"
   ]
  },
  {
   "cell_type": "code",
   "execution_count": 9,
   "metadata": {},
   "outputs": [
    {
     "output_type": "stream",
     "name": "stdout",
     "text": [
      "['9', '5', '2', '7', 'y', 't', '@', 'w', '.', '@', '!', ':', 'x', 'q']\n"
     ]
    }
   ],
   "source": [
    "reg_string = \"hello9527python@wangcai.@!:xiaoqiang\"\n",
    "reg = \"[^a-p]\"\n",
    "s = re.findall(reg,reg_string)\n",
    "print(s)"
   ]
  },
  {
   "cell_type": "code",
   "execution_count": 11,
   "metadata": {},
   "outputs": [
    {
     "output_type": "stream",
     "name": "stdout",
     "text": [
      "['hell', 'o952', '7pyt', 'wang', 'hell', 'ocai', 'xiao', 'qian']\n"
     ]
    }
   ],
   "source": [
    "reg_string = \"hello9527python@wang旺财hellocai.@!:xiaoqiang\"\n",
    "reg = \"[0-9a-z]{4}\"\n",
    "s = re.findall(reg,reg_string)\n",
    "print(s)"
   ]
  },
  {
   "cell_type": "code",
   "execution_count": 12,
   "metadata": {},
   "outputs": [
    {
     "output_type": "stream",
     "name": "stdout",
     "text": [
      "['192.168.1.123', '172.138.2.15']\n"
     ]
    }
   ],
   "source": [
    "ip = \"this is ip:192.168.1.123 : 172.138.2.15\"\n",
    "reg = \"\\d{3}.\\d+.\\d+.\\d+\"\n",
    "result = re.findall(reg,ip)\n",
    "print(result)"
   ]
  },
  {
   "cell_type": "code",
   "execution_count": 15,
   "metadata": {},
   "outputs": [
    {
     "output_type": "stream",
     "name": "stdout",
     "text": [
      "192.168.1.123\n"
     ]
    }
   ],
   "source": [
    "ip = \"this is ip:192.168.1.123 : 172.138.2.15\"\n",
    "reg1 = \"\\d{3}.\\d+.\\d+.\\d+\"\n",
    "reg2 = \"(\\d{1,3}.){3}\\d{1,3}\"\n",
    "result = re.search(reg2,ip)[0]\n",
    "print(result)"
   ]
  },
  {
   "cell_type": "code",
   "execution_count": 20,
   "metadata": {},
   "outputs": [
    {
     "output_type": "stream",
     "name": "stdout",
     "text": [
      "[('13888888888', '012345')]\n<_sre.SRE_Match object; span=(0, 56), match='this is phone:13888888888 and this is my postcode>\nthis is phone:13888888888 and this is my postcode:012345\n13888888888\n012345\n"
     ]
    }
   ],
   "source": [
    "s = \"this is phone:13888888888 and this is my postcode:012345\"\n",
    "reg = \"this is phone:(\\d{11}) and this is my postcode:(\\d{6})\"\n",
    "result1 = re.findall(reg,s)\n",
    "result2 = re.search(reg,s)\n",
    "print(result1)\n",
    "print(result2)\n",
    "g1 = re.search(reg,s).group(0)\n",
    "print(g1)\n",
    "g2 = re.search(reg,s).group(1)\n",
    "print(g2)\n",
    "g3 = re.search(reg,s).group(2)\n",
    "print(g3)"
   ]
  },
  {
   "cell_type": "code",
   "execution_count": 22,
   "metadata": {},
   "outputs": [
    {
     "output_type": "stream",
     "name": "stdout",
     "text": [
      "hello\n"
     ]
    }
   ],
   "source": [
    "reg_string = \"helloPythonHelloString\"\n",
    "reg = \"Hello\"\n",
    "result = re.match(reg, reg_string, re.I).group()#re.I 忽略大小写\n",
    "print(result)"
   ]
  },
  {
   "cell_type": "code",
   "execution_count": 27,
   "metadata": {},
   "outputs": [
    {
     "output_type": "stream",
     "name": "stdout",
     "text": [
      "['pythonnnnnnn', 'python']\n['pytho', 'pytho']\n['python', 'python']\n['pytho', 'pytho']\n"
     ]
    }
   ],
   "source": [
    "reg_string = \"pythonnnnnnnpythonHelloPytho\"\n",
    "#贪婪\n",
    "reg = \"python*\"\n",
    "result = re.findall(reg,reg_string)\n",
    "print(result)\n",
    "\n",
    "#非贪婪模式\n",
    "reg1 = \"python*?\"#重复零次或多次\n",
    "result1 = re.findall(reg1, reg_string)\n",
    "reg2 = \"python+?\"\n",
    "result2 = re.findall(reg2, reg_string)\n",
    "reg3 = \"python??\"\n",
    "result3 = re.findall(reg3, reg_string)\n",
    "\n",
    "print(result1)\n",
    "print(result2)\n",
    "print(result3)"
   ]
  },
  {
   "cell_type": "code",
   "execution_count": 28,
   "metadata": {},
   "outputs": [
    {
     "output_type": "stream",
     "name": "stdout",
     "text": [
      "匹配成功\n"
     ]
    },
    {
     "output_type": "execute_result",
     "data": {
      "text/plain": [
       "True"
      ]
     },
     "metadata": {},
     "execution_count": 28
    }
   ],
   "source": [
    "import re \n",
    "def checkCellphone(cellphone):\n",
    "    regex = \"^((13[0-9])|(14[5|7])|(15([0-3]|[5-9]))|(18[0,5-9]))\\d{8}$\"\n",
    "    result = re.findall(regex,cellphone)\n",
    "    if result:\n",
    "        print(\"匹配成功\")\n",
    "        return True\n",
    "    else:\n",
    "        print(\"匹配失败\")\n",
    "        return False\n",
    "cellphone = \"13717378202\"\n",
    "checkCellphone(cellphone)"
   ]
  },
  {
   "cell_type": "code",
   "execution_count": 29,
   "metadata": {},
   "outputs": [
    {
     "output_type": "stream",
     "name": "stdout",
     "text": [
      "匹配成功\n"
     ]
    },
    {
     "output_type": "execute_result",
     "data": {
      "text/plain": [
       "True"
      ]
     },
     "metadata": {},
     "execution_count": 29
    }
   ],
   "source": [
    "import re\n",
    "def checkEmail(email):\n",
    "    regex_1 = '^(\\w+)@sina.com$'\n",
    "    regex_2 = '^(\\w+)@sina.com.cn$'\n",
    "    regex_3 = '^(\\w+)@163.com$'\n",
    "    regex_4 = '^(\\w+)@126.com$'\n",
    "    regex_5 = '^[1-9][0,9]{4,}+@qq.com$'\n",
    "    regex = [regex_1 ,regex_2 ,regex_3, regex_4, regex_5]\n",
    "    for i in  regex:\n",
    "        result = re.findall(i,email)\n",
    "        if result:\n",
    "            print(\"匹配成功\")\n",
    "            return True\n",
    "        else:\n",
    "            print(\"匹配失败\")\n",
    "            return False\n",
    "email = 'sdjflsdjkl@sina.com'\n",
    "checkEmail(email)"
   ]
  },
  {
   "cell_type": "code",
   "execution_count": null,
   "metadata": {},
   "outputs": [],
   "source": []
  }
 ]
}