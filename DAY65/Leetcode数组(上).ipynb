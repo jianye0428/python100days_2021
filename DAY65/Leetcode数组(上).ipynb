{
 "metadata": {
  "language_info": {
   "codemirror_mode": {
    "name": "ipython",
    "version": 3
   },
   "file_extension": ".py",
   "mimetype": "text/x-python",
   "name": "python",
   "nbconvert_exporter": "python",
   "pygments_lexer": "ipython3",
   "version": "3.6.9"
  },
  "orig_nbformat": 2,
  "kernelspec": {
   "name": "python369jvsc74a57bd031f2aee4e71d21fbe5cf8b01ff0e069b9275f58929596ceb00d14d90e3e16cd6",
   "display_name": "Python 3.6.9 64-bit"
  },
  "metadata": {
   "interpreter": {
    "hash": "31f2aee4e71d21fbe5cf8b01ff0e069b9275f58929596ceb00d14d90e3e16cd6"
   }
  }
 },
 "nbformat": 4,
 "nbformat_minor": 2,
 "cells": [
  {
   "cell_type": "code",
   "execution_count": null,
   "metadata": {},
   "outputs": [],
   "source": [
    "#给你一个包含 n 个整数的数组 nums，判断 nums 中是否存在三个元素 a，b，c ，使得 a + b + c = 0 ？请你找出所有满足条件且不重复的三元组。\n",
    "#\n",
    "# 注意：答案中不可以包含重复的三元组。\n",
    "\n",
    "# 示例：\n",
    "#\n",
    "# 给定数组 nums = [-1, 0, 1, 2, -1, -4]，\n",
    "#\n",
    "#满足要求的三元组集合为：\n",
    "#[\n",
    "# [-1, 0, 1],\n",
    "# [-1, -1, 2]\n",
    "#]"
   ]
  },
  {
   "cell_type": "code",
   "execution_count": 1,
   "metadata": {},
   "outputs": [
    {
     "output_type": "stream",
     "name": "stdout",
     "text": [
      "[[-1, -1, 2], [-1, 0, 1]]\n"
     ]
    }
   ],
   "source": [
    "#three sum (brute force)\n",
    "def threeSum(nums):\n",
    "    result = []\n",
    "    nums.sort()\n",
    "    a = len(nums)\n",
    "    for i in range(a-1):\n",
    "        for j in range(i+1,a):\n",
    "            if -(nums[i]+nums[j]) in nums[j+1:]:\n",
    "                array = [nums[i], nums[j], -(nums[i]+nums[j])]\n",
    "                if array not in result:\n",
    "                    result.append(array)\n",
    "                \n",
    "\n",
    "    return result\n",
    "\n",
    "nums = [-1, 0, 1, 2, -1, -4]\n",
    "print(threeSum(nums))\n"
   ]
  },
  {
   "cell_type": "code",
   "execution_count": 8,
   "metadata": {},
   "outputs": [
    {
     "output_type": "stream",
     "name": "stdout",
     "text": [
      "[[-1, -1, 2], [-1, 0, 1]]\n"
     ]
    }
   ],
   "source": [
    "# three sum\n",
    "# double pointer\n",
    "\n",
    "def threeSum(nums):\n",
    "    nums.sort()\n",
    "    res_list = []\n",
    "    for i in range(len(nums)):\n",
    "        # the most left \n",
    "        l = i+1\n",
    "        # the most right\n",
    "        r = len(nums) - 1\n",
    "        while l<r:\n",
    "            three_sum = nums[i] + nums[l] + nums[r]\n",
    "            if(three_sum == 0) and [nums[i],nums[l],nums[r]] not in res_list:\n",
    "                res_list.append([nums[i],nums[l],nums[r]])\n",
    "                l += 1\n",
    "                r -= 1\n",
    "                while l < r and nums[l] == nums[l - 1]:\n",
    "                    l += 1\n",
    "                while r > l and nums[r] == nums[r + 1]:\n",
    "                    r -= 1\n",
    "            elif three_sum > 0:\n",
    "                r -= 1\n",
    "            else:\n",
    "                l += 1\n",
    "    return res_list\n",
    "\n",
    "nums = [-1, 0, 1, 2, -1, -4]\n",
    "print(threeSum(nums))\n"
   ]
  },
  {
   "cell_type": "code",
   "execution_count": null,
   "metadata": {},
   "outputs": [],
   "source": [
    "# find the mode\n",
    "# the mode is that value that is repeated most often in the data set\n",
    "#给定一个大小为 n 的数组，找到其中的多数元素。多数元素是指在数组中出现次数大于 ⌊ n/2 ⌋ 的元素。\n",
    "#\n",
    "# 你可以假设数组是非空的，并且给定的数组总是存在多数元素。\n",
    "# 示例 1:\n",
    "#\n",
    "# 输入: [3,2,3]\n",
    "#输出: 3\n",
    "#\n",
    "# 示例 2:\n",
    "#\n",
    "# 输入: [2,2,1,1,1,2,2]\n",
    "#输出: 2\n",
    "#\n",
    "# Related Topics 位运算 数组 分治算法"
   ]
  },
  {
   "cell_type": "code",
   "execution_count": 10,
   "metadata": {},
   "outputs": [
    {
     "output_type": "stream",
     "name": "stdout",
     "text": [
      "-1\n"
     ]
    }
   ],
   "source": [
    "def majorityElement(nums):\n",
    "    nums.sort()\n",
    "    return nums[int(len(nums)/2)]\n",
    "\n",
    "nums = [-1,-2,0,-1,8,3,-1]\n",
    "print(majorityElement(nums))"
   ]
  },
  {
   "cell_type": "code",
   "execution_count": 5,
   "metadata": {},
   "outputs": [
    {
     "output_type": "stream",
     "name": "stdout",
     "text": [
      "-1\n"
     ]
    }
   ],
   "source": [
    "class Solutions(object):\n",
    "    def majorityElement(self, nums):\n",
    "        num = {}\n",
    "        for i in nums:\n",
    "            if i in num:\n",
    "                num[i] += 1\n",
    "            else:\n",
    "                num[i] = 1\n",
    "        return max(num.items(),key = lambda x:x[1])[0]\n",
    "sol = Solutions()\n",
    "nums = [-1,-2,0,-1,8,3,-1]\n",
    "print(sol.majorityElement(nums))"
   ]
  },
  {
   "cell_type": "code",
   "execution_count": 6,
   "metadata": {},
   "outputs": [
    {
     "output_type": "stream",
     "name": "stdout",
     "text": [
      "-1\n"
     ]
    }
   ],
   "source": [
    "import collections\n",
    "def majorityElement(nums):\n",
    "    return collections.Counter(nums).most_common()[0][0]\n",
    "nums = [-1,-2,0,-1,8,3,-1]\n",
    "print(majorityElement(nums))\n"
   ]
  },
  {
   "cell_type": "code",
   "execution_count": null,
   "metadata": {},
   "outputs": [],
   "source": [
    "# find the first missing positive number\n",
    "#给你一个未排序的整数数组，请你找出其中没有出现的最小的正整数。\n",
    "# 示例 1:\n",
    "#\n",
    "# 输入: [1,2,0]\n",
    "#输出: 3\n",
    "#\n",
    "# 示例 2:\n",
    "#\n",
    "# 输入: [3,4,-1,1]\n",
    "#输出: 2\n",
    "#\n",
    "# 示例 3:\n",
    "#\n",
    "# 输入: [7,8,9,11,12]\n",
    "#输出: 1\n",
    "# 提示：\n",
    "#\n",
    "# 你的算法的时间复杂度应为O(n)，并且只能使用常数级别的额外空间。\n",
    "# Related Topics 数组"
   ]
  },
  {
   "cell_type": "code",
   "execution_count": 11,
   "metadata": {},
   "outputs": [
    {
     "output_type": "stream",
     "name": "stdout",
     "text": [
      "1\n"
     ]
    }
   ],
   "source": [
    "class Solution:\n",
    "    def firstMissingPositive(self,nums) -> int:\n",
    "        res = 1\n",
    "        while res in nums:\n",
    "            res += 1\n",
    "        return res \n",
    "solver = Solution()\n",
    "nums = [7,8,9,11,12]\n",
    "print(solver.firstMissingPositive(nums))\n"
   ]
  },
  {
   "cell_type": "code",
   "execution_count": 17,
   "metadata": {},
   "outputs": [
    {
     "output_type": "stream",
     "name": "stdout",
     "text": [
      "[-1, -1, -1, -1, -1]\n1\n"
     ]
    }
   ],
   "source": [
    " class Solution:\n",
    "    def firstMissingPositive(self, nums) -> int:\n",
    "        n=len(nums)\n",
    "        res_list=[-1] * n\n",
    "        print(res_list)\n",
    "        for i in range(n):\n",
    "        \t#  要判断这个数是否可以被交换\n",
    "            if nums[i] >=1 and nums[i]<=n:\n",
    "                res_list[nums[i]-1] =nums[i]\n",
    "            # print(res_list)\n",
    "        for i in range(n):\n",
    "            if res_list[i] != i+1:\n",
    "                return i+1\n",
    "        return n+1\n",
    "solver = Solution()\n",
    "nums = [7,8,9,11,12]\n",
    "print(solver.firstMissingPositive(nums))"
   ]
  },
  {
   "cell_type": "code",
   "execution_count": null,
   "metadata": {},
   "outputs": [],
   "source": []
  }
 ]
}