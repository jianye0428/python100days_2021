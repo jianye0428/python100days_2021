{
 "metadata": {
  "language_info": {
   "codemirror_mode": {
    "name": "ipython",
    "version": 3
   },
   "file_extension": ".py",
   "mimetype": "text/x-python",
   "name": "python",
   "nbconvert_exporter": "python",
   "pygments_lexer": "ipython3",
   "version": "3.6.9"
  },
  "orig_nbformat": 2,
  "kernelspec": {
   "name": "python369jvsc74a57bd031f2aee4e71d21fbe5cf8b01ff0e069b9275f58929596ceb00d14d90e3e16cd6",
   "display_name": "Python 3.6.9 64-bit"
  },
  "metadata": {
   "interpreter": {
    "hash": "31f2aee4e71d21fbe5cf8b01ff0e069b9275f58929596ceb00d14d90e3e16cd6"
   }
  }
 },
 "nbformat": 4,
 "nbformat_minor": 2,
 "cells": [
  {
   "cell_type": "code",
   "execution_count": 2,
   "metadata": {},
   "outputs": [],
   "source": [
    "import tkinter as tk\n",
    "window = tk.Tk()\n",
    "window.title('my window')\n",
    "window.geometry('200x100')\n",
    "#这里是窗口的内容\n",
    "window.mainloop()"
   ]
  },
  {
   "cell_type": "code",
   "execution_count": 4,
   "metadata": {},
   "outputs": [],
   "source": [
    "import tkinter as tk\n",
    "window = tk.Tk()\n",
    "window.title('my window')\n",
    "window.geometry('400x300')\n",
    "l = tk.Label(window,text='OMG!This is my window',bg='green',font=('Arial',12),width=15,height=2)\n",
    "l.pack()#固定窗口位置\n",
    "window.mainloop()"
   ]
  },
  {
   "cell_type": "code",
   "execution_count": 5,
   "metadata": {},
   "outputs": [],
   "source": [
    "#tkinter绑定事件\n",
    "from tkinter import *\n",
    "\n",
    "def p_label():\n",
    "    global root \n",
    "    Lb = Label(root, text='shusen 爱学习')\n",
    "    Lb.pack()\n",
    "\n",
    "root = Tk()\n",
    "root.title('应用程序窗口')\n",
    "B_n = Button(root,text='点我',command=p_label,bg='red')#commmand后面不能有任何的标点符号\n",
    "B_n.pack()\n",
    "root.mainloop()"
   ]
  },
  {
   "cell_type": "code",
   "execution_count": 13,
   "metadata": {},
   "outputs": [],
   "source": [
    "#布局显示\n",
    "from tkinter import *\n",
    "\n",
    "root = Tk()\n",
    "root.title(\"application programm window\")\n",
    "root.geometry('600x400')\n",
    "Button(root,text = '1').pack(side=LEFT, expand=YES, fill=Y)\n",
    "Button(root,text='2').pack(side=TOP,expand=YES,fill=BOTH)\n",
    "Button(root,text='3').pack(side=RIGHT,expand = YES,fill=BOTH)\n",
    "Button(root,text='4').pack(side=LEFT,expand =NO,fill=Y)\n",
    "Button(root,text='5').pack(side=TOP,expand =YES,fill=BOTH)\n",
    "Button(root,text='6').pack(side=BOTTOM,expand =YES)\n",
    "Button(root,text='7').pack(anchor=SE)\n",
    "root.mainloop()"
   ]
  },
  {
   "cell_type": "code",
   "execution_count": 17,
   "metadata": {},
   "outputs": [],
   "source": [
    "#grid组件\n",
    "from tkinter import *\n",
    "root = Tk()\n",
    "\n",
    "labels = [['1','2','3'],['4','5','6'],['7','8','9'],['*','0','#']]\n",
    "for r in range(4):\n",
    "    for c in range(3):\n",
    "        label = Label(root, relief=RAISED, padx=10, text=labels[r][c])\n",
    "        label.grid(row=r,column=c)#将标签放置在r行c列\n",
    "\n",
    "root.mainloop()"
   ]
  },
  {
   "cell_type": "code",
   "execution_count": 25,
   "metadata": {},
   "outputs": [],
   "source": [
    "import calendar\n",
    "from tkinter import *\n",
    "root = Tk()\n",
    "labels = [['MON','TUE','WED','THU','FRI','SAT','SUN']]\n",
    "\n",
    "MonthCal = calendar.monthcalendar(2021,5)\n",
    "for i in range(len(MonthCal)):\n",
    "    labels.append(MonthCal[i])\n",
    "for r in range(len(MonthCal)+1):\n",
    "    for c in range(7):\n",
    "        if labels[r][c] == 0:\n",
    "            labels[r][c] = ' '\n",
    "        label = Label(root, padx=5,pady=5,text=str(labels[r][c]))\n",
    "        label.grid(row=r,column=c)\n",
    "root.mainloop()"
   ]
  },
  {
   "cell_type": "code",
   "execution_count": 19,
   "metadata": {},
   "outputs": [],
   "source": [
    "import calendar\n",
    "from tkinter import *\n",
    "root = Tk()\n",
    "\n",
    "def LabelCal(Year, Month):\n",
    "    # 首行放置\"年，月\"的位置\n",
    "    label = Label(root,text = str(Year)+\"年\")\n",
    "    label.grid(row = 0,column = 2)\n",
    "    label = Label(root, text = str(Month)+\"月\")\n",
    "    label.grid(row = 0,column = 4)\n",
    "    # labels列表: 放置 “星期” 标题\n",
    "    labels = [[\"MON\",\"TUE\",\"WED\",\"THU\",\"FRI\",\"SAT\",\"SUN\"]]\n",
    "    # 用calendar库计算日历\n",
    "    MonthCal = calendar.monthcalendar(Year,Month)\n",
    "    # 先把界面清空\n",
    "    for r in range(7):\n",
    "        for c in range(7):\n",
    "            label = Label(root,width=5,padx=5,pady=5,text=' ')\n",
    "            label.grid(row=r+1,column=c)\n",
    "    # 把日历添加到labels列表中\n",
    "    for i in range(len(MonthCal)):\n",
    "        labels.append(MonthCal[i])\n",
    "    # 放置日历\n",
    "    for r in range(len(MonthCal)+1):\n",
    "        for c in range(7):\n",
    "            if labels[r][c] == 0:\n",
    "                labels[r][c] = ' '\n",
    "            label = Label(root,width=5,padx=5, pady=5,text = str(labels[r][c]))\n",
    "            label.grid(row=r+1,column=c)#网格布局\n",
    "    \n",
    "# 默认日期\n",
    "Year,Month = 2021,5\n",
    "LabelCal(Year,Month)\n",
    "\n",
    "#button: previous\n",
    "def ButtonPrevious():\n",
    "    global Year,Month\n",
    "    Month = Month - 1\n",
    "    if Month < 1:\n",
    "        Month = Month + 12\n",
    "        Year = Year -1\n",
    "    LabelCal(Year,Month)\n",
    "        \n",
    "button1 = Button(root, text='Previous',command = ButtonPrevious)\n",
    "button1.grid(row=len(MonthCal)+3,column=0)\n",
    "\n",
    "# button: next\n",
    "def ButtonNext():\n",
    "    global Year,Month\n",
    "    Month = Month+1\n",
    "    if Month>12:\n",
    "        Month = Month-12\n",
    "        Year = Year+1\n",
    "    LabelCal(Year, Month)\n",
    "\n",
    "button2 = Button(root,text='Next',command=ButtonNext)\n",
    "button2.grid(row=len(MonthCal)+3,column=6)\n",
    "\n",
    "root.mainloop()\n"
   ]
  },
  {
   "cell_type": "code",
   "execution_count": null,
   "metadata": {},
   "outputs": [],
   "source": []
  }
 ]
}