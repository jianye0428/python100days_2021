{
 "metadata": {
  "language_info": {
   "codemirror_mode": {
    "name": "ipython",
    "version": 3
   },
   "file_extension": ".py",
   "mimetype": "text/x-python",
   "name": "python",
   "nbconvert_exporter": "python",
   "pygments_lexer": "ipython3",
   "version": "3.6.9"
  },
  "orig_nbformat": 2,
  "kernelspec": {
   "name": "python369jvsc74a57bd031f2aee4e71d21fbe5cf8b01ff0e069b9275f58929596ceb00d14d90e3e16cd6",
   "display_name": "Python 3.6.9 64-bit"
  },
  "metadata": {
   "interpreter": {
    "hash": "31f2aee4e71d21fbe5cf8b01ff0e069b9275f58929596ceb00d14d90e3e16cd6"
   }
  }
 },
 "nbformat": 4,
 "nbformat_minor": 2,
 "cells": [
  {
   "cell_type": "code",
   "execution_count": 1,
   "metadata": {},
   "outputs": [
    {
     "output_type": "stream",
     "name": "stdout",
     "text": [
      "Here is your first hand：['11C', '2S', '13D', '10H', '6S']\n['11C', '2S', '13D', '10H', '6S'] 0\n"
     ]
    }
   ],
   "source": [
    "import random\n",
    "# 定义一副未洗的牌[0, 1....51]\n",
    "pokers = [i for i in range(52)]\n",
    "# 定义花色\n",
    "# 方片D(Diamonds) 梅花C(Clubs)  红桃H(Heart)  黑桃S(Spade)\n",
    "suits = ['D', 'C', 'H', 'S']\n",
    "# 定义编号\n",
    "ranks = ['1', '2', '3', '4', '5', '6', '7', '8',\n",
    "         '9', '10', '11', '12', '13']\n",
    "s = 0\n",
    "def get_pokers(mylist):\n",
    "    # 随机生成一牌，但是要求不能在之前的出现\n",
    "    poker = random.choice(ranks) +  random.choice(suits)\n",
    "    if poker in mylist:\n",
    "        # 出现重新生成一牌\n",
    "        return get_pokers(mylist)\n",
    "    else:\n",
    "        return poker\n",
    "\n",
    "def get_five_pokers():\n",
    "    mylist = []\n",
    "    for i in range(52):\n",
    "        # 随机得到0-51整数随机数\n",
    "        randomIndex = random.randint(0, 51)\n",
    "        # 交换\n",
    "        pokers[i], pokers[randomIndex] = pokers[randomIndex], pokers[i]\n",
    "    for i in range(5):\n",
    "        suit = suits[pokers[i] // 13]\n",
    "        rank = ranks[pokers[i] % 13]\n",
    "        mylist.append(str(rank + suit))\n",
    "    return mylist\n",
    "\n",
    "def change_pokers(mylist):\n",
    "    # 需不需要换牌\n",
    "\n",
    "    global s\n",
    "    print(mylist,s)\n",
    "    Change = input(\"Change some cards：y or n： \")\n",
    "    if Change == \"y\":\n",
    "        keep = input(\"Indicate which cards you wish to keep ：\")\n",
    "        for index,i in enumerate(keep):\n",
    "            if i == '0':\n",
    "                # 换牌\n",
    "                pork = get_pokers(mylist)\n",
    "                print(pork)\n",
    "                mylist.insert(index, pork)\n",
    "                # 在删除之后的下一个\n",
    "                mylist.pop(index+1)\n",
    "        print(\"You now have：\"+ str(mylist))\n",
    "        change_pokers(mylist)\n",
    "    else:\n",
    "        # 计算分数\n",
    "        for i in mylist:\n",
    "            print(i)\n",
    "            s += int(i[:-1])\n",
    "        print(\"Your total score is now：\" +str(s))\n",
    "        return s\n",
    "\n",
    "\n",
    "def teststraightchecker():\n",
    "    global s\n",
    "    mylist = get_five_pokers()\n",
    "    print(\"Here is your first hand：\" + str(mylist))\n",
    "    change_pokers(mylist)\n",
    "    choice = input(\"Would you like to play again (y or n) ：\")\n",
    "    if choice == 'y':\n",
    "        teststraightchecker()\n",
    "    else:\n",
    "        print(\"Thank you for playing\")\n",
    "\n",
    "if __name__ == '__main__':\n",
    "    teststraightchecker()"
   ]
  },
  {
   "cell_type": "code",
   "execution_count": 3,
   "metadata": {},
   "outputs": [
    {
     "output_type": "stream",
     "name": "stdout",
     "text": [
      "7S\n11\nC\n14\n"
     ]
    }
   ],
   "source": [
    "import random\n",
    "# 定义一副未洗的牌[0, 1....51]\n",
    "pokers = [i for i in range(52)]\n",
    "# 定义花色\n",
    "# 方片D(Diamonds) 梅花C(Clubs)  红桃H(Heart)  黑桃S(Spade)\n",
    "suits = ['D', 'C', 'H', 'S']\n",
    "# 定义编号\n",
    "ranks = ['1', '2', '3', '4', '5', '6', '7', '8',\n",
    "         '9', '10', '11', '12', '13']\n",
    "s = 0\n",
    "\n",
    "poker = random.choice(ranks) +  random.choice(suits)\n",
    "print(poker)\n",
    "print(random.choice(ranks))\n",
    "print(random.choice(suits))\n",
    "print(random.randint(0, 51))"
   ]
  },
  {
   "cell_type": "code",
   "execution_count": 1,
   "metadata": {},
   "outputs": [
    {
     "output_type": "stream",
     "name": "stdout",
     "text": [
      "1\n"
     ]
    }
   ],
   "source": [
    "print(1)"
   ]
  },
  {
   "cell_type": "code",
   "execution_count": null,
   "metadata": {},
   "outputs": [],
   "source": []
  }
 ]
}