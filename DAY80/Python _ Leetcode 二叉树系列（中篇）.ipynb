{
 "cells": [
  {
   "cell_type": "code",
   "execution_count": 1,
   "metadata": {},
   "outputs": [],
   "source": [
    "# LeetCode 第 102题：二叉树的层次遍历\n",
    "#给你一个二叉树，请你返回其按 层序遍历 得到的节点值。 （即逐层地，从左到右访问所有节点）。\n",
    "# 示例：\n",
    "#二叉树：[3,9,20,null,null,15,7],\n",
    "# 3\n",
    "# / \\\n",
    "# 9 20\n",
    "# / \\\n",
    "# 15 7\n",
    "# 返回其层次遍历结果：\n",
    "# [\n",
    "# [3],\n",
    "# [9,20],\n",
    "# [15,7]\n",
    "#]\n",
    "# Related Topics 树 广度优先搜索"
   ]
  },
  {
   "cell_type": "code",
   "execution_count": 2,
   "metadata": {},
   "outputs": [],
   "source": [
    "class TreeNode:\n",
    "    def __init__(self,x):\n",
    "        self.val = x\n",
    "        self.left = None\n",
    "        self.right = None\n",
    "\n",
    "from collections import deque\n",
    "\n",
    "class Solution(object):\n",
    "    def levelOrder(self, root):\n",
    "        res = []\n",
    "        if root is None:\n",
    "            return res\n",
    "        q = deque([root])\n",
    "        res.append([root.val])\n",
    "        while q:\n",
    "            size = len(q)\n",
    "            level = []\n",
    "            for i in range(size):\n",
    "                node = q.popleft()\n",
    "                if node.left != None:\n",
    "                    q.append(node.left)\n",
    "                    level.append(node.left.val)\n",
    "                if node.right != None:\n",
    "                    q.append(node.right)\n",
    "                    level.append(node.right.val)\n",
    "            if level:\n",
    "                res.append(level)\n",
    "        return res"
   ]
  },
  {
   "cell_type": "code",
   "execution_count": 3,
   "metadata": {},
   "outputs": [],
   "source": [
    "# LeetCode 第 104题：二叉树的最大深度\n",
    "#给定一个二叉树，找出其最大深度。\n",
    "# 二叉树的深度为根节点到最远叶子节点的最长路径上的节点数。\n",
    "# 说明: 叶子节点是指没有子节点的节点。\n",
    "# 示例：\n",
    "#给定二叉树 [3,9,20,null,null,15,7]，\n",
    "# 3\n",
    "# / \\\n",
    "# 9 20\n",
    "# / \\\n",
    "# 15 7\n",
    "# 返回它的最大深度 3 。\n",
    "# Related Topics 树 深度优先搜索"
   ]
  },
  {
   "cell_type": "code",
   "execution_count": 4,
   "metadata": {},
   "outputs": [],
   "source": [
    "class TreeNode:\n",
    "    def __init__(self, x):\n",
    "        self.val = x\n",
    "        self.left = None\n",
    "        self.right = None\n",
    "class Solution:\n",
    "    def maxDepth(self, root):\n",
    "        if not root:\n",
    "            return 0\n",
    "        return max(self.maxDepth(root.left),self.maxDepth(root.right))+1\n",
    "    \n",
    "    "
   ]
  },
  {
   "cell_type": "code",
   "execution_count": 5,
   "metadata": {},
   "outputs": [],
   "source": [
    "# LeetCode 第 107题：二叉树的层次遍历 II\n",
    "#给定一个二叉树，返回其节点值自底向上的层次遍历。 （即按从叶子节点所在层到根节点所在的层，逐层从左向右遍历）\n",
    "#\n",
    "# 例如：\n",
    "#给定二叉树 [3,9,20,null,null,15,7],\n",
    "# 3\n",
    "# / \\\n",
    "# 9 20\n",
    "# / \\\n",
    "# 15 7\n",
    "# 返回其自底向上的层次遍历为：\n",
    "# [\n",
    "# [15,7],\n",
    "# [9,20],\n",
    "# [3]\n",
    "#]\n",
    "# Related Topics 树 广度优先搜索"
   ]
  },
  {
   "cell_type": "code",
   "execution_count": 6,
   "metadata": {},
   "outputs": [],
   "source": [
    "class Solution:\n",
    "    def levelOrderBottom(self, root):\n",
    "        res = []\n",
    "        if root is None:\n",
    "            return res\n",
    "        q = deque([root])\n",
    "        res.append([root.val])\n",
    "        while q:\n",
    "            size = len(q)\n",
    "            level = []\n",
    "            for i in range(size):\n",
    "                node = q.popleft()\n",
    "                if node.left != None:\n",
    "                    q.append(q.left)\n",
    "                    level.append(node.left.val)\n",
    "                if node.right != None:\n",
    "                    q.append(q.right)\n",
    "                    level.append(node.right.val)\n",
    "            if level:\n",
    "                res.append(level)\n",
    "        return res[::-1]"
   ]
  },
  {
   "cell_type": "code",
   "execution_count": 7,
   "metadata": {},
   "outputs": [],
   "source": [
    "# LeetCode 第 110题：平衡二叉树\n",
    "#给定一个二叉树，判断它是否是高度平衡的二叉树。\n",
    "# 本题中，一棵高度平衡二叉树定义为：\n",
    "# 一个二叉树每个节点 的左右两个子树的高度差的绝对值不超过1。\n",
    "# 示例 1:\n",
    "# 给定二叉树 [3,9,20,null,null,15,7]\n",
    "#\n",
    "# 3\n",
    "# / \\\n",
    "# 9 20\n",
    "# / \\\n",
    "# 15 7\n",
    "# 返回 true 。\n",
    "#示例 2:\n",
    "# 给定二叉树 [1,2,2,3,3,null,null,4,4]\n",
    "#\n",
    "# 1\n",
    "# / \\\n",
    "# 2 2\n",
    "# / \\\n",
    "# 3 3\n",
    "# / \\\n",
    "# 4 4\n",
    "# 返回 false 。\n",
    "# Related Topics 树 深度优先搜索"
   ]
  },
  {
   "cell_type": "code",
   "execution_count": null,
   "metadata": {},
   "outputs": [],
   "source": [
    "class TreeNode(object):\n",
    "    def __init__(self, x):\n",
    "        self.val = x\n",
    "        self.left = None\n",
    "        self.right = None\n",
    "\n",
    "class Solution:\n",
    "    def isBalanced(self, root):\n",
    "        if not root:\n",
    "            return True\n",
    "        return abs(self.depth(root.left)-self.depth(self.right)) and self.isBalanced(self.root.left) and self.isBalanced(self.root.right)\n",
    "    def depth(self, root):\n",
    "        if not root:\n",
    "            return 0\n",
    "        return max(self.depth(root.left), self.depth(root.right))+1"
   ]
  },
  {
   "cell_type": "code",
   "execution_count": null,
   "metadata": {},
   "outputs": [],
   "source": [
    "# DFS\n",
    "\n",
    "class Solution:\n",
    "    def isBalanced(self, root):\n",
    "        return self.depth(root) != -1\n",
    "\n",
    "    def depth(self, root):\n",
    "        if not root:\n",
    "            return 0\n",
    "\n",
    "        left = self.depth(root.left)\n",
    "        if left == -1:\n",
    "            return -1\n",
    "        right = self.depth(root.right)\n",
    "        if right == -1:\n",
    "            return -1\n",
    "        return max(left, right) + 1 if abs(left - right) < 2 else -1"
   ]
  }
 ],
 "metadata": {
  "kernelspec": {
   "display_name": "Python 3.6.9 64-bit",
   "name": "python369jvsc74a57bd031f2aee4e71d21fbe5cf8b01ff0e069b9275f58929596ceb00d14d90e3e16cd6"
  },
  "language_info": {
   "codemirror_mode": {
    "name": "ipython",
    "version": 3
   },
   "file_extension": ".py",
   "mimetype": "text/x-python",
   "name": "python",
   "nbconvert_exporter": "python",
   "pygments_lexer": "ipython3",
   "version": "3.6.9"
  },
  "metadata": {
   "interpreter": {
    "hash": "31f2aee4e71d21fbe5cf8b01ff0e069b9275f58929596ceb00d14d90e3e16cd6"
   }
  },
  "orig_nbformat": 2
 },
 "nbformat": 4,
 "nbformat_minor": 2
}