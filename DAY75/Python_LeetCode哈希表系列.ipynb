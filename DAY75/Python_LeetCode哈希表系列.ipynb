{
 "metadata": {
  "language_info": {
   "codemirror_mode": {
    "name": "ipython",
    "version": 3
   },
   "file_extension": ".py",
   "mimetype": "text/x-python",
   "name": "python",
   "nbconvert_exporter": "python",
   "pygments_lexer": "ipython3",
   "version": "3.6.9"
  },
  "orig_nbformat": 2,
  "kernelspec": {
   "name": "python369jvsc74a57bd031f2aee4e71d21fbe5cf8b01ff0e069b9275f58929596ceb00d14d90e3e16cd6",
   "display_name": "Python 3.6.9 64-bit"
  },
  "metadata": {
   "interpreter": {
    "hash": "31f2aee4e71d21fbe5cf8b01ff0e069b9275f58929596ceb00d14d90e3e16cd6"
   }
  }
 },
 "nbformat": 4,
 "nbformat_minor": 2,
 "cells": [
  {
   "cell_type": "code",
   "execution_count": null,
   "metadata": {},
   "outputs": [],
   "source": [
    "# 直接定址法 hash函数\n",
    "class Map:\n",
    "    def __init__(self):\n",
    "        self.items = [None]*100\n",
    "    def hash(self, a):\n",
    "        return a*1 + 0\n",
    "    def put(self, k, v):\n",
    "        self.items[hash(k)] = v\n",
    "    def get(self, k):\n",
    "        hashcode = hash(k)\n",
    "        return self.items[hashcode]"
   ]
  },
  {
   "cell_type": "code",
   "execution_count": null,
   "metadata": {},
   "outputs": [],
   "source": [
    "# LeetCode 第 136题：只出现一次的数字\n",
    "# 给定一个非空整数数组，除了某个元素只出现一次以外，其余每个元素均出现两次。找出那个只出现了一次的元素。\n",
    "# 说明：\n",
    "# 你的算法应该具有线性时间复杂度。 你可以不使用额外空间来实现吗？\n",
    "# 示例 1:\n",
    "# 输入: [2,2,1]\n",
    "#输出: 1\n",
    "# 示例 2:\n",
    "# 输入: [4,1,2,1,2]\n",
    "#输出: 4\n",
    "# Related Topics 位运算 哈希表"
   ]
  },
  {
   "cell_type": "code",
   "execution_count": null,
   "metadata": {},
   "outputs": [],
   "source": [
    "class Solution:\n",
    "    def singleNumber(self, nums):\n",
    "        return sum(set(nums))*2-sum(nums)"
   ]
  },
  {
   "cell_type": "code",
   "execution_count": null,
   "metadata": {},
   "outputs": [],
   "source": [
    "class Solution:\n",
    "    def singleNumber(self, nums):\n",
    "        dic = {}\n",
    "        for i in nums:\n",
    "            d[i] = dic.get(i,0)+1\n",
    "        for i in nums:\n",
    "            if dic.get(i) ==1:\n",
    "                return i"
   ]
  },
  {
   "cell_type": "code",
   "execution_count": null,
   "metadata": {},
   "outputs": [],
   "source": [
    "# LeetCode 第 217题：存在重复元素\n",
    "#给定一个整数数组，判断是否存在重复元素。\n",
    "# 如果任意一值在数组中出现至少两次，函数返回 true 。如果数组中每个元素都不相同，则返回 false 。\n",
    "# 示例 1:\n",
    "# 输入: [1,2,3,1]\n",
    "#输出: true\n",
    "# 示例 2:\n",
    "# 输入: [1,2,3,4]\n",
    "#输出: false\n",
    "# 示例 3:\n",
    "# 输入: [1,1,1,3,3,4,3,2,4,2]\n",
    "#输出: true\n",
    "# Related Topics 数组 哈希表"
   ]
  },
  {
   "cell_type": "code",
   "execution_count": null,
   "metadata": {},
   "outputs": [],
   "source": [
    "class Solution:\n",
    "    def containsDuplicate(self, nums):\n",
    "        if len(set(nums)) == len(nums):\n",
    "            return False\n",
    "        else:\n",
    "            return True"
   ]
  },
  {
   "cell_type": "code",
   "execution_count": null,
   "metadata": {},
   "outputs": [],
   "source": [
    "class Solution:\n",
    "    def containsDuplicate(self, nums):\n",
    "        dic = {}\n",
    "        for i in nums:\n",
    "            if dic.get(i):\n",
    "                return True\n",
    "            dic[i] = 1\n",
    "        return False"
   ]
  },
  {
   "cell_type": "code",
   "execution_count": null,
   "metadata": {},
   "outputs": [],
   "source": [
    "# 剑指 Offer 50. 第一个只出现一次的字符\n",
    "# 在字符串 s 中找出第一个只出现一次的字符。如果没有，返回一个单空格。 s 只包含小写字母。\n",
    "# 示例:\n",
    "# s = \"abaccdeff\"\n",
    "#返回 \"b\"\n",
    "#s = \"\"\n",
    "#返回 \" \"\n",
    "# 限制：\n",
    "# 0 <= s 的长度 <= 50000\n",
    "# Related Topics 哈希表"
   ]
  },
  {
   "cell_type": "code",
   "execution_count": 2,
   "metadata": {},
   "outputs": [],
   "source": [
    "class Solution:\n",
    "    def firstUniqChar(self, s:str):\n",
    "        dicts = {}\n",
    "        for i in s:\n",
    "            dicts[i] = dicts.get(i,0) + 1\n",
    "        for i in s:\n",
    "            if dicts[i] == 1:\n",
    "                return i\n",
    "        return ' '"
   ]
  },
  {
   "cell_type": "code",
   "execution_count": null,
   "metadata": {},
   "outputs": [],
   "source": []
  }
 ]
}