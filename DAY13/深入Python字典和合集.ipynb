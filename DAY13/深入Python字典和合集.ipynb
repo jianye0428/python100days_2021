{
 "metadata": {
  "language_info": {
   "codemirror_mode": {
    "name": "ipython",
    "version": 3
   },
   "file_extension": ".py",
   "mimetype": "text/x-python",
   "name": "python",
   "nbconvert_exporter": "python",
   "pygments_lexer": "ipython3",
   "version": "3.6.9"
  },
  "orig_nbformat": 2,
  "kernelspec": {
   "name": "python369jvsc74a57bd031f2aee4e71d21fbe5cf8b01ff0e069b9275f58929596ceb00d14d90e3e16cd6",
   "display_name": "Python 3.6.9 64-bit"
  },
  "metadata": {
   "interpreter": {
    "hash": "31f2aee4e71d21fbe5cf8b01ff0e069b9275f58929596ceb00d14d90e3e16cd6"
   }
  }
 },
 "nbformat": 4,
 "nbformat_minor": 2,
 "cells": [
  {
   "cell_type": "code",
   "execution_count": 1,
   "metadata": {},
   "outputs": [
    {
     "output_type": "stream",
     "name": "stdout",
     "text": [
      "True\n"
     ]
    }
   ],
   "source": [
    "d1 = {'name': 'jason', 'age': 20, 'gender': 'male'}\n",
    "d2 = dict({'name': 'jason', 'age': 20, 'gender': 'male'})\n",
    "d3 = dict([('name', 'jason'), ('age', 20), ('gender', 'male')])\n",
    "d4 = dict(name='jason', age=20, gender='male') \n",
    "print(d1 == d2 == d3 ==d4)"
   ]
  },
  {
   "cell_type": "code",
   "execution_count": 2,
   "metadata": {},
   "outputs": [
    {
     "output_type": "stream",
     "name": "stdout",
     "text": [
      "True\n"
     ]
    }
   ],
   "source": [
    "s1 = {1,2,3}\n",
    "s2 = set([1,2,3])\n",
    "print(s1 == s2)"
   ]
  },
  {
   "cell_type": "code",
   "execution_count": 3,
   "metadata": {},
   "outputs": [
    {
     "output_type": "error",
     "ename": "TypeError",
     "evalue": "'set' object does not support indexing",
     "traceback": [
      "\u001b[0;31m---------------------------------------------------------------------------\u001b[0m",
      "\u001b[0;31mTypeError\u001b[0m                                 Traceback (most recent call last)",
      "\u001b[0;32m<ipython-input-3-7bf80bf70831>\u001b[0m in \u001b[0;36m<module>\u001b[0;34m\u001b[0m\n\u001b[1;32m      1\u001b[0m \u001b[0ms\u001b[0m \u001b[0;34m=\u001b[0m \u001b[0;34m{\u001b[0m\u001b[0;36m1\u001b[0m\u001b[0;34m,\u001b[0m\u001b[0;36m2\u001b[0m\u001b[0;34m,\u001b[0m\u001b[0;36m3\u001b[0m\u001b[0;34m}\u001b[0m\u001b[0;34m\u001b[0m\u001b[0;34m\u001b[0m\u001b[0m\n\u001b[0;32m----> 2\u001b[0;31m \u001b[0ms\u001b[0m\u001b[0;34m[\u001b[0m\u001b[0;36m0\u001b[0m\u001b[0;34m]\u001b[0m\u001b[0;34m\u001b[0m\u001b[0;34m\u001b[0m\u001b[0m\n\u001b[0m",
      "\u001b[0;31mTypeError\u001b[0m: 'set' object does not support indexing"
     ]
    }
   ],
   "source": [
    "# 集合不支持索引操作\n",
    "s = {1,2,3}\n",
    "s[0]"
   ]
  },
  {
   "cell_type": "code",
   "execution_count": 5,
   "metadata": {},
   "outputs": [
    {
     "output_type": "stream",
     "name": "stdout",
     "text": [
      "True\nFalse\nTrue\nFalse\n"
     ]
    }
   ],
   "source": [
    "s = {1,2,4}\n",
    "print(1 in s)\n",
    "print(3 in s)\n",
    "\n",
    "d = {'name':'jian','age':20}\n",
    "print('name' in d)\n",
    "print('location' in d)"
   ]
  },
  {
   "cell_type": "code",
   "execution_count": 7,
   "metadata": {},
   "outputs": [
    {
     "output_type": "stream",
     "name": "stdout",
     "text": [
      "jian\n{'name': 'jian', 'age': '28', 'location': 'karlsruhe', 'birthday': '1993-04-28'}\n"
     ]
    },
    {
     "output_type": "execute_result",
     "data": {
      "text/plain": [
       "'1993-04-28'"
      ]
     },
     "metadata": {},
     "execution_count": 7
    }
   ],
   "source": [
    "d = {'name':'jian','age':'28','location':'karlsruhe'}\n",
    "\n",
    "print(d['name'])\n",
    "\n",
    "d['birthday'] = '1993-04-28'\n",
    "print(d)\n",
    "\n",
    "d.pop('birthday')"
   ]
  },
  {
   "cell_type": "code",
   "execution_count": 8,
   "metadata": {},
   "outputs": [
    {
     "output_type": "stream",
     "name": "stdout",
     "text": [
      "{1, 2, 3, 4}\n{1, 2, 3}\n"
     ]
    }
   ],
   "source": [
    "s = {1,2,3}\n",
    "\n",
    "s.add(4)\n",
    "print(s)\n",
    "\n",
    "s.remove(4)\n",
    "print(s)"
   ]
  },
  {
   "cell_type": "code",
   "execution_count": 9,
   "metadata": {},
   "outputs": [
    {
     "output_type": "stream",
     "name": "stdout",
     "text": [
      "[('a', 2), ('b', 1), ('c', 10)]\n[('b', 1), ('a', 2), ('c', 10)]\n"
     ]
    }
   ],
   "source": [
    "#字典的升序和降序\n",
    "d = {'b':1,'a':2,'c':10}\n",
    "d_sorted_by_key = sorted(d.items(),key=lambda x:x[0])\n",
    "d_sorted_by_value = sorted(d.items(),key=lambda x:[1])\n",
    "print(d_sorted_by_key)\n",
    "print(d_sorted_by_value)"
   ]
  },
  {
   "cell_type": "code",
   "execution_count": 13,
   "metadata": {},
   "outputs": [
    {
     "output_type": "stream",
     "name": "stdout",
     "text": [
      "number of unique price is: 3\n"
     ]
    }
   ],
   "source": [
    "#增删查找\n",
    "#列表的做法\n",
    "#list version\n",
    "def find_unique_price_using_list(products):\n",
    "    unique_price_list = []\n",
    "    for _,price in products:\n",
    "        if price not in unique_price_list:\n",
    "            unique_price_list.append(price)\n",
    "    return len(unique_price_list)\n",
    "#products id and price\n",
    "products = [(143121312, 100), \n",
    "    (432314553, 30),\n",
    "    (32421912367, 150),\n",
    "    (937153201, 30)]\n",
    "\n",
    "print('number of unique price is: {}'.format(find_unique_price_using_list(products)))"
   ]
  },
  {
   "cell_type": "code",
   "execution_count": 14,
   "metadata": {},
   "outputs": [
    {
     "output_type": "stream",
     "name": "stdout",
     "text": [
      "number of unique price is: 3\n"
     ]
    }
   ],
   "source": [
    "def find_unique_price_using_set(products):\n",
    "    unique_price_set = set()\n",
    "    for _,price in products:\n",
    "        if price not in unique_price_set:\n",
    "            unique_price_set.add(price)\n",
    "    return len(unique_price_set)\n",
    "\n",
    "\n",
    "products = [\n",
    "    (143121312, 100), \n",
    "    (432314553, 30),\n",
    "    (32421912367, 150),\n",
    "    (937153201, 30)\n",
    "]\n",
    "print('number of unique price is: {}'.format(find_unique_price_using_set(products)))"
   ]
  },
  {
   "cell_type": "code",
   "execution_count": 18,
   "metadata": {},
   "outputs": [
    {
     "output_type": "stream",
     "name": "stdout",
     "text": [
      "time elapse using list:43.101971504000176\n"
     ]
    }
   ],
   "source": [
    "#compare the running time\n",
    "\n",
    "import time\n",
    "id = [x for x in range(0,100000)]\n",
    "\n",
    "price = [x for x in range(200000,300000)]\n",
    "\n",
    "products = list(zip(id,price))\n",
    "\n",
    "# calculate the time at list version\n",
    "start_using_list = time.perf_counter()\n",
    "find_unique_price_using_list(products)\n",
    "end_using_list = time.perf_counter()\n",
    "print(\"time elapse using list:{}\".format(end_using_list - start_using_list))\n"
   ]
  },
  {
   "cell_type": "code",
   "execution_count": 19,
   "metadata": {},
   "outputs": [
    {
     "output_type": "stream",
     "name": "stdout",
     "text": [
      "time elapse using set: 0.018979394999405486\n"
     ]
    }
   ],
   "source": [
    "# calculate the time at set version\n",
    "start_using_set = time.perf_counter()\n",
    "find_unique_price_using_set(products)\n",
    "end_using_set = time.perf_counter()\n",
    "print(\"time elapse using set: {}\".format(end_using_set - start_using_set))"
   ]
  },
  {
   "cell_type": "code",
   "execution_count": 20,
   "metadata": {},
   "outputs": [
    {
     "output_type": "stream",
     "name": "stdout",
     "text": [
      "81.8 ns ± 6.88 ns per loop (mean ± std. dev. of 7 runs, 10000000 loops each)\n"
     ]
    }
   ],
   "source": [
    "timeit a = {'name':'jianye','age':20}"
   ]
  },
  {
   "cell_type": "code",
   "execution_count": 22,
   "metadata": {},
   "outputs": [
    {
     "output_type": "stream",
     "name": "stdout",
     "text": [
      "264 ns ± 22.6 ns per loop (mean ± std. dev. of 7 runs, 1000000 loops each)\n"
     ]
    }
   ],
   "source": [
    "timeit b = dict({'name':'jianye','age':20})"
   ]
  },
  {
   "cell_type": "code",
   "execution_count": null,
   "metadata": {},
   "outputs": [],
   "source": []
  }
 ]
}