{
 "cells": [
  {
   "cell_type": "code",
   "execution_count": null,
   "metadata": {},
   "outputs": [],
   "source": [
    "# LeetCode 第 94题：二叉树的中序遍历\n",
    "#给定一个二叉树，返回它的中序 遍历。 \n",
    "# 示例: \n",
    "# 输入: [1,null,2,3]\n",
    "#   1\n",
    "#    \\\n",
    "#     2\n",
    "#    /\n",
    "#   3\n",
    "#输出: [1,3,2] \n",
    "# 进阶: 递归算法很简单，你可以通过迭代算法完成吗？ \n",
    "# Related Topics 栈 树 哈希表"
   ]
  },
  {
   "cell_type": "code",
   "execution_count": null,
   "metadata": {},
   "outputs": [],
   "source": [
    "class TreeNode:\n",
    "    def __init__(self,x):\n",
    "        self.val = x\n",
    "        self.left = None\n",
    "        self.right = None\n",
    "\n",
    "class Solution:\n",
    "    def inorderTraversal(self,root):\n",
    "        res = []\n",
    "        def helper(root):\n",
    "            if not root:\n",
    "                return\n",
    "            helper(root.left)\n",
    "            res.append(root.val)\n",
    "            helper(root.right)\n",
    "        helper(root)\n",
    "        return res"
   ]
  },
  {
   "cell_type": "code",
   "execution_count": null,
   "metadata": {},
   "outputs": [],
   "source": [
    "# 前序遍历\n",
    "class Solution:\n",
    "    def preorderTraversal(self, root):\n",
    "        res = [] \n",
    "        stack = [] \n",
    "        cur = root\n",
    "        while stack or cur:\n",
    "            while cur:\n",
    "                res.append(cur.val)\n",
    "                stack.append(cur)\n",
    "                cur = cur.left  \n",
    "            top = stack.pop()\n",
    "            cur = top.right \n",
    "        return res"
   ]
  },
  {
   "cell_type": "code",
   "execution_count": null,
   "metadata": {},
   "outputs": [],
   "source": [
    "# LeetCode 第 98题：验证二叉搜索树\n",
    "# #给定一个二叉树，判断其是否是一个有效的二叉搜索树。 \n",
    "# 假设一个二叉搜索树具有如下特征： \n",
    "# 节点的左子树只包含小于当前节点的数。 \n",
    "# 节点的右子树只包含大于当前节点的数。 \n",
    "# 所有左子树和右子树自身必须也是二叉搜索树。 \n",
    "# 示例 1: \n",
    "# 输入:\n",
    "#    2\n",
    "#   / \\\n",
    "#  1   3\n",
    "#输出: true\n",
    "# 示例 2: \n",
    "# 输入:\n",
    "#    5\n",
    "#   / \\\n",
    "#  1   4\n",
    "#     / \\\n",
    "#    3   6\n",
    "#输出: false\n",
    "#解释: 输入为: [5,1,4,null,null,3,6]。\n",
    "#     根节点的值为 5 ，但是其右子节点值为 4 。\n",
    "# Related Topics 树 深度优先搜索"
   ]
  },
  {
   "cell_type": "code",
   "execution_count": null,
   "metadata": {},
   "outputs": [],
   "source": [
    "class Solution:\n",
    "    def isValidBST(self, root):\n",
    "        if not root:\n",
    "            return True\n",
    "        result = []\n",
    "        def middle_traversal(root):\n",
    "            if root.left:\n",
    "                middle_traversal(root.left)\n",
    "            result.append(root.val)\n",
    "            if root.right:\n",
    "                middle_traversal(root.right)\n",
    "        middle_traversal(root)\n",
    "        return result == sorted(result) and len(set(result)) == len(result)\n",
    "\n",
    "class Solution:\n",
    "    def isValidBST(self, root):\n",
    "        stack, preNum = [], float(\"-inf\")\n",
    "        while len(stack) > 0 or root:\n",
    "            if root:\n",
    "                stack.append(root)\n",
    "                root = root.left\n",
    "            else:\n",
    "                root = stack.pop()\n",
    "                if root.val <= preNum:\n",
    "                    return False  \n",
    "                preNum = root.val\n",
    "                root = root.right\n",
    "        return True\n"
   ]
  },
  {
   "cell_type": "code",
   "execution_count": null,
   "metadata": {},
   "outputs": [],
   "source": [
    "# LeetCode 第 105题：从前序与中序遍历序列构造二叉树\n",
    "# #根据一棵树的前序遍历与中序遍历构造二叉树。\n",
    "# 注意:\n",
    "#你可以假设树中没有重复的元素。\n",
    "# 例如，给出\n",
    "# 前序遍历 preorder = [3,9,20,15,7]\n",
    "#中序遍历 inorder = [9,3,15,20,7]\n",
    "# 返回如下的二叉树：\n",
    "#\n",
    "# 3\n",
    "# / \\\n",
    "# 9 20\n",
    "# / \\\n",
    "# 15 7\n",
    "# Related Topics 树 深度优先搜索 数组"
   ]
  },
  {
   "cell_type": "code",
   "execution_count": null,
   "metadata": {},
   "outputs": [],
   "source": [
    "class TreeNode:\n",
    "    def __init__(self, x):\n",
    "        self.val = x\n",
    "        self.left = None  \n",
    "        self.right = None       \n",
    "\n",
    "class Solution:\n",
    "    def buildTree(self, preorder, inorder):\n",
    "        if not preorder or not inorder:\n",
    "            return None\n",
    "\n",
    "        root = TreeNode(preorder[0])\n",
    "        index = inorder.index(preorder[0])\n",
    "        root.left = self.buildTree(preorder[1:index+1], inorder[:index])\n",
    "        root.right = self.buildTree(preorder[index+1:],inorder[index+1:])\n",
    "        return root"
   ]
  },
  {
   "cell_type": "code",
   "execution_count": null,
   "metadata": {},
   "outputs": [],
   "source": [
    "# LeetCode 第 106题：从中序与后序遍历序列构造二叉树\n",
    "# #根据一棵树的中序遍历与后序遍历构造二叉树。\n",
    "# 注意:\n",
    "#你可以假设树中没有重复的元素。\n",
    "# 例如，给出\n",
    "# 中序遍历 inorder = [9,3,15,20,7]\n",
    "#后序遍历 postorder = [9,15,7,20,3]\n",
    "# 返回如下的二叉树：\n",
    "# 3\n",
    "# / \\\n",
    "# 9 20\n",
    "# / \\\n",
    "# 15 7\n",
    "# Related Topics 树 深度优先搜索 数组"
   ]
  },
  {
   "cell_type": "code",
   "execution_count": null,
   "metadata": {},
   "outputs": [],
   "source": [
    "class Solution:\n",
    "    def buildTree(self, inorder, postorder):\n",
    "        if not inorder:\n",
    "            return None\n",
    "        root = TreeNode(postorder[-1])\n",
    "        i = inorder.index(root.val)\n",
    "        root.left = self.buildTree(inorder[:i],postorder[:i])\n",
    "        root.right = self.buildTree(inorder[i+1:],postorder[i:-1])\n",
    "        return root"
   ]
  },
  {
   "cell_type": "code",
   "execution_count": null,
   "metadata": {},
   "outputs": [],
   "source": []
  }
 ],
 "metadata": {
  "kernelspec": {
   "display_name": "Python 3.6.9 64-bit",
   "name": "python369jvsc74a57bd031f2aee4e71d21fbe5cf8b01ff0e069b9275f58929596ceb00d14d90e3e16cd6"
  },
  "language_info": {
   "name": "python",
   "version": ""
  },
  "metadata": {
   "interpreter": {
    "hash": "31f2aee4e71d21fbe5cf8b01ff0e069b9275f58929596ceb00d14d90e3e16cd6"
   }
  },
  "orig_nbformat": 2
 },
 "nbformat": 4,
 "nbformat_minor": 2
}