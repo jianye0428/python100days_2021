{
 "metadata": {
  "language_info": {
   "codemirror_mode": {
    "name": "ipython",
    "version": 3
   },
   "file_extension": ".py",
   "mimetype": "text/x-python",
   "name": "python",
   "nbconvert_exporter": "python",
   "pygments_lexer": "ipython3",
   "version": "3.6.9"
  },
  "orig_nbformat": 2,
  "kernelspec": {
   "name": "python369jvsc74a57bd031f2aee4e71d21fbe5cf8b01ff0e069b9275f58929596ceb00d14d90e3e16cd6",
   "display_name": "Python 3.6.9 64-bit"
  },
  "metadata": {
   "interpreter": {
    "hash": "31f2aee4e71d21fbe5cf8b01ff0e069b9275f58929596ceb00d14d90e3e16cd6"
   }
  }
 },
 "nbformat": 4,
 "nbformat_minor": 2,
 "cells": [
  {
   "cell_type": "code",
   "execution_count": null,
   "metadata": {},
   "outputs": [],
   "source": [
    "# LeetCode 第9题： 回文数\n",
    "#判断一个整数是否是回文数。回文数是指正序（从左向右）和倒序（从右向左）读都是一样的整数。\n",
    "# 示例 1:\n",
    "# 输入: 121\n",
    "#输出: true\n",
    "# 示例 2:\n",
    "# 输入: -121\n",
    "#输出: false\n",
    "#解释: 从左向右读, 为 -121 。 从右向左读, 为 121- 。因此它不是一个回文数。\n",
    "# 示例 3:\n",
    "# 输入: 10\n",
    "#输出: false\n",
    "#解释: 从右向左读, 为 01 。因此它不是一个回文数。\n",
    "# 进阶:\n",
    "# 你能不将整数转为字符串来解决这个问题吗？\n",
    "# Related Topics 数学"
   ]
  },
  {
   "cell_type": "code",
   "execution_count": null,
   "metadata": {},
   "outputs": [],
   "source": [
    "class Solution:\n",
    "    def isPalindrome(self, x):\n",
    "        if not x:\n",
    "            return True\n",
    "        str_x = str(x)\n",
    "        n = len(str_x)\n",
    "        for i in range(n-1):\n",
    "            if str_x[i] != str_x[n-1-i]:\n",
    "                return False\n",
    "        return True"
   ]
  },
  {
   "cell_type": "code",
   "execution_count": null,
   "metadata": {},
   "outputs": [],
   "source": [
    "class Solution:\n",
    "    def isPalindrome(self, x):\n",
    "        if x < 0:\n",
    "            return False\n",
    "        num = x\n",
    "        cur = 0\n",
    "        # 将原来的数字进行翻转 再比较\n",
    "        while num!=0:\n",
    "            cur = cur * 10 + num % 10\n",
    "            num //= 10\n",
    "        return cur == x"
   ]
  },
  {
   "cell_type": "code",
   "execution_count": null,
   "metadata": {},
   "outputs": [],
   "source": [
    "# LeetCode 第12题：整数转罗马数字\n",
    "#罗马数字包含以下七种字符： I， V， X， L，C，D 和 M。\n",
    "# 字符 数值\n",
    "#I 1\n",
    "#V 5\n",
    "#X 10\n",
    "#L 50\n",
    "#C 100\n",
    "#D 500\n",
    "#M 1000\n",
    "# 例如， 罗马数字 2 写做 II ，即为两个并列的 1。12 写做 XII ，即为 X + II 。 27 写做 XXVII, 即为 XX + V + II 。\n",
    "# 通常情况下，罗马数字中小的数字在大的数字的右边。但也存在特例，例如 4 不写做 IIII，而是 IV。数字 1 在数字 5 的左边，所表示的数等于大数 5 减小数 1 得到的数值 4 。同样地，数字 9 表示为 IX。这个特殊的规则只适用于以下六种情况：\n",
    "# I 可以放在 V (5) 和 X (10) 的左边，来表示 4 和 9。\n",
    "# X 可以放在 L (50) 和 C (100) 的左边，来表示 40 和 90。\n",
    "# C 可以放在 D (500) 和 M (1000) 的左边，来表示 400 和 900。\n",
    "# 给定一个整数，将其转为罗马数字。输入确保在 1 到 3999 的范围内。\n",
    "# 示例 1:\n",
    "# 输入: 3\n",
    "#输出: \"III\"\n",
    "# 示例 2:\n",
    "# 输入: 4\n",
    "#输出: \"IV\"\n",
    "# 示例 3:\n",
    "# 输入: 9\n",
    "#输出: \"IX\"\n",
    "# 示例 4:\n",
    "# 输入: 58\n",
    "#输出: \"LVIII\"\n",
    "#解释: L = 50, V = 5, III = 3.\n",
    "# 示例 5:\n",
    "# 输入: 1994\n",
    "#输出: \"MCMXCIV\"\n",
    "#解释: M = 1000, CM = 900, XC = 90, IV = 4.\n",
    "# Related Topics 数学 字符串"
   ]
  },
  {
   "cell_type": "code",
   "execution_count": null,
   "metadata": {},
   "outputs": [],
   "source": [
    "class Solution:\n",
    "    def intToRoman(self, num):\n",
    "        d = {1000: 'M', 900: 'CM', 500: 'D', 400: 'CD', 100: 'C', 90: 'XC', 50: 'L', 40: 'XL', 10: 'X', 9: 'IX', 5: 'V', 4: 'IV', 1: 'I'}\n",
    "\n",
    "        res = ''\n",
    "        for k in d:\n",
    "            while num >= k:\n",
    "                res += d[k]\n",
    "                num -= k\n",
    "\n",
    "        return res"
   ]
  },
  {
   "cell_type": "code",
   "execution_count": 1,
   "metadata": {},
   "outputs": [
    {
     "output_type": "stream",
     "name": "stdout",
     "text": [
      "M\nCM\nD\nCD\nC\nXC\nL\nXL\nX\nIX\nV\nIV\nI\n"
     ]
    }
   ],
   "source": [
    "d = {1000: 'M', 900: 'CM', 500: 'D', 400: 'CD', 100: 'C', 90: 'XC', 50: 'L', 40: 'XL', 10: 'X', 9: 'IX', 5: 'V', 4: 'IV', 1: 'I'}\n",
    "for k in d:\n",
    "    print(d[k])"
   ]
  },
  {
   "cell_type": "code",
   "execution_count": null,
   "metadata": {},
   "outputs": [],
   "source": [
    "# LeetCode 第13题：罗马数组转整数\n",
    "#罗马数字包含以下七种字符: I， V， X， L，C，D 和 M。\n",
    "# 字符 数值\n",
    "#I 1\n",
    "#V 5\n",
    "#X 10\n",
    "#L 50\n",
    "#C 100\n",
    "#D 500\n",
    "#M 1000\n",
    "# 例如， 罗马数字 2 写做 II ，即为两个并列的 1。12 写做 XII ，即为 X + II 。 27 写做 XXVII, 即为 XX + V + II 。\n",
    "# 通常情况下，罗马数字中小的数字在大的数字的右边。但也存在特例，例如 4 不写做 IIII，而是 IV。数字 1 在数字 5 的左边，所表示的数等于大数 5 减小数 1 得到的数值 4 。同样地，数字 9 表示为 IX。这个特殊的规则只适用于以下六种情况：\n",
    "# I 可以放在 V (5) 和 X (10) 的左边，来表示 4 和 9。\n",
    "# X 可以放在 L (50) 和 C (100) 的左边，来表示 40 和 90。\n",
    "# C 可以放在 D (500) 和 M (1000) 的左边，来表示 400 和 900。\n",
    "# 给定一个罗马数字，将其转换成整数。输入确保在 1 到 3999 的范围内。\n",
    "# 示例 1:\n",
    "# 输入: \"III\"\n",
    "#输出: 3\n",
    "# 示例 2:\n",
    "# 输入: \"IV\"\n",
    "#输出: 4\n",
    "# 示例 3:\n",
    "# 输入: \"IX\"\n",
    "#输出: 9\n",
    "# 示例 4:\n",
    "# 输入: \"LVIII\"\n",
    "#输出: 58\n",
    "#解释: L = 50, V= 5, III = 3.\n",
    "# 示例 5:\n",
    "# 输入: \"MCMXCIV\"\n",
    "#输出: 1994\n",
    "#解释: M = 1000, CM = 900, XC = 90, IV = 4.\n",
    "# Related Topics 数学 字符串\n",
    "\n",
    "class Solution:\n",
    "    def romanToInt(self, s):\n",
    "        a = {'I':1, 'V':5, 'X':10, 'L':50, 'C':100, 'D':500, 'M':1000}\n",
    "        ans = 0\n",
    "        for i in range(len(s)):\n",
    "            if i < len(s) - 1 and a[s[i]] < a[s[i+1]]:\n",
    "                ans -= a[s[i]]\n",
    "            else:\n",
    "                ans += a[s[i]]\n",
    "        return ans"
   ]
  },
  {
   "cell_type": "code",
   "execution_count": null,
   "metadata": {},
   "outputs": [],
   "source": [
    "# LeetCode 第29题： 两数相除\n",
    "# 给定两个整数，被除数 dividend 和除数 divisor。将两数相除，要求不使用乘法、除法和 mod 运算符。\n",
    "# 返回被除数 dividend 除以除数 divisor 得到的商。\n",
    "# 整数除法的结果应当截去（truncate）其小数部分，例如：truncate(8.345) = 8 以及 truncate(-2.7335) = -2\n",
    "# 示例 1:\n",
    "# 输入: dividend = 10, divisor = 3\n",
    "#输出: 3\n",
    "#解释: 10/3 = truncate(3.33333..) = truncate(3) = 3\n",
    "# 示例 2:\n",
    "# 输入: dividend = 7, divisor = -3\n",
    "#输出: -2\n",
    "#解释: 7/-3 = truncate(-2.33333..) = -2\n",
    "# 提示：\n",
    "# 被除数和除数均为 32 位有符号整数。\n",
    "# 除数不为 0。\n",
    "# 假设我们的环境只能存储 32 位有符号整数，其数值范围是 [−231, 231 − 1]。本题中，如果除法结果溢出，则返回 231 − 1。\n",
    "# Related Topics 数学 二分查找"
   ]
  },
  {
   "cell_type": "code",
   "execution_count": 1,
   "metadata": {},
   "outputs": [
    {
     "output_type": "stream",
     "name": "stdout",
     "text": [
      "5\n"
     ]
    }
   ],
   "source": [
    "class Solution:\n",
    "    def divide(self, dividend: int, divisor: int) -> int:\n",
    "        # 使用异或判断符号\n",
    "        sign = (dividend>0)^(divisor>0)\n",
    "        # 方便起见全部使用正数来做除法，最后加上符号\n",
    "        dividend = abs(dividend)\n",
    "        divisor = abs(divisor)\n",
    "        count = 0\n",
    "\n",
    "        while dividend >= divisor:# 11 >= 2\n",
    "            divisor <<= 1\n",
    "            count += 1\n",
    "        result = 0\n",
    "\n",
    "        while count > 0:\n",
    "            count -= 1\n",
    "            divisor >>= 1\n",
    "            if divisor <= dividend:\n",
    "                dividend = dividend-divisor\n",
    "                result += 1<<count\n",
    "        if sign:\n",
    "            result = -result\n",
    "\n",
    "        return result if -(1<<31)<=result<=(1<<31)-1 else (1<<31)-1\n",
    "solver  = Solution()\n",
    "print(solver.divide(11,2))"
   ]
  },
  {
   "cell_type": "code",
   "execution_count": 5,
   "metadata": {},
   "outputs": [
    {
     "output_type": "stream",
     "name": "stdout",
     "text": [
      "4\n2\n32\n"
     ]
    }
   ],
   "source": [
    "print(2<<1)\n",
    "print(4>>1)\n",
    "print(2<<4)"
   ]
  },
  {
   "cell_type": "code",
   "execution_count": null,
   "metadata": {},
   "outputs": [],
   "source": [
    "# LeetCode 第50题： Pow(x, n)\n",
    "#实现 pow(x, n) ，即计算 x 的 n 次幂函数。\n",
    "# 示例 1:\n",
    "# 输入: 2.00000, 10\n",
    "#输出: 1024.00000\n",
    "# 示例 2:\n",
    "# 输入: 2.10000, 3\n",
    "#输出: 9.26100\n",
    "# 示例 3:\n",
    "# 输入: 2.00000, -2\n",
    "#输出: 0.25000\n",
    "#解释: 2-2 = 1/22 = 1/4 = 0.25\n",
    "# 说明:\n",
    "# -100.0 < x < 100.0\n",
    "# n 是 32 位有符号整数，其数值范围是 [−231, 231 − 1] 。\n",
    "# Related Topics 数学 二分查找"
   ]
  },
  {
   "cell_type": "code",
   "execution_count": null,
   "metadata": {},
   "outputs": [],
   "source": [
    "class Solution:\n",
    "    def myPow(self, x, n):\n",
    "        if n==0:\n",
    "            return 1\n",
    "        if n < 0:\n",
    "            x = 1 / x\n",
    "            n = -n\n",
    "        if n%2:\n",
    "            return x * self.myPow(x, n-1)\n",
    "        return self.myPow(x*x, n/2)\n"
   ]
  },
  {
   "cell_type": "code",
   "execution_count": null,
   "metadata": {},
   "outputs": [],
   "source": [
    "class Solution:\n",
    "    def myPow(self, x, n):\n",
    "        if n==0:\n",
    "            return 1\n",
    "        if n<0:\n",
    "            x = 1/x\n",
    "            n = -n\n",
    "        p = 1\n",
    "        while n > 1:\n",
    "            if n % 2 ==0:\n",
    "                x = x * x\n",
    "                n /= 2\n",
    "            else:\n",
    "                p *= x\n",
    "                n -= 1\n",
    "        p *= x\n",
    "        return p"
   ]
  }
 ]
}