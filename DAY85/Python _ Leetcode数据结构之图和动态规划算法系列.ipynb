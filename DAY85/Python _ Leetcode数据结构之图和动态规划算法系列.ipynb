{
 "cells": [
  {
   "cell_type": "code",
   "execution_count": null,
   "metadata": {},
   "outputs": [],
   "source": [
    "# Leetcode第64题：最小路径和\n",
    "#给定一个包含非负整数的 m x n 网格，请找出一条从左上角到右下角的路径，使得路径上的数字总和为最小。\n",
    "#\n",
    "# 说明：每次只能向下或者向右移动一步。\n",
    "#\n",
    "# 示例:\n",
    "#\n",
    "# 输入:\n",
    "#[\n",
    "# [1,3,1],\n",
    "# [1,5,1],\n",
    "# [4,2,1]\n",
    "#]\n",
    "#输出: 7\n",
    "#解释: 因为路径 1→3→1→1→1 的总和最小。\n",
    "#\n",
    "# Related Topics 数组 动态规划"
   ]
  },
  {
   "cell_type": "code",
   "execution_count": 5,
   "metadata": {},
   "outputs": [
    {
     "name": "stdout",
     "output_type": "stream",
     "text": [
      "7\n"
     ]
    }
   ],
   "source": [
    "from typing import List\n",
    "\n",
    "class Solution:\n",
    "    def minPathSum(self, grid:List[List[int]])->int:\n",
    "        m = len(grid)\n",
    "        n = len(grid[0])\n",
    "\n",
    "        for i in range(1,m):\n",
    "            grid[i][0] += grid[i-1][0]\n",
    "        for j in range(1,n):\n",
    "            grid[0][j] += grid[0][j-1]\n",
    "\n",
    "        for i in range(1,m):\n",
    "            for j in range(1,n):\n",
    "                grid[i][j] = min(grid[i-1][j]+grid[i][j],grid[i][j-1]+grid[i][j])\n",
    "        return grid[-1][-1]\n",
    "if __name__ == \"__main__\":\n",
    "    s = Solution()\n",
    "    t=[[1,3,1],\n",
    "      [1,5,1],\n",
    "      [4,2,1]]\n",
    "    print(s.minPathSum(t))"
   ]
  },
  {
   "cell_type": "code",
   "execution_count": null,
   "metadata": {},
   "outputs": [],
   "source": [
    "# Leetcode第70题：爬楼梯\n",
    "#假设你正在爬楼梯。需要 n 阶你才能到达楼顶。\n",
    "# 每次你可以爬 1 或 2 个台阶。你有多少种不同的方法可以爬到楼顶呢？\n",
    "# 注意：给定 n 是一个正整数。\n",
    "# 示例 1：\n",
    "# 输入： 2\n",
    "#输出： 2\n",
    "#解释： 有两种方法可以爬到楼顶。\n",
    "#1. 1 阶 + 1 阶\n",
    "#2. 2 阶\n",
    "# 示例 2：\n",
    "# 输入： 3\n",
    "#输出： 3\n",
    "#解释： 有三种方法可以爬到楼顶。\n",
    "#1. 1 阶 + 1 阶 + 1 阶\n",
    "#2. 1 阶 + 2 阶\n",
    "#3. 2 阶 + 1 阶\n",
    "# Related Topics 动态规划"
   ]
  },
  {
   "cell_type": "code",
   "execution_count": null,
   "metadata": {},
   "outputs": [],
   "source": [
    "class Solution:\n",
    "    def climbStairs(self, n):\n",
    "        curr = prev = 1\n",
    "        for _ in range(n-1):\n",
    "            curr, prev = curr+prev, curr\n",
    "        return curr \n",
    "class Solution:\n",
    "    def climbStairs(self, n, s1 = 0, s2 = 1):\n",
    "        return n and self.climbStairs(n-1, s2, s1+s2) or s2"
   ]
  },
  {
   "cell_type": "code",
   "execution_count": 7,
   "metadata": {},
   "outputs": [
    {
     "name": "stdout",
     "output_type": "stream",
     "text": [
      "jian\n",
      "jian\n",
      "jian\n"
     ]
    }
   ],
   "source": [
    "for _ in range(3):\n",
    "    print(\"jian\")"
   ]
  },
  {
   "cell_type": "code",
   "execution_count": null,
   "metadata": {},
   "outputs": [],
   "source": [
    "# Leetcode第322题： 零钱兑换\n",
    "#给定不同面额的硬币 coins 和一个总金额 amount。编写一个函数来计算可以凑成总金额所需的最少的硬币个数。如果没有任何一种硬币组合能组成总金额，返回 -1。\n",
    "# 示例 1:\n",
    "# 输入: coins = [1, 2, 5], amount = 11\n",
    "#输出: 3\n",
    "#解释: 11 = 5 + 5 + 1\n",
    "# 示例 2:\n",
    "# 输入: coins = [2], amount = 3\n",
    "#输出: -1\n",
    "# 说明:\n",
    "#你可以认为每种硬币的数量是无限的。\n",
    "# Related Topics 动态规划"
   ]
  },
  {
   "cell_type": "code",
   "execution_count": 12,
   "metadata": {},
   "outputs": [
    {
     "name": "stdout",
     "output_type": "stream",
     "text": [
      "3\n"
     ]
    }
   ],
   "source": [
    "class Solution:\n",
    "    def coinChange(self, coins: List[int], amount: int) -> int:\n",
    "        dp = [amount+1]*(amount+1)#构造list\n",
    "        dp[0] = 0\n",
    "        for i in range(1, amount+1):\n",
    "            for j in range(len(coins)):\n",
    "                if i >= coins[j]:\n",
    "                    dp[i] = min(dp[i], dp[i - coins[j]]+1)\n",
    "        return -1 if dp[-1] == amount + 1 else dp[-1]\n",
    "solver = Solution()\n",
    "print(solver.coinChange([3,4,5],14))"
   ]
  },
  {
   "cell_type": "code",
   "execution_count": 8,
   "metadata": {},
   "outputs": [
    {
     "name": "stdout",
     "output_type": "stream",
     "text": [
      "[5, 5, 5, 5, 5]\n"
     ]
    }
   ],
   "source": [
    "dp = [5]*5\n",
    "print(dp)"
   ]
  },
  {
   "cell_type": "code",
   "execution_count": null,
   "metadata": {},
   "outputs": [],
   "source": []
  }
 ],
 "metadata": {
  "kernelspec": {
   "display_name": "Python 3.6.9 64-bit",
   "name": "python369jvsc74a57bd031f2aee4e71d21fbe5cf8b01ff0e069b9275f58929596ceb00d14d90e3e16cd6"
  },
  "language_info": {
   "codemirror_mode": {
    "name": "ipython",
    "version": 3
   },
   "file_extension": ".py",
   "mimetype": "text/x-python",
   "name": "python",
   "nbconvert_exporter": "python",
   "pygments_lexer": "ipython3",
   "version": "3.6.9"
  },
  "metadata": {
   "interpreter": {
    "hash": "31f2aee4e71d21fbe5cf8b01ff0e069b9275f58929596ceb00d14d90e3e16cd6"
   }
  },
  "orig_nbformat": 2
 },
 "nbformat": 4,
 "nbformat_minor": 2
}