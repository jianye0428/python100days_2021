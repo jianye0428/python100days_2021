{
 "metadata": {
  "language_info": {
   "codemirror_mode": {
    "name": "ipython",
    "version": 3
   },
   "file_extension": ".py",
   "mimetype": "text/x-python",
   "name": "python",
   "nbconvert_exporter": "python",
   "pygments_lexer": "ipython3",
   "version": "3.6.9"
  },
  "orig_nbformat": 2,
  "kernelspec": {
   "name": "python369jvsc74a57bd031f2aee4e71d21fbe5cf8b01ff0e069b9275f58929596ceb00d14d90e3e16cd6",
   "display_name": "Python 3.6.9 64-bit"
  },
  "metadata": {
   "interpreter": {
    "hash": "31f2aee4e71d21fbe5cf8b01ff0e069b9275f58929596ceb00d14d90e3e16cd6"
   }
  }
 },
 "nbformat": 4,
 "nbformat_minor": 2,
 "cells": [
  {
   "cell_type": "code",
   "execution_count": null,
   "metadata": {},
   "outputs": [],
   "source": [
    "#将两个升序链表合并为一个新的 升序 链表并返回。新链表是通过拼接给定的两个链表的所有节点组成的。\n",
    "# 示例：\n",
    "#\n",
    "# 输入：1->2->4, 1->3->4\n",
    "#输出：1->1->2->3->4->4\n",
    "#\n",
    "# Related Topics 链表"
   ]
  },
  {
   "cell_type": "code",
   "execution_count": 1,
   "metadata": {},
   "outputs": [],
   "source": [
    "class Solution:\n",
    "    def mergeTwoLists(self,l1,l2):\n",
    "        if not (l1 and l2):\n",
    "            return l1 if l1 else l2\n",
    "        elif l1.val <= l2.val:\n",
    "            l1.next = self.mergeTwoLists(l1.next, l2)\n",
    "            return l1\n",
    "        else:\n",
    "            l2.next = self.mergeTwoLists(l1,l2.next)\n",
    "            return l2"
   ]
  },
  {
   "cell_type": "code",
   "execution_count": null,
   "metadata": {},
   "outputs": [],
   "source": [
    "# 合并 k 个排序链表\n",
    "# 示例:\n",
    "# 输入:\n",
    "#[\n",
    "# 1->4->5,\n",
    "# 1->3->4,\n",
    "# 2->6\n",
    "#]\n",
    "#输出: 1->1->2->3->4->4->5->6\n",
    "# Related Topics 堆 链表 分治算法\n"
   ]
  },
  {
   "cell_type": "code",
   "execution_count": null,
   "metadata": {},
   "outputs": [],
   "source": [
    "#Definiton for single-linked list\n",
    "#class ListNode:\n",
    "#   def __init__(self,x):\n",
    "#       self.val = x\n",
    "#       self.next = None\n",
    "class Solution:\n",
    "    def mergeLists(self, lists):\n",
    "        self.nodes = []\n",
    "        head = point = ListNode(0)\n",
    "        for l in lists:\n",
    "            while l:\n",
    "                self.nodes.append(l.val)\n",
    "                l=l.next\n",
    "        for x in sorted(self.nodes):\n",
    "            point.next = ListNode(x)\n",
    "            point = point.next\n",
    "        return head.next"
   ]
  },
  {
   "cell_type": "code",
   "execution_count": null,
   "metadata": {},
   "outputs": [],
   "source": [
    "# LeetCode 第 141 题：判断链表中是否有环\n",
    "class Solution:\n",
    "    def hasCycle(self, head):\n",
    "        st = set()\n",
    "        while head:\n",
    "            if head in st:\n",
    "                return True\n",
    "            st.add(head)\n",
    "            head = head.next\n",
    "        return False"
   ]
  },
  {
   "cell_type": "code",
   "execution_count": null,
   "metadata": {},
   "outputs": [],
   "source": [
    "# LeetCode 第 141 题：判断链表中是否有环\n",
    "class Solution:\n",
    "    def hasCycle(self, head):\n",
    "        l = []\n",
    "        while head:\n",
    "            if head in l:\n",
    "                return True\n",
    "            l.append(head)\n",
    "            head = head.next\n",
    "        return False"
   ]
  },
  {
   "cell_type": "code",
   "execution_count": null,
   "metadata": {},
   "outputs": [],
   "source": [
    "# 双指针\n",
    "class Solution:\n",
    "    def hasCycle(self,head):\n",
    "        slow = fast = head\n",
    "        while slow and fast and fast.next:\n",
    "            slow = slow.next\n",
    "            fast = fast.next.next\n",
    "            if slow == fast:\n",
    "                return True\n",
    "        return False"
   ]
  },
  {
   "cell_type": "code",
   "execution_count": null,
   "metadata": {},
   "outputs": [],
   "source": [
    "# 反转链表\n",
    "class Solution:\n",
    "    def reverseList(self, head):\n",
    "        cur, prev = head, None\n",
    "        while cur:\n",
    "            cur.next = prev\n",
    "            prev = cur\n",
    "            cur = cur.next\n",
    "        return prev"
   ]
  }
 ]
}