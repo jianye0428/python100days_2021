{
 "metadata": {
  "language_info": {
   "codemirror_mode": {
    "name": "ipython",
    "version": 3
   },
   "file_extension": ".py",
   "mimetype": "text/x-python",
   "name": "python",
   "nbconvert_exporter": "python",
   "pygments_lexer": "ipython3",
   "version": "3.6.9"
  },
  "orig_nbformat": 2,
  "kernelspec": {
   "name": "python369jvsc74a57bd031f2aee4e71d21fbe5cf8b01ff0e069b9275f58929596ceb00d14d90e3e16cd6",
   "display_name": "Python 3.6.9 64-bit"
  },
  "metadata": {
   "interpreter": {
    "hash": "31f2aee4e71d21fbe5cf8b01ff0e069b9275f58929596ceb00d14d90e3e16cd6"
   }
  }
 },
 "nbformat": 4,
 "nbformat_minor": 2,
 "cells": [
  {
   "cell_type": "code",
   "execution_count": 5,
   "metadata": {},
   "outputs": [
    {
     "output_type": "stream",
     "name": "stdout",
     "text": [
      "2\n4\n2\n"
     ]
    }
   ],
   "source": [
    "import sys\n",
    "a = []\n",
    "print(sys.getrefcount(a))\n",
    "def func(a):\n",
    "    print(sys.getrefcount(a))#四次引用，a，python 的函数调用栈，函数参数，和 getrefcount\n",
    "func(a)\n",
    "print(sys.getrefcount(a))"
   ]
  },
  {
   "cell_type": "code",
   "execution_count": 6,
   "metadata": {},
   "outputs": [
    {
     "output_type": "stream",
     "name": "stdout",
     "text": [
      "initial memory used: 49.49609375 MB\n",
      "after a created memory used: 436.46875 MB\n",
      "finished memory used: 50.6171875 MB\n"
     ]
    }
   ],
   "source": [
    "import os\n",
    "import psutil\n",
    "\n",
    "# 显示当前 python 程序占用的内存大小\n",
    "def show_memory_info(hint):\n",
    "    pid = os.getpid()\n",
    "    p = psutil.Process(pid)\n",
    "\n",
    "    info = p.memory_full_info()\n",
    "    memory = info.uss / 1024. / 1024\n",
    "    print('{} memory used: {} MB'.format(hint, memory))\n",
    "\n",
    "\n",
    "def func():\n",
    "    show_memory_info('initial')\n",
    "    a = [i for i in range(10000000)]\n",
    "    show_memory_info('after a created')\n",
    "\n",
    "func()\n",
    "show_memory_info('finished')\n",
    "\n",
    "########## 输出 ##########\n",
    "\n",
    "# initial memory used: 20.82421875 MB\n",
    "# after a created memory used: 408.125 MB\n",
    "# finished memory used: 21.10546875 MB"
   ]
  },
  {
   "cell_type": "code",
   "execution_count": 8,
   "metadata": {},
   "outputs": [
    {
     "output_type": "stream",
     "name": "stdout",
     "text": [
      "initial memory used: 50.375 MB\n",
      "after a created memory used: 436.515625 MB\n",
      "finished memory used: 436.515625 MB\n"
     ]
    }
   ],
   "source": [
    "def func():\n",
    "    show_memory_info('initial')\n",
    "    a = [i for i in range(10000000)]\n",
    "    show_memory_info('after a created')\n",
    "    return a\n",
    "\n",
    "a = func()\n",
    "show_memory_info('finished')\n",
    "\n",
    "########## 输出 ##########\n",
    "# initial memory used: 20.8515625 MB\n",
    "# after a created memory used: 408.1484375 MB\n",
    "# finished memory used: 408.1484375 MB"
   ]
  },
  {
   "cell_type": "code",
   "execution_count": 9,
   "metadata": {},
   "outputs": [
    {
     "output_type": "stream",
     "name": "stdout",
     "text": [
      "测试引用计数增加\n6\n7\n9\n我调用了ABC\n方法执行完了\n7\n8\n测试引用计数减少\n7\n6\n6\n4\n"
     ]
    }
   ],
   "source": [
    "import sys\n",
    "\n",
    "def ref_method(str):\n",
    "    print(sys.getrefcount(str))\n",
    "    print(\"我调用了{}\".format(str))\n",
    "    print('方法执行完了')\n",
    "\n",
    "def ref_count():\n",
    "    # 引用计数增加的场景\n",
    "    print('测试引用计数增加')\n",
    "    a = 'ABC'\n",
    "    print(sys.getrefcount(a))\n",
    "    b = a\n",
    "    print(sys.getrefcount(a))\n",
    "    ref_method(a)\n",
    "    print(sys.getrefcount(a))\n",
    "    c = [1, a, 'abc']\n",
    "    print(sys.getrefcount(a))\n",
    "\n",
    "    # 引用计数减少的场景\n",
    "    print('测试引用计数减少')\n",
    "    del b\n",
    "    print(sys.getrefcount(a))\n",
    "    c.remove(a)\n",
    "    print(sys.getrefcount(a))\n",
    "    del c\n",
    "    print(sys.getrefcount(a))\n",
    "    a = 783\n",
    "    print(sys.getrefcount(a))\n",
    "\n",
    "if __name__ == '__main__':\n",
    "    ref_count()\n",
    "# 测试引用计数增加\n",
    "# 6\n",
    "# 7\n",
    "# 9\n",
    "# 我调用了ABC\n",
    "# 方法执行完了\n",
    "# 7\n",
    "# 8\n",
    "# 测试引用计数减少\n",
    "# 7\n",
    "# 6\n",
    "# 6\n",
    "# 4"
   ]
  },
  {
   "cell_type": "code",
   "execution_count": 10,
   "metadata": {},
   "outputs": [
    {
     "output_type": "stream",
     "name": "stdout",
     "text": [
      "initial memory used: 436.62890625 MB\n",
      "after a, b created memory used: 1208.828125 MB\n",
      "finished memory used: 436.84375 MB\n"
     ]
    }
   ],
   "source": [
    "import gc\n",
    "import os\n",
    "import psutil\n",
    "# 显示当前 python 程序占用的内存大小\n",
    "def show_memory_info(hint):\n",
    "    pid = os.getpid()\n",
    "    p = psutil.Process(pid)\n",
    "\n",
    "    info = p.memory_full_info()\n",
    "    memory = info.uss / 1024. / 1024\n",
    "    print('{} memory used: {} MB'.format(hint, memory))\n",
    "\n",
    "\n",
    "\n",
    "def func():\n",
    "    show_memory_info('initial')\n",
    "    a = [i for i in range(10000000)]\n",
    "    b = [i for i in range(10000000)]\n",
    "    show_memory_info('after a, b created')\n",
    "    a.append(b)\n",
    "    b.append(a)\n",
    "\n",
    "func()\n",
    "gc.collect()\n",
    "show_memory_info('finished')\n",
    "\n",
    "########## 输出 ##########\n",
    "# initial memory used: 26.16796875 MB\n",
    "# after a, b created memory used: 802.03515625 MB\n",
    "# finished memory used: 27.5 MB"
   ]
  },
  {
   "cell_type": "code",
   "execution_count": null,
   "metadata": {},
   "outputs": [],
   "source": []
  }
 ]
}