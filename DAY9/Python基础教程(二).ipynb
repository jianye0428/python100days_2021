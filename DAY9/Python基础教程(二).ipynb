{
 "metadata": {
  "language_info": {
   "codemirror_mode": {
    "name": "ipython",
    "version": 3
   },
   "file_extension": ".py",
   "mimetype": "text/x-python",
   "name": "python",
   "nbconvert_exporter": "python",
   "pygments_lexer": "ipython3",
   "version": "3.6.9"
  },
  "orig_nbformat": 2,
  "kernelspec": {
   "name": "python3",
   "display_name": "Python 3.6.9 64-bit",
   "metadata": {
    "interpreter": {
     "hash": "30295c5bec572e859485b1ffa5e89b8b3e2022ef6e3e739c1ac40f143a557caf"
    }
   }
  }
 },
 "nbformat": 4,
 "nbformat_minor": 2,
 "cells": [
  {
   "cell_type": "code",
   "execution_count": 1,
   "metadata": {},
   "outputs": [
    {
     "output_type": "stream",
     "name": "stdout",
     "text": [
      "[1, 2, 3, 4]\n"
     ]
    }
   ],
   "source": [
    "#数据结构\n",
    "#列表list\n",
    "#append()\n",
    "l = [1,2,3]\n",
    "l.append(4)\n",
    "print(l)"
   ]
  },
  {
   "cell_type": "code",
   "execution_count": 3,
   "metadata": {},
   "outputs": [
    {
     "output_type": "stream",
     "name": "stdout",
     "text": [
      "3\n"
     ]
    }
   ],
   "source": [
    "#count()\n",
    "l = [1,2,3,4,2,2]\n",
    "print(l.count(2))"
   ]
  },
  {
   "cell_type": "code",
   "execution_count": 6,
   "metadata": {},
   "outputs": [
    {
     "output_type": "stream",
     "name": "stdout",
     "text": [
      "[1, 2, 3, 2, 10, 20]\n[10, 20, 1, 2, 3, 2, 10, 20]\n"
     ]
    }
   ],
   "source": [
    "#extend()\n",
    "l = [1,2,3,2]\n",
    "l1 = [10,20]\n",
    "l.extend(l1)\n",
    "print(l)\n",
    "l1.extend(l)\n",
    "print(l1)"
   ]
  },
  {
   "cell_type": "code",
   "execution_count": 9,
   "metadata": {},
   "outputs": [
    {
     "output_type": "stream",
     "name": "stdout",
     "text": [
      "1\n"
     ]
    }
   ],
   "source": [
    "l1 = [1,2,2,3,4,4,5]\n",
    "print(l1.index(2)) #返回第一次出现该值的下标\n"
   ]
  },
  {
   "cell_type": "code",
   "execution_count": 30,
   "metadata": {},
   "outputs": [
    {
     "output_type": "stream",
     "name": "stdout",
     "text": [
      "there is no 4 in list\n[1, 2, 2, 4]\n"
     ]
    }
   ],
   "source": [
    "l = [1,2,2]\n",
    "a=4\n",
    "try:\n",
    "    print(l.index(a))\n",
    "except ValueError:\n",
    "    print(\"there is no %d in list\" % a)\n",
    "    l.insert(100,a)\n",
    "    print(l)"
   ]
  },
  {
   "cell_type": "code",
   "execution_count": 32,
   "metadata": {},
   "outputs": [
    {
     "output_type": "stream",
     "name": "stdout",
     "text": [
      "[1, 100, 2, 3, 2]\n[1, 100, 2, 3, 2, 1000]\n"
     ]
    }
   ],
   "source": [
    "l = [1,2,3,2]\n",
    "l.insert(1,100)\n",
    "print(l)\n",
    "l.insert(100,1000)\n",
    "print(l)"
   ]
  },
  {
   "cell_type": "code",
   "execution_count": 35,
   "metadata": {},
   "outputs": [
    {
     "output_type": "stream",
     "name": "stdout",
     "text": [
      "5\n[0, 1, 2, 3, 4]\n1\n[0, 2, 3, 4]\n"
     ]
    }
   ],
   "source": [
    "# pop[i] --返回i位置项，并从列表中删除；如果不提供参数，则删除最后一个项；如果提供，但是i超出索引范围，则异常IndexError\n",
    "l = [0,1,2,3,4,5]\n",
    "print(l.pop())\n",
    "print(l)\n",
    "print(l.pop(1))\n",
    "print(l)"
   ]
  },
  {
   "cell_type": "code",
   "execution_count": 37,
   "metadata": {},
   "outputs": [
    {
     "output_type": "stream",
     "name": "stdout",
     "text": [
      "index out of range\n"
     ]
    }
   ],
   "source": [
    "l = [0,2,3,4]\n",
    "try:\n",
    "    l.pop(100)#超出范围，则报错异常\n",
    "except IndexError:\n",
    "    print(\"index out of range\")"
   ]
  },
  {
   "cell_type": "code",
   "execution_count": 39,
   "metadata": {},
   "outputs": [
    {
     "output_type": "stream",
     "name": "stdout",
     "text": [
      "[1, 3, 1, 2, 3]\nthere is no 10 value\n"
     ]
    }
   ],
   "source": [
    "#remove(value) 删除列表中第一次出现的value,如果列表中没有value，则异常valueError\n",
    "l = [1,2,3,1,2,3]\n",
    "l.remove(2)\n",
    "print(l)\n",
    "try:\n",
    "    l.remove(10)\n",
    "except ValueError:\n",
    "    print(\"there is no 10 value\")"
   ]
  },
  {
   "cell_type": "code",
   "execution_count": 40,
   "metadata": {},
   "outputs": [
    {
     "output_type": "stream",
     "name": "stdout",
     "text": [
      "[3, 2, 1]\n"
     ]
    }
   ],
   "source": [
    "# reverse() 列表反转\n",
    "l = [1,2,3]\n",
    "l.reverse()\n",
    "print(l)"
   ]
  },
  {
   "cell_type": "code",
   "execution_count": 41,
   "metadata": {},
   "outputs": [
    {
     "output_type": "stream",
     "name": "stdout",
     "text": [
      "[1, 5, 10, 20, 30]\n"
     ]
    }
   ],
   "source": [
    "#sort() 列表排序\n",
    "#sort(cmp = None, key = None, reverse = False)\n",
    "l5 = [10,5,20,1,30]\n",
    "l5.sort()\n",
    "print(l5)"
   ]
  },
  {
   "cell_type": "code",
   "execution_count": 46,
   "metadata": {},
   "outputs": [
    {
     "output_type": "stream",
     "name": "stdout",
     "text": [
      "['faf', 'abc', 'bbb', 'bcd', 'cde']\n"
     ]
    }
   ],
   "source": [
    "l7 = [\"bcd\", \"abc\", \"cde\", \"bbb\", \"faf\"]\n",
    "l7.sort(key = lambda s: s[1])\n",
    "print (l7) #['faf', 'abc', 'bbb', 'bcd', 'cde']"
   ]
  },
  {
   "cell_type": "code",
   "execution_count": 53,
   "metadata": {},
   "outputs": [
    {
     "output_type": "stream",
     "name": "stdout",
     "text": [
      "[1, 2, 3]\n(1, 2, 3)\n"
     ]
    }
   ],
   "source": [
    "# 元组\n",
    "l = [1,2,3]\n",
    "print(l)\n",
    "\n",
    "t = tuple(l)\n",
    "print(t)"
   ]
  },
  {
   "cell_type": "code",
   "execution_count": 55,
   "metadata": {},
   "outputs": [
    {
     "output_type": "stream",
     "name": "stdout",
     "text": [
      "Name:jianye; Age:20\n"
     ]
    }
   ],
   "source": [
    "# 元组打印语句\n",
    "name = \"jianye\"\n",
    "age = 20\n",
    "print((\"Name:%s; Age:%d\") % (name,age))"
   ]
  },
  {
   "cell_type": "code",
   "execution_count": 57,
   "metadata": {},
   "outputs": [
    {
     "output_type": "stream",
     "name": "stdout",
     "text": [
      "2\n"
     ]
    }
   ],
   "source": [
    "#count(value)\n",
    "t = (1,2,3,1,2,3)\n",
    "print(t.count(1))"
   ]
  },
  {
   "cell_type": "code",
   "execution_count": 58,
   "metadata": {},
   "outputs": [
    {
     "output_type": "stream",
     "name": "stdout",
     "text": [
      "2\ntuple.index(x): x not in tuple\n"
     ]
    }
   ],
   "source": [
    "#index(value,[start,[stop]])\n",
    "t = (1,2,3,1,2,3)\n",
    "print(t.index(3))#\n",
    "try:\n",
    "    print(t.index(4))\n",
    "except ValueError as V:\n",
    "    print(V)#there is no 4 in tuple"
   ]
  },
  {
   "cell_type": "code",
   "execution_count": 61,
   "metadata": {},
   "outputs": [
    {
     "output_type": "stream",
     "name": "stdout",
     "text": [
      "{'1': 'one', '2': 'two', '3': 'three'}\n{'1': 'one', '2': 'two'}\n1--->one\n2--->two\n"
     ]
    }
   ],
   "source": [
    "# 字典\n",
    "d = {}\n",
    "d[\"1\"] = \"one\"\n",
    "d[\"2\"] = \"two\"\n",
    "d[\"3\"] = \"three\"\n",
    "\n",
    "print(d)\n",
    "\n",
    "del d[\"3\"]\n",
    "\n",
    "print(d)\n",
    "\n",
    "for key, value in d.items():\n",
    "    print(\"%s--->%s\" % (key,value))"
   ]
  },
  {
   "cell_type": "code",
   "execution_count": 62,
   "metadata": {},
   "outputs": [
    {
     "output_type": "stream",
     "name": "stdout",
     "text": [
      "{}\n"
     ]
    }
   ],
   "source": [
    "#clear()函数\n",
    "d1 = {\"1\":\"one\", \"2\":\"two\"}\n",
    "d1.clear()\n",
    "print(d1)"
   ]
  },
  {
   "cell_type": "code",
   "execution_count": 64,
   "metadata": {},
   "outputs": [
    {
     "output_type": "stream",
     "name": "stdout",
     "text": [
      "{'1': 'one', '2': 'two'}\nTrue\nFalse\n"
     ]
    }
   ],
   "source": [
    "#copy() 返回字典的一个副本\n",
    "d1 = {\"1\":\"one\",\"2\":\"two\"}\n",
    "d2 = d1.copy()\n",
    "print(d2)\n",
    "print(d1==d2)\n",
    "print(d1 is d2)\n",
    "#浅复制值相同，但是对象不同，内存地址不同。"
   ]
  },
  {
   "cell_type": "code",
   "execution_count": 66,
   "metadata": {},
   "outputs": [
    {
     "output_type": "stream",
     "name": "stdout",
     "text": [
      "{1: None, 2: None, 3: None}\n{1: 'default', 2: 'default', 3: 'default'}\n"
     ]
    }
   ],
   "source": [
    "#dict.fromkeys(seq,val=None)创建并返回一个新字典，以序列seq中元素做字典的键，val为字典所有键对应的初始值(默认为None)\n",
    "l = [1,2,3]\n",
    "t = (1,2,3)\n",
    "\n",
    "d3 = {}.fromkeys(l)\n",
    "print(d3)\n",
    "\n",
    "d4 = {}.fromkeys(t,\"default\")\n",
    "print(d4)"
   ]
  },
  {
   "cell_type": "code",
   "execution_count": 67,
   "metadata": {},
   "outputs": [
    {
     "output_type": "stream",
     "name": "stdout",
     "text": [
      "one\nNone\ntest\n"
     ]
    }
   ],
   "source": [
    "#get(key,[default])\n",
    "d5 = {1:\"one\",2:\"two\",3:\"three\"}\n",
    "print(d5.get(1))\n",
    "print(d5.get(5))\n",
    "print(d5.get(5,\"test\"))"
   ]
  },
  {
   "cell_type": "code",
   "execution_count": 69,
   "metadata": {},
   "outputs": [
    {
     "output_type": "stream",
     "name": "stdout",
     "text": [
      "True\nFalse\n"
     ]
    }
   ],
   "source": [
    "#has_key(key)判断是否有键值\n",
    "d6 = {1:\"one\",2:\"two\",3:\"three\"}\n",
    "# print(d6.has_key(1))\n",
    "# print(d6.has_key(5))#python2.x\n",
    "print(d6.__contains__(1))\n",
    "print(d6.__contains__(5))"
   ]
  },
  {
   "cell_type": "code",
   "execution_count": 72,
   "metadata": {},
   "outputs": [
    {
     "output_type": "stream",
     "name": "stdout",
     "text": [
      "(1, 'one')\n(2, 'two')\n(3, 'three')\n1--->one\n2--->two\n3--->three\n"
     ]
    }
   ],
   "source": [
    "#items()\n",
    "d7 = {1:\"one\", 2:\"two\", 3:\"three\"}\n",
    "for item in d7.items():\n",
    "    print(item)\n",
    "for key,value in d7.items():\n",
    "    print(\"%s--->%s\"%(key,value))"
   ]
  },
  {
   "cell_type": "code",
   "execution_count": 73,
   "metadata": {},
   "outputs": [
    {
     "output_type": "stream",
     "name": "stdout",
     "text": [
      "1\n2\n3\n"
     ]
    }
   ],
   "source": [
    "#keys()\n",
    "d8 = {1:\"one\", 2:\"two\", 3:\"three\"}\n",
    "for key in d8.keys():\n",
    "    print(key)"
   ]
  },
  {
   "cell_type": "code",
   "execution_count": 79,
   "metadata": {},
   "outputs": [
    {
     "output_type": "stream",
     "name": "stdout",
     "text": [
      "one\n{2: 'two', 3: 'three'}\nNone\nkeyError 5\n"
     ]
    }
   ],
   "source": [
    "#pop(key,[default]) 若字典中key键存在，删除并返回dict[key]，若不存在，且未给出default值，引发KeyError异常\n",
    "d9 = {1:\"one\", 2:\"two\", 3:\"three\"}\n",
    "print(d9.pop(1))\n",
    "print(d9)\n",
    "print(d9.pop(5,None))\n",
    "\n",
    "try:\n",
    "    d9.pop(5)\n",
    "except KeyError as ke:\n",
    "    print(\"keyError\", ke)"
   ]
  },
  {
   "cell_type": "code",
   "execution_count": 81,
   "metadata": {},
   "outputs": [
    {
     "output_type": "stream",
     "name": "stdout",
     "text": [
      "(3, 'three')\n{1: 'one', 2: 'two'}\n"
     ]
    }
   ],
   "source": [
    "#popitem() 删除任意键值对，并返回该键值对，如果字典为空，则产生异常KeyError\n",
    "d10 = {1:\"one\", 2:\"two\", 3:\"three\"}\n",
    "print(d10.popitem())\n",
    "print(d10)"
   ]
  },
  {
   "cell_type": "code",
   "execution_count": 85,
   "metadata": {},
   "outputs": [
    {
     "output_type": "stream",
     "name": "stdout",
     "text": [
      "one\nNone\n{1: 'one', 2: 'two', 3: 'three', 5: None}\nsix\n{1: 'one', 2: 'two', 3: 'three', 5: None, 6: 'six'}\n"
     ]
    }
   ],
   "source": [
    "# setdefault(key,[default])若字典中有key，则返回vlaue值，若没有key，则加上该key，值为default，默认None\n",
    "d = {1:\"one\", 2:\"two\", 3:\"three\"}\n",
    "print(d.setdefault(1))\n",
    "print(d.setdefault(5))\n",
    "print(d)\n",
    "print(d.setdefault(6,\"six\"))\n",
    "print(d)"
   ]
  },
  {
   "cell_type": "code",
   "execution_count": 86,
   "metadata": {},
   "outputs": [
    {
     "output_type": "stream",
     "name": "stdout",
     "text": [
      "{1: 'first', 2: 'two', 3: 'three', 4: 'forth'}\n"
     ]
    }
   ],
   "source": [
    "#update(dict2)把dict2的元素加入到dict中去，键值重复时会覆盖dict中的键值\n",
    "d = {1:\"one\", 2:\"two\", 3:\"three\"}\n",
    "d2 = {1:\"first\", 4:\"forth\"}\n",
    "\n",
    "d.update(d2)\n",
    "print(d)\n"
   ]
  },
  {
   "cell_type": "code",
   "execution_count": 92,
   "metadata": {},
   "outputs": [
    {
     "output_type": "stream",
     "name": "stdout",
     "text": [
      "1 - one\n2 - two\n3 - three\n"
     ]
    }
   ],
   "source": [
    "#viewitems()返回一个view对象，（key, value）pair的列表，类似于视图。优点是，如果字典发生变化，view会同步发生变化。在 迭代过程中，字典不允许改变，否则会报异常\n",
    "#viewitems(),iteritems() --> items()\n",
    "d = {1:\"one\", 2:\"two\", 3:\"three\"}\n",
    "for key, value in d.items():\n",
    "    print (\"%s - %s\" % (key, value))"
   ]
  },
  {
   "cell_type": "code",
   "execution_count": 95,
   "metadata": {},
   "outputs": [
    {
     "output_type": "stream",
     "name": "stdout",
     "text": [
      "1\n2\n3\n"
     ]
    }
   ],
   "source": [
    "# viewkeys()返回一个view对象，key的列表\n",
    "# viewkeys() --> keys()\n",
    "d = {1:\"one\",2:\"two\",3:\"three\"}\n",
    "for key in d.keys():\n",
    "    print(key)"
   ]
  },
  {
   "cell_type": "code",
   "execution_count": 97,
   "metadata": {},
   "outputs": [
    {
     "output_type": "stream",
     "name": "stdout",
     "text": [
      "one\ntwo\nthree\n"
     ]
    }
   ],
   "source": [
    "d = {1:\"one\", 2:\"two\", 3:\"three\"}\n",
    "for value in d.values():\n",
    "    print (value)\n",
    "#one\n",
    "#two\n",
    "#three"
   ]
  },
  {
   "cell_type": "code",
   "execution_count": 99,
   "metadata": {},
   "outputs": [
    {
     "output_type": "stream",
     "name": "stdout",
     "text": [
      "one\nfour\n['zero', 'one', 'two', 'three', 'four']\n['three', 'four']\n['zero', 'one']\n['two', 'three']\n['one', 'two', 'three']\n"
     ]
    }
   ],
   "source": [
    "# 序列\n",
    "numbers = [\"zero\",\"one\",\"two\",\"three\",\"four\"]\n",
    "print(numbers[1])\n",
    "print(numbers[-1])\n",
    "print(numbers[:])\n",
    "print(numbers[3:])\n",
    "print(numbers[:2])\n",
    "print(numbers[2:4])\n",
    "print(numbers[1:-1])"
   ]
  },
  {
   "cell_type": "code",
   "execution_count": null,
   "metadata": {},
   "outputs": [],
   "source": []
  }
 ]
}