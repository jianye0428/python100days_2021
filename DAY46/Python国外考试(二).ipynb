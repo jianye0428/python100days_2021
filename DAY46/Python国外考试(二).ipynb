{
 "metadata": {
  "language_info": {
   "codemirror_mode": {
    "name": "ipython",
    "version": 3
   },
   "file_extension": ".py",
   "mimetype": "text/x-python",
   "name": "python",
   "nbconvert_exporter": "python",
   "pygments_lexer": "ipython3",
   "version": "3.6.9"
  },
  "orig_nbformat": 2,
  "kernelspec": {
   "name": "python369jvsc74a57bd031f2aee4e71d21fbe5cf8b01ff0e069b9275f58929596ceb00d14d90e3e16cd6",
   "display_name": "Python 3.6.9 64-bit"
  },
  "metadata": {
   "interpreter": {
    "hash": "31f2aee4e71d21fbe5cf8b01ff0e069b9275f58929596ceb00d14d90e3e16cd6"
   }
  }
 },
 "nbformat": 4,
 "nbformat_minor": 2,
 "cells": [
  {
   "cell_type": "code",
   "execution_count": 4,
   "metadata": {},
   "outputs": [
    {
     "output_type": "stream",
     "name": "stdout",
     "text": [
      "c ab de\nb a \ne d \ncbaed\n"
     ]
    }
   ],
   "source": [
    "def fn(a):\n",
    "    if len(a) < 2:\n",
    "        return a \n",
    "    m = len(a) // 2\n",
    "    print(a[m],a[:m],a[m+1:])\n",
    "    return a[m] + fn(a[:m]) + fn(a[m+1:])\n",
    "if __name__ == '__main__':\n",
    "    print(fn('abcde'))"
   ]
  },
  {
   "cell_type": "code",
   "execution_count": 8,
   "metadata": {},
   "outputs": [
    {
     "output_type": "stream",
     "name": "stdout",
     "text": [
      "1.5\n1\n1\n2\n"
     ]
    }
   ],
   "source": [
    "print(3/2)\n",
    "print(3//2)\n",
    "print(9//7)\n",
    "print(9%7)"
   ]
  },
  {
   "cell_type": "code",
   "execution_count": 10,
   "metadata": {},
   "outputs": [
    {
     "output_type": "stream",
     "name": "stdout",
     "text": [
      "[3, 2, 15, 9, 5]\n"
     ]
    }
   ],
   "source": [
    "def fn(nums,lo,hi):\n",
    "    if hi<lo:\n",
    "        return\n",
    "    m = (lo + hi) // 2\n",
    "    s = 0\n",
    "    for i in range(lo, hi+1):\n",
    "        s += nums[i]\n",
    "    nums[m] = s\n",
    "    fn(nums, lo, m-1)\n",
    "    fn(nums, m+1, hi)\n",
    "if __name__ == '__main__':\n",
    "    test = [1,2,3,4,5]\n",
    "    fn(test,0,len(test)-1)\n",
    "    print(test)"
   ]
  },
  {
   "cell_type": "code",
   "execution_count": 14,
   "metadata": {},
   "outputs": [
    {
     "output_type": "stream",
     "name": "stdout",
     "text": [
      "1\n4\n13\n40\n121\n364\n"
     ]
    }
   ],
   "source": [
    "def tulip(n):\n",
    "    if n == 0:\n",
    "        return 1\n",
    "    else:\n",
    "        return tulip(n-1) + 3**n\n",
    "\n",
    "if __name__ == '__main__':\n",
    "    n = int(input(\"Please input a number: \"))\n",
    "    for i in range(n+1):\n",
    "        print(tulip(i))"
   ]
  },
  {
   "cell_type": "code",
   "execution_count": null,
   "metadata": {},
   "outputs": [],
   "source": []
  }
 ]
}