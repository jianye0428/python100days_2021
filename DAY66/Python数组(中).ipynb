{
 "metadata": {
  "language_info": {
   "codemirror_mode": {
    "name": "ipython",
    "version": 3
   },
   "file_extension": ".py",
   "mimetype": "text/x-python",
   "name": "python",
   "nbconvert_exporter": "python",
   "pygments_lexer": "ipython3",
   "version": "3.6.9"
  },
  "orig_nbformat": 2,
  "kernelspec": {
   "name": "python369jvsc74a57bd031f2aee4e71d21fbe5cf8b01ff0e069b9275f58929596ceb00d14d90e3e16cd6",
   "display_name": "Python 3.6.9 64-bit"
  },
  "metadata": {
   "interpreter": {
    "hash": "31f2aee4e71d21fbe5cf8b01ff0e069b9275f58929596ceb00d14d90e3e16cd6"
   }
  }
 },
 "nbformat": 4,
 "nbformat_minor": 2,
 "cells": [
  {
   "cell_type": "code",
   "execution_count": null,
   "metadata": {},
   "outputs": [],
   "source": [
    "#找出数组中重复的数字。\n",
    "#在一个长度为 n 的数组 nums 里的所有数字都在 0～n-1 的范围内。数组中某些数字是重复的，但不知道有几个数字重复了，也不知道每个数字重复了几次。请找出数组中任意一个重复的数字。\n",
    "#\n",
    "# 示例 1：\n",
    "#\n",
    "# 输入：\n",
    "#[2, 3, 1, 0, 2, 5, 3]\n",
    "#输出：2 或 3\n",
    "#\n",
    "# 限制：\n",
    "# 2 <= n <= 100000\n",
    "# Related Topics 数组 哈希表"
   ]
  },
  {
   "cell_type": "code",
   "execution_count": 1,
   "metadata": {},
   "outputs": [
    {
     "output_type": "stream",
     "name": "stdout",
     "text": [
      "2\n"
     ]
    }
   ],
   "source": [
    "def findRepeatNumber(nums):\n",
    "    nums.sort()\n",
    "    for i in range(len(nums)):\n",
    "        if nums[i] == nums[i+1]:\n",
    "            return nums[i]\n",
    "nums = [2, 3, 1, 0, 2, 5, 3]\n",
    "print(findRepeatNumber(nums))"
   ]
  },
  {
   "cell_type": "code",
   "execution_count": 3,
   "metadata": {},
   "outputs": [
    {
     "output_type": "stream",
     "name": "stdout",
     "text": [
      "2\n"
     ]
    }
   ],
   "source": [
    "# Hash Map\n",
    "def findRepeatNumber(nums):\n",
    "    dict = {}\n",
    "    for i in nums:\n",
    "        if i not in dict:\n",
    "            dict[i] = 0\n",
    "        else:\n",
    "            return i\n",
    "nums = [2, 3, 1, 0, 2, 5, 3]\n",
    "print(findRepeatNumber(nums)) "
   ]
  },
  {
   "cell_type": "code",
   "execution_count": null,
   "metadata": {},
   "outputs": [],
   "source": [
    "# LeetCode 第 5 题：最长回文子串\n",
    "# #给定一个字符串 s，找到 s 中最长的回文子串。你可以假设 s 的最大长度为 1000。\n",
    "#\n",
    "# 示例 1：\n",
    "#\n",
    "# 输入: \"babad\"\n",
    "#输出: \"bab\"\n",
    "#注意: \"aba\" 也是一个有效答案。\n",
    "# 示例 2：\n",
    "#\n",
    "# 输入: \"cbbd\"\n",
    "#输出: \"bb\""
   ]
  },
  {
   "cell_type": "code",
   "execution_count": 6,
   "metadata": {},
   "outputs": [
    {
     "output_type": "stream",
     "name": "stdout",
     "text": [
      "gttg\n"
     ]
    }
   ],
   "source": [
    "def longestPalindrome(s):\n",
    "    res = \"\"\n",
    "    for i in range(len(s)):\n",
    "        #奇数回文\n",
    "        tmp = helper(s, i, i)\n",
    "        if len(tmp) > len(res):\n",
    "            res = tmp\n",
    "        #偶数回文\n",
    "        tmp = helper(s, i, i+1)\n",
    "        if len(tmp) > len(res):\n",
    "            res = tmp\n",
    "    return res\n",
    "\n",
    "def helper(s,l,r):\n",
    "    #中心扩散\n",
    "    while l>=0 and r<len(s) and s[l]==s[r]:\n",
    "        l -= 1\n",
    "        r += 1\n",
    "    return s[l+1:r]\n",
    "\n",
    "if __name__ == '__main__':\n",
    "    print(longestPalindrome('abasfggttg'))"
   ]
  },
  {
   "cell_type": "code",
   "execution_count": null,
   "metadata": {},
   "outputs": [],
   "source": [
    "#LeetCode 最大子序和\n",
    "#给定一个整数数组 nums ，找到一个具有最大和的连续子数组（子数组最少包含一个元素），返回其最大和。\n",
    "#\n",
    "# 示例:\n",
    "#\n",
    "# 输入: [-2,1,-3,4,-1,2,1,-5,4],\n",
    "#输出: 6\n",
    "#解释: 连续子数组 [4,-1,2,1] 的和最大，为 6。"
   ]
  },
  {
   "cell_type": "code",
   "execution_count": 9,
   "metadata": {},
   "outputs": [
    {
     "output_type": "stream",
     "name": "stdout",
     "text": [
      "6\n"
     ]
    }
   ],
   "source": [
    "def maxSubArray(nums):\n",
    "    cur_sum = max_sum = nums[0]\n",
    "    for i in range(1,len(nums)):\n",
    "        cur_sum = max(nums[i], cur_sum + nums[i])\n",
    "        max_sum = max(cur_sum, max_sum)\n",
    "    return max_sum\n",
    "print(maxSubArray([-2,1,-3,4,-1,2,1,-5,4]))"
   ]
  },
  {
   "cell_type": "code",
   "execution_count": null,
   "metadata": {},
   "outputs": [],
   "source": [
    "#给你两个有序整数数组 nums1 和 nums2，请你将 nums2 合并到 nums1 中，使 nums1 成为一个有序数组。\n",
    "# 初始化 nums1 和 nums2 的元素数量分别为 m 和 n 。\n",
    "# 你可以假设 nums1 有足够的空间（空间大小大于或等于 m + n）来保存 nums2 中的元素。\n",
    "# 输入:\n",
    "#nums1 = [1,2,3,0,0,0], m = 3\n",
    "#nums2 = [2,5,6], n = 3\n",
    "#\n",
    "#输出: [1,2,2,3,5,6]"
   ]
  },
  {
   "cell_type": "code",
   "execution_count": 20,
   "metadata": {},
   "outputs": [
    {
     "output_type": "stream",
     "name": "stdout",
     "text": [
      "[1, 2, 2, 3, 5, 6]\n[1, 2, 3, 4, 5, 6]\n"
     ]
    }
   ],
   "source": [
    "def merge(nums1,m,nums2,n):\n",
    "    nums1[:] =  sorted(nums1[:m] + nums2[:n])\n",
    "    return nums1\n",
    "nums1 = [1,2,3,0,0,0]\n",
    "nums2 = [2,5,6]\n",
    "print(merge(nums1,3,nums2,3))"
   ]
  },
  {
   "cell_type": "code",
   "execution_count": 22,
   "metadata": {},
   "outputs": [
    {
     "output_type": "stream",
     "name": "stdout",
     "text": [
      "[1, 2, 2, 3, 5, 6]\n"
     ]
    }
   ],
   "source": [
    "def merge(nums1, m, nums2, n):\n",
    "    #make a copy\n",
    "    nums1_copy = nums1[:m]\n",
    "    nums1[:] = []\n",
    "    \n",
    "    p1 = 0\n",
    "    p2 = 0\n",
    "\n",
    "    while p1 < m and p2 < n:\n",
    "        if nums1_copy[p1] < nums2[p2]:\n",
    "            nums1.append(nums1_copy[p1])\n",
    "            p1 += 1\n",
    "        else:\n",
    "            nums1.append(nums2[p2])\n",
    "            p2 += 1\n",
    "    if p1 < m:\n",
    "        nums1[p1+p2:] = nums1_copy[p1:]\n",
    "    if p2 < n:\n",
    "        nums1[p1+p2:] = nums2[p2:]\n",
    "    return nums1\n",
    "\n",
    "nums1 = [1,2,3,0,0,0]\n",
    "nums2 = [2,5,6]\n",
    "print(merge(nums1,3,nums2,3))"
   ]
  },
  {
   "cell_type": "code",
   "execution_count": null,
   "metadata": {},
   "outputs": [],
   "source": [
    "# LeetCode 第118题 :杨辉三角\n",
    "#给定一个非负整数 numRows，生成杨辉三角的前 numRows 行。\n",
    "# 在杨辉三角中，每个数是它左上方和右上方的数的和。\n",
    "#\n",
    "# 示例:\n",
    "#\n",
    "# 输入: 5\n",
    "#输出:\n",
    "#[\n",
    "# [1],\n",
    "# [1,1],\n",
    "# [1,2,1],\n",
    "# [1,3,3,1],\n",
    "# [1,4,6,4,1]\n",
    "#]\n",
    "# Related Topics 数组"
   ]
  },
  {
   "cell_type": "code",
   "execution_count": 26,
   "metadata": {},
   "outputs": [
    {
     "output_type": "stream",
     "name": "stdout",
     "text": [
      "[[1], [1, 1], [1, 2, 1], [1, 3, 3, 1], [1, 4, 6, 4, 1]]\n"
     ]
    }
   ],
   "source": [
    "def generate(numRows):\n",
    "    if numRows == 0:\n",
    "        return []\n",
    "    triangle = [[1]]\n",
    "    if numRows == 1:\n",
    "        return triangle\n",
    "    for i in range(1, numRows):\n",
    "        tmp = [1]\n",
    "        for j in range(1, i):\n",
    "            tmp.append(triangle[i-1][j-1]+triangle[i-1][j])\n",
    "        tmp.append(1)\n",
    "        triangle.append(tmp)\n",
    "    return triangle\n",
    "print(generate(5))"
   ]
  },
  {
   "cell_type": "code",
   "execution_count": 25,
   "metadata": {},
   "outputs": [
    {
     "output_type": "stream",
     "name": "stdout",
     "text": [
      "1\n2\n3\n4\n"
     ]
    }
   ],
   "source": [
    "for i in range(1,5):\n",
    "    print(i)"
   ]
  },
  {
   "cell_type": "code",
   "execution_count": null,
   "metadata": {},
   "outputs": [],
   "source": []
  }
 ]
}