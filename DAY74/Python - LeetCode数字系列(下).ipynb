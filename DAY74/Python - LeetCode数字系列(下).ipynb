{
 "metadata": {
  "language_info": {
   "codemirror_mode": {
    "name": "ipython",
    "version": 3
   },
   "file_extension": ".py",
   "mimetype": "text/x-python",
   "name": "python",
   "nbconvert_exporter": "python",
   "pygments_lexer": "ipython3",
   "version": "3.6.9"
  },
  "orig_nbformat": 2,
  "kernelspec": {
   "name": "python369jvsc74a57bd031f2aee4e71d21fbe5cf8b01ff0e069b9275f58929596ceb00d14d90e3e16cd6",
   "display_name": "Python 3.6.9 64-bit"
  },
  "metadata": {
   "interpreter": {
    "hash": "31f2aee4e71d21fbe5cf8b01ff0e069b9275f58929596ceb00d14d90e3e16cd6"
   }
  }
 },
 "nbformat": 4,
 "nbformat_minor": 2,
 "cells": [
  {
   "cell_type": "code",
   "execution_count": null,
   "metadata": {},
   "outputs": [],
   "source": [
    "# LeetCode 第 69题：x 的平方根\n",
    "# 实现 int sqrt(int x) 函数。 \n",
    "# 计算并返回 x 的平方根，其中 x 是非负整数。 \n",
    "# 由于返回类型是整数，结果只保留整数的部分，小数部分将被舍去。 \n",
    "# 示例 1: \n",
    "# 输入: 4\n",
    "#输出: 2\n",
    "# 示例 2: \n",
    "# 输入: 8\n",
    "#输出: 2\n",
    "#说明: 8 的平方根是 2.82842..., \n",
    "#     由于返回类型是整数，小数部分将被舍去。\n",
    "# Related Topics 数学 二分查找"
   ]
  },
  {
   "cell_type": "code",
   "execution_count": null,
   "metadata": {},
   "outputs": [],
   "source": [
    "class Solution:\n",
    "    def mySqrt(self, x):\n",
    "        l, r = 0, x\n",
    "        while l <= r:\n",
    "            mid = l + (r-l)/2\n",
    "            if mid * mid <= x < (mid+1)*(mid+1):\n",
    "                return mid\n",
    "            elif x < mid*mid:\n",
    "                r = mid\n",
    "            else:\n",
    "                l = mid + 1"
   ]
  },
  {
   "cell_type": "code",
   "execution_count": 1,
   "metadata": {},
   "outputs": [],
   "source": [
    "# 牛顿法\n",
    "class Solution:\n",
    "    def mySqrt(self, x):\n",
    "        if x < 2:\n",
    "            return x\n",
    "        r0 = x\n",
    "        r1 = (r0 + x/r0)/2\n",
    "        while abs(r0 - r1) >= 1:\n",
    "            r0 = r1\n",
    "            r1 = (r1 + x/r1)/2\n",
    "        return int(r1)"
   ]
  },
  {
   "cell_type": "code",
   "execution_count": null,
   "metadata": {},
   "outputs": [],
   "source": [
    "# LeetCode 第 169题：多数元素\n",
    "#给定一个大小为 n 的数组，找到其中的多数元素。多数元素是指在数组中出现次数大于 ⌊ n/2 ⌋ 的元素。\n",
    "# 你可以假设数组是非空的，并且给定的数组总是存在多数元素。\n",
    "# 示例 1:\n",
    "# 输入: [3,2,3]\n",
    "#输出: 3\n",
    "# 示例 2:\n",
    "# 输入: [2,2,1,1,1,2,2]\n",
    "#输出: 2\n",
    "#\n",
    "# Related Topics 位运算 数组 分治算法"
   ]
  },
  {
   "cell_type": "code",
   "execution_count": null,
   "metadata": {},
   "outputs": [],
   "source": [
    "import collections\n",
    "class Solution(object):\n",
    "    def majorityElement(self, nums):\n",
    "        k = collections.Counter(nums)\n",
    "        [(i,j)] = k.most_common(1)\n",
    "        return i\n"
   ]
  },
  {
   "cell_type": "code",
   "execution_count": null,
   "metadata": {},
   "outputs": [],
   "source": [
    "# 哈希表\n",
    "class Solution(object):\n",
    "    def majorityElement(self, nums):\n",
    "        d = {}\n",
    "        for i in nums:\n",
    "            d[i] = d.get(i,0) + 1\n",
    "            if d[i] > len(nums)/2:\n",
    "                return i"
   ]
  },
  {
   "cell_type": "code",
   "execution_count": 2,
   "metadata": {},
   "outputs": [
    {
     "output_type": "stream",
     "name": "stdout",
     "text": [
      "0\n"
     ]
    }
   ],
   "source": [
    "d = {}\n",
    "print(d.get(1,0))"
   ]
  },
  {
   "cell_type": "code",
   "execution_count": null,
   "metadata": {},
   "outputs": [],
   "source": [
    "# LeetCode 第 171题：Excel表列序号\n",
    "#给定一个Excel表格中的列名称，返回其相应的列序号。\n",
    "# 例如，\n",
    "# A -> 1\n",
    "# B -> 2\n",
    "# C -> 3\n",
    "# ...\n",
    "# Z -> 26\n",
    "# AA -> 27\n",
    "# AB -> 28\n",
    "# ...\n",
    "# 示例 1:\n",
    "# 输入: \"A\"\n",
    "#输出: 1\n",
    "# 示例 2:\n",
    "# 输入: \"AB\"\n",
    "#输出: 28\n",
    "# 示例 3:\n",
    "# 输入: \"ZY\"\n",
    "#输出: 701\n",
    "# Related Topics 数学"
   ]
  },
  {
   "cell_type": "code",
   "execution_count": null,
   "metadata": {},
   "outputs": [],
   "source": [
    "# 26进制转换为10进制\n",
    "def titleToNumver(self,s):\n",
    "    dct = {\"A\": 1, \"B\": 2, \"C\": 3, \"D\": 4, \"E\": 5, \"F\": 6, \"G\": 7, \"H\": 8, \"I\": 9, \"J\": 10, \"K\": 11, \"L\": 12, \"M\": 13, \"N\": 14, \"O\": 15, \"P\": 16, \"Q\": 17, \"R\": 18, \"S\": 19, \"T\": 20, \"U\": 21, \"V\": 22, \"W\": 23, \"X\": 24, \"Y\": 25, \"Z\": 26}\n",
    "    return sum(26**i*dct[j] for i, j in enumerate(s[::-1])])"
   ]
  },
  {
   "cell_type": "code",
   "execution_count": null,
   "metadata": {},
   "outputs": [],
   "source": [
    "class Solution:\n",
    "    def titleToNumber(self, s):\n",
    "        return sum( [(ord(s[i])-64) * 26 ** (len(s)-1-i) for i in range(len(s))])"
   ]
  },
  {
   "cell_type": "code",
   "execution_count": 4,
   "metadata": {},
   "outputs": [
    {
     "output_type": "stream",
     "name": "stdout",
     "text": [
      "ji\n"
     ]
    }
   ],
   "source": [
    "print(\"ji\")"
   ]
  },
  {
   "cell_type": "code",
   "execution_count": null,
   "metadata": {},
   "outputs": [],
   "source": [
    "# LeetCode 第 231题： 2的幂\n",
    "#给定一个整数，编写一个函数来判断它是否是 2 的幂次方。 \n",
    "# 示例 1: \n",
    "# 输入: 1\n",
    "#输出: true\n",
    "#解释: 2^0 = 1 \n",
    "# 示例 2: \n",
    "# 输入: 16\n",
    "#输出: true\n",
    "#解释: 2^4 = 16 \n",
    "# 示例 3: \n",
    "# 输入: 218\n",
    "#输出: false \n",
    "# Related Topics 位运算 数学\n"
   ]
  },
  {
   "cell_type": "code",
   "execution_count": null,
   "metadata": {},
   "outputs": [],
   "source": [
    "class Solution:\n",
    "    def isPowerofTwo(self, n):\n",
    "        return n>0 and n&(n-1) == 0"
   ]
  },
  {
   "cell_type": "code",
   "execution_count": null,
   "metadata": {},
   "outputs": [],
   "source": [
    "# LeetCode 第 279题： 完全平方数\n",
    "# #给定正整数 n，找到若干个完全平方数（比如 1, 4, 9, 16, ...）使得它们的和等于 n。你需要让组成和的完全平方数的个数最少。 \n",
    "# 示例 1: \n",
    "# 输入: n = 12\n",
    "#输出: 3 \n",
    "#解释: 12 = 4 + 4 + 4. \n",
    "# 示例 2: \n",
    "# 输入: n = 13\n",
    "#输出: 2\n",
    "#解释: 13 = 4 + 9. \n",
    "# Related Topics 广度优先搜索 数学 动态规划"
   ]
  },
  {
   "cell_type": "code",
   "execution_count": null,
   "metadata": {},
   "outputs": [],
   "source": [
    "def numSquares(self, n):\n",
    "    dp = [i for i in range(n+1)]\n",
    "\n",
    "    for i in range(2, n+1):\n",
    "        for j in range(int(i**0.5)+1):\n",
    "            dp[i] = min(dp[i], dp[i-j*j]+1)\n",
    "    return dp[n]"
   ]
  }
 ]
}