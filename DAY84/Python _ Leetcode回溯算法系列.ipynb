{
 "cells": [
  {
   "cell_type": "code",
   "execution_count": null,
   "metadata": {},
   "outputs": [],
   "source": [
    "class Solution:\n",
    "    def solveNQuees(self, n):\n",
    "        res = []\n",
    "        s = \".\" * n\n",
    "        def backtrack(i, tmp, col, z_diagonal, f_diagonal):\n",
    "            if i==n:\n",
    "                res.append(tmp)\n",
    "                return\n",
    "            for j in range(n):\n",
    "                if j not in col and i+j not in z_diagonal and i-j not in f_diagonal:\n",
    "                    backtrack(i+1,tmp+[s[:j] + \"Q\" + s[j+1:]], col | {j}, z_diagonal|{i+j}, f_diagonal|{i-j})\n",
    "        backtrack(0,[],set(),set(),set())\n",
    "        return res"
   ]
  },
  {
   "cell_type": "code",
   "execution_count": null,
   "metadata": {},
   "outputs": [],
   "source": [
    "# Leetcode第46题，全排列\n",
    "#给定一个 没有重复 数字的序列，返回其所有可能的全排列。\n",
    "# 示例:\n",
    "# 输入: [1,2,3]\n",
    "#输出:\n",
    "#[\n",
    "# [1,2,3],\n",
    "# [1,3,2],\n",
    "# [2,1,3],\n",
    "# [2,3,1],\n",
    "# [3,1,2],\n",
    "# [3,2,1]\n",
    "#]\n",
    "# Related Topics 回溯算法"
   ]
  },
  {
   "cell_type": "code",
   "execution_count": null,
   "metadata": {},
   "outputs": [],
   "source": [
    "class Solution:\n",
    "    def permute(self, nums):\n",
    "        res = []\n",
    "        def _backtrack(nums, pre_list):\n",
    "            if len(nums) <= 0:\n",
    "                res.append(pre_list)\n",
    "            else:\n",
    "                for i in nums:\n",
    "                    p_list = pre_list.copy()\n",
    "                    p_list.append(i)\n",
    "                    left_nums = nums.copy()\n",
    "                    left_nums.remove(i)\n",
    "                    _backtrack(left_nums, p_list)\n",
    "        _backtrack(nums, [])\n",
    "        return res\n"
   ]
  },
  {
   "cell_type": "code",
   "execution_count": 1,
   "metadata": {},
   "outputs": [
    {
     "name": "stdout",
     "output_type": "stream",
     "text": [
      "[[1, 2, 3], [1, 3, 2], [2, 1, 3], [2, 3, 1], [3, 1, 2], [3, 2, 1]]\n"
     ]
    }
   ],
   "source": [
    "class Solution:\n",
    "    def __init__(self):\n",
    "        self.res =[]\n",
    "    def permute(self, nums):\n",
    "        self.back_trace(nums,[])\n",
    "        return self.res\n",
    "    def back_trace(self, nums, tmp):\n",
    "        if not nums:\n",
    "            self.res.append(tmp)\n",
    "        else:\n",
    "            for i in range(len(nums)):\n",
    "                self.back_trace(nums[:i]+nums[i+1:], tmp + [nums[i]])\n",
    "solver = Solution()\n",
    "print(solver.permute([1,2,3]))"
   ]
  },
  {
   "cell_type": "code",
   "execution_count": null,
   "metadata": {},
   "outputs": [],
   "source": [
    "# Leetcode第39题，组合总和\n",
    "#给定一个无重复元素的数组 candidates 和一个目标数 target ，找出 candidates 中所有可以使数字和为 target 的组合。\n",
    "# candidates 中的数字可以无限制重复被选取。\n",
    "# 说明：\n",
    "# 所有数字（包括 target）都是正整数。\n",
    "# 解集不能包含重复的组合。\n",
    "# 示例 1:\n",
    "# 输入: candidates = [2,3,6,7], target = 7,\n",
    "#所求解集为:\n",
    "#[\n",
    "# [7],\n",
    "# [2,2,3]\n",
    "#]\n",
    "# 示例 2:\n",
    "# 输入: candidates = [2,3,5], target = 8,\n",
    "#所求解集为:\n",
    "#[\n",
    "# [2,2,2,2],\n",
    "# [2,3,3],\n",
    "# [3,5]\n",
    "#]\n",
    "# Related Topics 数组 回溯算法"
   ]
  },
  {
   "cell_type": "code",
   "execution_count": 3,
   "metadata": {},
   "outputs": [
    {
     "name": "stdout",
     "output_type": "stream",
     "text": [
      "[[2, 2, 2, 2], [2, 3, 3], [3, 5]]\n"
     ]
    }
   ],
   "source": [
    "class Solution:    \n",
    "    def combinationSum(self, candidates, target):\n",
    "        if(not candidates):\n",
    "            return []\n",
    "        n = len(candidates)\n",
    "        res = []\n",
    "        candidates.sort()\n",
    "        def helper(i, tmp, target):\n",
    "            if(target == 0):\n",
    "                res.append(tmp)\n",
    "                return\n",
    "            if(i==n or target<candidates[i]):\n",
    "                return\n",
    "            helper(i, tmp+[candidates[i]], target-candidates[i])\n",
    "            helper(i+1, tmp, target)\n",
    "        helper(0, [], target)\n",
    "        return res\n",
    "\n",
    "solver = Solution()\n",
    "print(solver.combinationSum([2,3,5],8))"
   ]
  },
  {
   "cell_type": "code",
   "execution_count": null,
   "metadata": {},
   "outputs": [],
   "source": []
  }
 ],
 "metadata": {
  "kernelspec": {
   "display_name": "Python 3.6.9 64-bit",
   "name": "python369jvsc74a57bd031f2aee4e71d21fbe5cf8b01ff0e069b9275f58929596ceb00d14d90e3e16cd6"
  },
  "language_info": {
   "codemirror_mode": {
    "name": "ipython",
    "version": 3
   },
   "file_extension": ".py",
   "mimetype": "text/x-python",
   "name": "python",
   "nbconvert_exporter": "python",
   "pygments_lexer": "ipython3",
   "version": "3.6.9"
  },
  "metadata": {
   "interpreter": {
    "hash": "31f2aee4e71d21fbe5cf8b01ff0e069b9275f58929596ceb00d14d90e3e16cd6"
   }
  },
  "orig_nbformat": 2
 },
 "nbformat": 4,
 "nbformat_minor": 2
}