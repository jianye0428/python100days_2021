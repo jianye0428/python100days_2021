{
 "metadata": {
  "language_info": {
   "codemirror_mode": {
    "name": "ipython",
    "version": 3
   },
   "file_extension": ".py",
   "mimetype": "text/x-python",
   "name": "python",
   "nbconvert_exporter": "python",
   "pygments_lexer": "ipython3",
   "version": "3.6.9"
  },
  "orig_nbformat": 2,
  "kernelspec": {
   "name": "python3",
   "display_name": "Python 3.6.9 64-bit",
   "metadata": {
    "interpreter": {
     "hash": "30295c5bec572e859485b1ffa5e89b8b3e2022ef6e3e739c1ac40f143a557caf"
    }
   }
  }
 },
 "nbformat": 4,
 "nbformat_minor": 2,
 "cells": [
  {
   "cell_type": "code",
   "execution_count": 2,
   "metadata": {},
   "outputs": [
    {
     "output_type": "stream",
     "name": "stdout",
     "text": [
      "第0个参数是：/home/jianye/.local/lib/python3.6/site-packages/ipykernel_launcher.py\n第1个参数是：--ip=127.0.0.1\n第2个参数是：--stdin=9013\n第3个参数是：--control=9011\n第4个参数是：--hb=9010\n第5个参数是：--Session.signature_scheme=\"hmac-sha256\"\n第6个参数是：--Session.key=b\"76f06b67-4acb-498c-8e40-2063b0fab42b\"\n第7个参数是：--shell=9012\n第8个参数是：--transport=\"tcp\"\n第9个参数是：--iopub=9014\n第10个参数是：--f=/tmp/tmp-7195LLxfdkub7Uec.json\n"
     ]
    }
   ],
   "source": [
    "#sys模块\n",
    "import sys\n",
    "for index,arg in enumerate(sys.argv):\n",
    "    print(\"第%d个参数是：%s\" % (index,arg))"
   ]
  },
  {
   "cell_type": "code",
   "execution_count": 3,
   "metadata": {},
   "outputs": [
    {
     "output_type": "stream",
     "name": "stdout",
     "text": [
      "/home/jianye/.local/lib/python3.6/site-packages/ipykernel_launcher.py\n--ip=127.0.0.1\n"
     ]
    }
   ],
   "source": [
    "import sys\n",
    "print(sys.argv[0])\n",
    "print(sys.argv[1])"
   ]
  },
  {
   "cell_type": "code",
   "execution_count": 4,
   "metadata": {},
   "outputs": [
    {
     "output_type": "execute_result",
     "data": {
      "text/plain": [
       "['/home/jianye/python100days_2021/DAY11',\n",
       " '',\n",
       " '/opt/ros/melodic/lib/python2.7/dist-packages',\n",
       " '/home/jianye/.vscode/extensions/ms-toolsai.jupyter-2021.2.603412351/pythonFiles',\n",
       " '/home/jianye/.vscode/extensions/ms-toolsai.jupyter-2021.2.603412351/pythonFiles/lib/python',\n",
       " '/usr/lib/python36.zip',\n",
       " '/usr/lib/python3.6',\n",
       " '/usr/lib/python3.6/lib-dynload',\n",
       " '/home/jianye/.local/lib/python3.6/site-packages',\n",
       " '/usr/local/lib/python3.6/dist-packages',\n",
       " '/usr/lib/python3/dist-packages',\n",
       " '/usr/lib/python3/dist-packages/IPython/extensions',\n",
       " '/home/jianye/.ipython']"
      ]
     },
     "metadata": {},
     "execution_count": 4
    }
   ],
   "source": [
    "import sys\n",
    "sys.path"
   ]
  },
  {
   "cell_type": "code",
   "execution_count": 6,
   "metadata": {},
   "outputs": [
    {
     "output_type": "stream",
     "name": "stdout",
     "text": [
      "\n"
     ]
    }
   ],
   "source": [
    "import sys\n",
    "s = sys.stdin.readline()"
   ]
  },
  {
   "cell_type": "code",
   "execution_count": 7,
   "metadata": {},
   "outputs": [],
   "source": [
    "s = input(\"Please input something!\")"
   ]
  },
  {
   "cell_type": "code",
   "execution_count": 8,
   "metadata": {},
   "outputs": [
    {
     "output_type": "stream",
     "name": "stdout",
     "text": [
      "Please input something:\n"
     ]
    }
   ],
   "source": [
    "print(\"Please input something:\")\n",
    "s = sys.stdin.readline()[:-1]"
   ]
  },
  {
   "cell_type": "code",
   "execution_count": 9,
   "metadata": {},
   "outputs": [
    {
     "output_type": "stream",
     "name": "stdout",
     "text": [
      "[8, 10]\n"
     ]
    }
   ],
   "source": [
    "# 15 列表推导式\n",
    "list1 = [1,2,3,4,5]\n",
    "list2 = [i*2 for i in list1 if i>3]\n",
    "print(list2)"
   ]
  },
  {
   "cell_type": "code",
   "execution_count": 10,
   "metadata": {},
   "outputs": [
    {
     "output_type": "stream",
     "name": "stdout",
     "text": [
      "14\n"
     ]
    }
   ],
   "source": [
    "# *args 和 **args的区别\n",
    "def powersum(power, *args):\n",
    "    total = 0\n",
    "    for i in args:\n",
    "        total += pow(i,power)\n",
    "    return total\n",
    "print(powersum(2,1,2,3))"
   ]
  },
  {
   "cell_type": "code",
   "execution_count": 12,
   "metadata": {},
   "outputs": [
    {
     "output_type": "stream",
     "name": "stdout",
     "text": [
      "key:a;value:one\nkey:b;value:two\nkey:c;value:three\n"
     ]
    }
   ],
   "source": [
    "def displaydic(**args):\n",
    "    for key,value in args.items():\n",
    "        print(\"key:%s;value:%s\" % (key,value))\n",
    "displaydic(a=\"one\", b=\"two\",c=\"three\")"
   ]
  },
  {
   "cell_type": "code",
   "execution_count": 13,
   "metadata": {},
   "outputs": [
    {
     "output_type": "stream",
     "name": "stdout",
     "text": [
      "RunsenRunsenRunsen\n"
     ]
    }
   ],
   "source": [
    "# lambda 函数\n",
    "func = lambda s:s*3\n",
    "print(func(\"Runsen\"))"
   ]
  },
  {
   "cell_type": "code",
   "execution_count": 15,
   "metadata": {},
   "outputs": [
    {
     "output_type": "stream",
     "name": "stdout",
     "text": [
      "6\n"
     ]
    }
   ],
   "source": [
    "func2 = lambda a,b:a*b\n",
    "print(func2(2,3))"
   ]
  },
  {
   "cell_type": "code",
   "execution_count": 22,
   "metadata": {},
   "outputs": [
    {
     "output_type": "stream",
     "name": "stdout",
     "text": [
      "hello world\n25\n"
     ]
    }
   ],
   "source": [
    "# exec/eval\n",
    "cmd = \"print('hello world')\"\n",
    "exec(cmd)   #hello world\n",
    "\n",
    "expression = \"10 * 2 + 5\"\n",
    "print(eval(expression))    #25"
   ]
  },
  {
   "cell_type": "code",
   "execution_count": 23,
   "metadata": {},
   "outputs": [
    {
     "output_type": "stream",
     "name": "stdout",
     "text": [
      "v0: 0\nv1: 1\nv2: 2\nv3: 3\nv4: 4\nv5: 5\nv6: 6\nv7: 7\n"
     ]
    }
   ],
   "source": [
    "for i in range(8):\n",
    "    exec('v'+str(i)+'='+str(i))\n",
    "    print('v'+str(i)+':',eval('v'+str(i)))"
   ]
  },
  {
   "cell_type": "code",
   "execution_count": 24,
   "metadata": {},
   "outputs": [
    {
     "output_type": "stream",
     "name": "stdout",
     "text": [
      "failed\n"
     ]
    }
   ],
   "source": [
    "# assert\n",
    "flag = True\n",
    "assert flag == True\n",
    "try:\n",
    "    assert flag == False\n",
    "except AssertionError:\n",
    "    print(\"failed\")\n",
    "else:\n",
    "    print(\"pass\")"
   ]
  },
  {
   "cell_type": "code",
   "execution_count": 25,
   "metadata": {},
   "outputs": [
    {
     "output_type": "stream",
     "name": "stdout",
     "text": [
      "[1, 2, 3]\n[1, 2, 3]\n"
     ]
    }
   ],
   "source": [
    "# repr\n",
    "arr = [1,2,3]\n",
    "print(arr)\n",
    "print(repr(arr))"
   ]
  },
  {
   "cell_type": "code",
   "execution_count": null,
   "metadata": {},
   "outputs": [],
   "source": []
  }
 ]
}